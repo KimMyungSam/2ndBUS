{
 "cells": [
  {
   "cell_type": "markdown",
   "metadata": {},
   "source": [
    "# 페이스북 메신저\n",
    "\n",
    "<img width=\"400\" src=\"http://i.imgur.com/MJbStLw.jpg\" />\n",
    "\n",
    "#### 2017 http://fb.com/plusjune"
   ]
  },
  {
   "cell_type": "markdown",
   "metadata": {
    "collapsed": true,
    "deletable": true,
    "editable": true
   },
   "source": [
    "# 주요 과정\n",
    "\n",
    "### 1) 새 앱 ID 만들기\n",
    "* https://developers.facebook.com/apps\n",
    "* 앱 ID 만들고 토큰을 발급\n",
    "* 페이지와 앱을 만든 이후 (승인 심사)\n",
    "\n",
    "### 2) 환경 구성\n",
    "* Flask 설치\n",
    "* ngrok 설치\n",
    "\n",
    "### 3) 실행\n",
    "* ngrok 실행\n",
    "* 봇 서버 실행\n",
    "\n",
    "### 4) Webhooks 설정\n",
    "* ngrok 에서 만들어진 주소를 페이스북 페이지 Webhook에 등록\n"
   ]
  },
  {
   "cell_type": "markdown",
   "metadata": {
    "collapsed": true,
    "deletable": true,
    "editable": true
   },
   "source": [
    "# 환경 구성\n",
    "\n",
    "\n",
    "## flask 설치\n",
    "* Django(장고)와 함께 파이썬 양대 웹프레임워크\n",
    "\n",
    "```bash\n",
    "sudo pip3 install flask\n",
    "```\n",
    "\n",
    "## ngrok 설치\n",
    "* https://ngrok.com\n",
    "* 해당 운영 체제의 프로그램을 다운로드하고 압축 해제\n",
    "\n",
    "```bash\n",
    "$ wget https://bin.equinox.io/c/4VmDzA7iaHb/ngrok-stable-linux-amd64.zip\n",
    "$ unzip ngrok-stable-linux-amd64.zip\n",
    "```\n",
    "\n",
    "* 실행\n",
    "\n",
    "```bash\n",
    "$ ./ngrok http 5000 \n",
    "```"
   ]
  },
  {
   "cell_type": "markdown",
   "metadata": {
    "deletable": true,
    "editable": true
   },
   "source": [
    "# 간단한 메시지 보내기 "
   ]
  },
  {
   "cell_type": "code",
   "execution_count": 2,
   "metadata": {
    "collapsed": false,
    "deletable": true,
    "editable": true
   },
   "outputs": [
    {
     "name": "stdout",
     "output_type": "stream",
     "text": [
      "b'{\"recipient_id\":\"1233699533354688\",\"message_id\":\"mid.1480451272611:cf23288242\"}'\n"
     ]
    }
   ],
   "source": [
    "# 단방향 송신\n",
    "\n",
    "import requests\n",
    "import json\n",
    "\n",
    "# 소스코드내 ACCESS_TOKEN은 수정해야 합니다.\n",
    "ACCESS_TOKEN = \"EAAaBPQZCtblIBAPDDm0FgTqrJk......6n0dZAMbiKEoh2ZAZCMUTWfEWtKtBAZDZD\" \n",
    "\n",
    "def send_message(user_id, msg):\n",
    "    data = {\n",
    "        \"recipient\": {\"id\": user_id},\n",
    "        \"message\": {\"text\": msg}\n",
    "    }\n",
    "    r = requests.post(\"https://graph.facebook.com/v2.6/me/messages?access_token=\" + ACCESS_TOKEN, # json=data)\n",
    "        data=json.dumps(data), headers = {'content-type':'application/json'})\n",
    "    print(r.content)\n",
    "\n",
    "send_message('1233699533354688', '안녕하십니까?')\n"
   ]
  },
  {
   "cell_type": "markdown",
   "metadata": {
    "deletable": true,
    "editable": true
   },
   "source": [
    "# 에코봇 만들기"
   ]
  },
  {
   "cell_type": "code",
   "execution_count": 5,
   "metadata": {
    "collapsed": false,
    "deletable": true,
    "editable": true
   },
   "outputs": [
    {
     "name": "stdout",
     "output_type": "stream",
     "text": [
      "Overwriting echo.py\n"
     ]
    }
   ],
   "source": [
    "%%writefile echo.py\n",
    "#!/usr/bin/env python3\n",
    "#-*- coding: utf-8 -*-\n",
    "\n",
    "import logging\n",
    "import requests\n",
    "import urllib\n",
    "import random\n",
    "from bs4 import BeautifulSoup\n",
    "from flask import Flask, request\n",
    "import json\n",
    "\n",
    "app = Flask(__name__)\n",
    " \n",
    "# 소스코드내 ACCESS_TOKEN은 수정해야 합니다.\n",
    "ACCESS_TOKEN = \"EAAaBPQZCtblIBAPDDm0FgTqrJk......6n0dZAMbiKEoh2ZAZCMUTWfEWtKtBAZDZD\" \n",
    "\n",
    "def reply(user_id, msg):\n",
    "    data = {\n",
    "        \"recipient\": {\"id\": user_id},\n",
    "        \"message\": {\"text\": msg}\n",
    "    }\n",
    "    r = requests.post(\"https://graph.facebook.com/v2.6/me/messages?access_token=\" + ACCESS_TOKEN, # json=data)\n",
    "        data=json.dumps(data), headers = {'content-type':'application/json'})\n",
    "    print(r.content)\n",
    "\n",
    "@app.route('/', methods=['GET'])\n",
    "def handle_verification():\n",
    "    return request.args['hub.challenge']\n",
    "\n",
    "@app.route('/', methods=['POST'])\n",
    "def handle_incoming_messages():\n",
    "    data = request.json\n",
    "    sender = data['entry'][0]['messaging'][0]['sender']['id']\n",
    "    message = ''\n",
    "    try:\n",
    "        message = data['entry'][0]['messaging'][0]['message']['text']\n",
    "    except:\n",
    "        message = '?'\n",
    "        \n",
    "    print(json.dumps(data))\n",
    "    print('## sender:', sender)\n",
    "    print('## message:', message)\n",
    "    \n",
    "    reply(sender, message) \n",
    "    return \"ok\"\n",
    "\n",
    "if __name__ == '__main__':\n",
    "    app.run(debug=True, port=5000)\n"
   ]
  },
  {
   "cell_type": "markdown",
   "metadata": {
    "deletable": true,
    "editable": true
   },
   "source": [
    "위 코드는 다음과 같이 실행 ( Webhook 등록하고 ngrok 실행 중인 상태에서)\n",
    "\n",
    "```bash\n",
    "$ ./ngrok http 5000 \n",
    "```\n",
    "\n",
    "```bash\n",
    "# 소스코드내 ACCESS_TOKEN은 수정해야 합니다.\n",
    "$ wget https://goo.gl/xOgfWX -O echo.py\n",
    "$ python3 echo.py\n",
    "```\n"
   ]
  },
  {
   "cell_type": "markdown",
   "metadata": {
    "deletable": true,
    "editable": true
   },
   "source": [
    "# 참고문헌\n",
    "\n",
    "(참고) Getting Started\n",
    "* https://developers.facebook.com/docs/messenger-platform/quickstart\n",
    "\n",
    "참고 자료\n",
    "* https://goo.gl/S1y5dd BUILDING A FACEBOOK MESSENGER BOT WITH PYTHON <br> 가장 간편하면서 핵심만 잘 설명된 문서\n",
    "* https://blog.outsider.ne.kr/1159 ngrok으로 로컬 네트워크의 터널 열기\n"
   ]
  },
  {
   "cell_type": "markdown",
   "metadata": {},
   "source": [
    "#### 2017 http://fb.com/financedata"
   ]
  }
 ],
 "metadata": {
  "kernelspec": {
   "display_name": "Python 3",
   "language": "python",
   "name": "python3"
  },
  "language_info": {
   "codemirror_mode": {
    "name": "ipython",
    "version": 3
   },
   "file_extension": ".py",
   "mimetype": "text/x-python",
   "name": "python",
   "nbconvert_exporter": "python",
   "pygments_lexer": "ipython3",
   "version": "3.5.2"
  }
 },
 "nbformat": 4,
 "nbformat_minor": 1
}
