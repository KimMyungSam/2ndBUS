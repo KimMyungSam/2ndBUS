{
 "cells": [
  {
   "cell_type": "markdown",
   "metadata": {
    "slideshow": {
     "slide_type": "slide"
    }
   },
   "source": [
    "### 마켓 데이터 크롤링 100 - KRX 04 \n",
    "# 상세 가격 데이터 구축\n",
    "\n",
    "<img src=\"http://i.imgur.com/grQHNKG.jpg\">\n",
    "    \n",
    "#### 2017 FinanceData http://fb.com/financedata"
   ]
  },
  {
   "cell_type": "markdown",
   "metadata": {
    "slideshow": {
     "slide_type": "slide"
    }
   },
   "source": [
    "# 시가총액 순위 정보\n",
    "* 시장정보 → 주식 → 순위정보 → 시가총액 상/하위 정보로 가격 데이터 구축\n",
    "* http://marketdata.krx.co.kr/contents/MKD/04/0404/04040200/MKD04040200.jsp\n",
    "* 일별: 종목코드, 종목명, 현재가, 등락률, 거래량, 거래대금, 시가총액, 시가총액비중(%), 상장주식수(천주), 외국인, 보유주식수, 외국인, 지분율(%)\n",
    "* 1995-05-02 부터 현재까지 일자별"
   ]
  },
  {
   "cell_type": "code",
   "execution_count": 1,
   "metadata": {
    "collapsed": true,
    "slideshow": {
     "slide_type": "slide"
    }
   },
   "outputs": [],
   "source": [
    "import requests\n",
    "\n",
    "# STEP 01: Generate OTP\n",
    "gen_otp_url = 'http://marketdata.krx.co.kr/contents/COM/GenerateOTP.jspx'\n",
    "gen_otp_data = {\n",
    "    'name':'fileDown',\n",
    "    'filetype':'xls',\n",
    "    'url':'MKD/04/0404/04040200/mkd04040200_01',\n",
    "    'market_gubun':'ALL', #시장구분: ALL=전체, STK=코스피, KSQ=코스피, KNX=코넥스\n",
    "    'indx_ind_cd':'', \n",
    "    'sect_tp_cd':'',\n",
    "    'schdate':'20160601',\n",
    "    'pagePath':'/contents/MKD/04/0404/04040200/MKD04040200.jsp',\n",
    "}\n",
    "    \n",
    "r = requests.post(gen_otp_url, gen_otp_data)\n",
    "code = r.content\n",
    "\n",
    "# STEP 02: download\n",
    "down_url = 'http://file.krx.co.kr/download.jspx'\n",
    "down_data = {\n",
    "    'code': code,\n",
    "}\n",
    "\n",
    "r = requests.post(down_url, down_data)\n",
    "with open(\"marcap_data.xls\", 'wb') as f:\n",
    "    f.write(r.content)"
   ]
  },
  {
   "cell_type": "markdown",
   "metadata": {
    "slideshow": {
     "slide_type": "slide"
    }
   },
   "source": [
    "# stock_master_krx()"
   ]
  },
  {
   "cell_type": "code",
   "execution_count": 2,
   "metadata": {
    "collapsed": true,
    "slideshow": {
     "slide_type": "-"
    }
   },
   "outputs": [],
   "source": [
    "import pandas as pd\n",
    "import numpy as np\n",
    "import requests\n",
    "from io import BytesIO\n",
    "from datetime import datetime\n",
    "\n",
    "def stock_master_krx(date_str=None):\n",
    "    # 시가총액순위 정보를 DataFrame으로 반환\n",
    "    if date_str == None:\n",
    "        date_str = datetime.today().strftime('%Y%m%d')\n",
    "\n",
    "    # STEP 01: Generate OTP\n",
    "    gen_otp_url = 'http://marketdata.krx.co.kr/contents/COM/GenerateOTP.jspx'\n",
    "    gen_otp_data = {\n",
    "        'name':'fileDown',\n",
    "        'filetype':'xls',\n",
    "        'url':'MKD/04/0404/04040200/mkd04040200_01',\n",
    "        'market_gubun':'ALL', #시장구분: ALL=전체\n",
    "        'indx_ind_cd':'',\n",
    "        'sect_tp_cd':'',\n",
    "        'schdate': date_str,\n",
    "        'pagePath':'/contents/MKD/04/0404/04040200/MKD04040200.jsp',\n",
    "    }\n",
    "    \n",
    "    r = requests.post(gen_otp_url, gen_otp_data)\n",
    "    code = r.content\n",
    "    \n",
    "    # STEP 02: download\n",
    "    down_url = 'http://file.krx.co.kr/download.jspx'\n",
    "    down_data = {\n",
    "        'code': code,\n",
    "    }\n",
    "    \n",
    "    r = requests.post(down_url, down_data)\n",
    "    df = pd.read_excel(BytesIO(r.content), header=0, thousands=',', converters={'종목코드': str})\n",
    "    return df"
   ]
  },
  {
   "cell_type": "code",
   "execution_count": 12,
   "metadata": {
    "collapsed": false,
    "scrolled": true,
    "slideshow": {
     "slide_type": "slide"
    }
   },
   "outputs": [
    {
     "name": "stdout",
     "output_type": "stream",
     "text": [
      "종목수: 1787\n"
     ]
    },
    {
     "data": {
      "text/html": [
       "<div>\n",
       "<style>\n",
       "    .dataframe thead tr:only-child th {\n",
       "        text-align: right;\n",
       "    }\n",
       "\n",
       "    .dataframe thead th {\n",
       "        text-align: left;\n",
       "    }\n",
       "\n",
       "    .dataframe tbody tr th {\n",
       "        vertical-align: top;\n",
       "    }\n",
       "</style>\n",
       "<table border=\"1\" class=\"dataframe\">\n",
       "  <thead>\n",
       "    <tr style=\"text-align: right;\">\n",
       "      <th></th>\n",
       "      <th>종목코드</th>\n",
       "      <th>종목명</th>\n",
       "      <th>현재가</th>\n",
       "      <th>대비</th>\n",
       "      <th>등락률</th>\n",
       "      <th>거래량</th>\n",
       "      <th>거래대금</th>\n",
       "      <th>시가</th>\n",
       "      <th>고가</th>\n",
       "      <th>저가</th>\n",
       "      <th>시가총액</th>\n",
       "      <th>시가총액비중(%)</th>\n",
       "      <th>상장주식수(천주)</th>\n",
       "      <th>외국인 보유주식수</th>\n",
       "      <th>외국인 지분율(%)</th>\n",
       "    </tr>\n",
       "  </thead>\n",
       "  <tbody>\n",
       "    <tr>\n",
       "      <th>0</th>\n",
       "      <td>005930</td>\n",
       "      <td>삼성전자</td>\n",
       "      <td>665000</td>\n",
       "      <td>6000</td>\n",
       "      <td>0.9</td>\n",
       "      <td>358018</td>\n",
       "      <td>236617710000</td>\n",
       "      <td>660000</td>\n",
       "      <td>666000</td>\n",
       "      <td>656000</td>\n",
       "      <td>97954059105000</td>\n",
       "      <td>13.30</td>\n",
       "      <td>147299337</td>\n",
       "      <td>79309412</td>\n",
       "      <td>53.84</td>\n",
       "    </tr>\n",
       "    <tr>\n",
       "      <th>1</th>\n",
       "      <td>060000</td>\n",
       "      <td>국민은행</td>\n",
       "      <td>75100</td>\n",
       "      <td>-300</td>\n",
       "      <td>-0.4</td>\n",
       "      <td>956964</td>\n",
       "      <td>71309108700</td>\n",
       "      <td>75100</td>\n",
       "      <td>75900</td>\n",
       "      <td>74000</td>\n",
       "      <td>25262071611600</td>\n",
       "      <td>3.43</td>\n",
       "      <td>336379116</td>\n",
       "      <td>287389119</td>\n",
       "      <td>85.44</td>\n",
       "    </tr>\n",
       "    <tr>\n",
       "      <th>2</th>\n",
       "      <td>015760</td>\n",
       "      <td>한국전력</td>\n",
       "      <td>37300</td>\n",
       "      <td>100</td>\n",
       "      <td>0.3</td>\n",
       "      <td>1155189</td>\n",
       "      <td>42680099200</td>\n",
       "      <td>37000</td>\n",
       "      <td>37300</td>\n",
       "      <td>36650</td>\n",
       "      <td>23899921772900</td>\n",
       "      <td>3.24</td>\n",
       "      <td>640748573</td>\n",
       "      <td>192066477</td>\n",
       "      <td>29.98</td>\n",
       "    </tr>\n",
       "    <tr>\n",
       "      <th>3</th>\n",
       "      <td>005380</td>\n",
       "      <td>현대차</td>\n",
       "      <td>97000</td>\n",
       "      <td>-1400</td>\n",
       "      <td>-1.4</td>\n",
       "      <td>1231153</td>\n",
       "      <td>119324527000</td>\n",
       "      <td>98400</td>\n",
       "      <td>98900</td>\n",
       "      <td>95600</td>\n",
       "      <td>21248694094000</td>\n",
       "      <td>2.88</td>\n",
       "      <td>219058702</td>\n",
       "      <td>98428967</td>\n",
       "      <td>44.93</td>\n",
       "    </tr>\n",
       "    <tr>\n",
       "      <th>4</th>\n",
       "      <td>005490</td>\n",
       "      <td>POSCO</td>\n",
       "      <td>200500</td>\n",
       "      <td>-1000</td>\n",
       "      <td>-0.5</td>\n",
       "      <td>207084</td>\n",
       "      <td>41393114500</td>\n",
       "      <td>199000</td>\n",
       "      <td>201500</td>\n",
       "      <td>199000</td>\n",
       "      <td>17480960417500</td>\n",
       "      <td>2.37</td>\n",
       "      <td>87186835</td>\n",
       "      <td>59288792</td>\n",
       "      <td>68.00</td>\n",
       "    </tr>\n",
       "    <tr>\n",
       "      <th>5</th>\n",
       "      <td>000660</td>\n",
       "      <td>하이닉스</td>\n",
       "      <td>38100</td>\n",
       "      <td>500</td>\n",
       "      <td>1.3</td>\n",
       "      <td>13834043</td>\n",
       "      <td>520842229050</td>\n",
       "      <td>38100</td>\n",
       "      <td>38400</td>\n",
       "      <td>36850</td>\n",
       "      <td>17060138727000</td>\n",
       "      <td>2.32</td>\n",
       "      <td>447772670</td>\n",
       "      <td>84043632</td>\n",
       "      <td>18.77</td>\n",
       "    </tr>\n",
       "    <tr>\n",
       "      <th>6</th>\n",
       "      <td>053000</td>\n",
       "      <td>우리금융</td>\n",
       "      <td>20250</td>\n",
       "      <td>50</td>\n",
       "      <td>0.2</td>\n",
       "      <td>4324750</td>\n",
       "      <td>88552156450</td>\n",
       "      <td>20350</td>\n",
       "      <td>20900</td>\n",
       "      <td>20100</td>\n",
       "      <td>16321810635000</td>\n",
       "      <td>2.22</td>\n",
       "      <td>806015340</td>\n",
       "      <td>92496112</td>\n",
       "      <td>11.48</td>\n",
       "    </tr>\n",
       "    <tr>\n",
       "      <th>7</th>\n",
       "      <td>034220</td>\n",
       "      <td>LG필립스LCD</td>\n",
       "      <td>43300</td>\n",
       "      <td>-400</td>\n",
       "      <td>-0.9</td>\n",
       "      <td>903718</td>\n",
       "      <td>39173709500</td>\n",
       "      <td>44200</td>\n",
       "      <td>44400</td>\n",
       "      <td>42600</td>\n",
       "      <td>15493419810000</td>\n",
       "      <td>2.10</td>\n",
       "      <td>357815700</td>\n",
       "      <td>193301274</td>\n",
       "      <td>54.02</td>\n",
       "    </tr>\n",
       "    <tr>\n",
       "      <th>8</th>\n",
       "      <td>055550</td>\n",
       "      <td>신한지주</td>\n",
       "      <td>41400</td>\n",
       "      <td>-500</td>\n",
       "      <td>-1.2</td>\n",
       "      <td>1079858</td>\n",
       "      <td>44679754570</td>\n",
       "      <td>41900</td>\n",
       "      <td>42000</td>\n",
       "      <td>40900</td>\n",
       "      <td>14871182758200</td>\n",
       "      <td>2.02</td>\n",
       "      <td>359207313</td>\n",
       "      <td>205178878</td>\n",
       "      <td>57.12</td>\n",
       "    </tr>\n",
       "    <tr>\n",
       "      <th>9</th>\n",
       "      <td>017670</td>\n",
       "      <td>SK텔레콤</td>\n",
       "      <td>177000</td>\n",
       "      <td>-3000</td>\n",
       "      <td>-1.7</td>\n",
       "      <td>361744</td>\n",
       "      <td>64082216500</td>\n",
       "      <td>179500</td>\n",
       "      <td>180000</td>\n",
       "      <td>176000</td>\n",
       "      <td>14562977847000</td>\n",
       "      <td>1.98</td>\n",
       "      <td>82276711</td>\n",
       "      <td>40299364</td>\n",
       "      <td>48.98</td>\n",
       "    </tr>\n",
       "  </tbody>\n",
       "</table>\n",
       "</div>"
      ],
      "text/plain": [
       "     종목코드       종목명     현재가    대비  등락률       거래량          거래대금      시가  \\\n",
       "0  005930      삼성전자  665000  6000  0.9    358018  236617710000  660000   \n",
       "1  060000      국민은행   75100  -300 -0.4    956964   71309108700   75100   \n",
       "2  015760      한국전력   37300   100  0.3   1155189   42680099200   37000   \n",
       "3  005380       현대차   97000 -1400 -1.4   1231153  119324527000   98400   \n",
       "4  005490     POSCO  200500 -1000 -0.5    207084   41393114500  199000   \n",
       "5  000660      하이닉스   38100   500  1.3  13834043  520842229050   38100   \n",
       "6  053000      우리금융   20250    50  0.2   4324750   88552156450   20350   \n",
       "7  034220  LG필립스LCD   43300  -400 -0.9    903718   39173709500   44200   \n",
       "8  055550      신한지주   41400  -500 -1.2   1079858   44679754570   41900   \n",
       "9  017670     SK텔레콤  177000 -3000 -1.7    361744   64082216500  179500   \n",
       "\n",
       "       고가      저가            시가총액  시가총액비중(%)  상장주식수(천주)  외국인 보유주식수  외국인 지분율(%)  \n",
       "0  666000  656000  97954059105000      13.30  147299337   79309412       53.84  \n",
       "1   75900   74000  25262071611600       3.43  336379116  287389119       85.44  \n",
       "2   37300   36650  23899921772900       3.24  640748573  192066477       29.98  \n",
       "3   98900   95600  21248694094000       2.88  219058702   98428967       44.93  \n",
       "4  201500  199000  17480960417500       2.37   87186835   59288792       68.00  \n",
       "5   38400   36850  17060138727000       2.32  447772670   84043632       18.77  \n",
       "6   20900   20100  16321810635000       2.22  806015340   92496112       11.48  \n",
       "7   44400   42600  15493419810000       2.10  357815700  193301274       54.02  \n",
       "8   42000   40900  14871182758200       2.02  359207313  205178878       57.12  \n",
       "9  180000  176000  14562977847000       1.98   82276711   40299364       48.98  "
      ]
     },
     "execution_count": 12,
     "metadata": {},
     "output_type": "execute_result"
    }
   ],
   "source": [
    "# 1996-03-02, 1997-01-08 날짜의 데이터는 거래소 xlsx 파일 오류\n",
    "    \n",
    "date_str = datetime(2006, 1, 3).strftime('%Y%m%d')\n",
    "df = stock_master_krx(date_str)\n",
    "print('종목수:', len(df))\n",
    "df.head(10)"
   ]
  },
  {
   "cell_type": "markdown",
   "metadata": {
    "slideshow": {
     "slide_type": "slide"
    }
   },
   "source": [
    "# 날짜 생성"
   ]
  },
  {
   "cell_type": "code",
   "execution_count": 4,
   "metadata": {
    "collapsed": false,
    "slideshow": {
     "slide_type": "-"
    }
   },
   "outputs": [
    {
     "data": {
      "text/plain": [
       "DatetimeIndex(['2017-01-01', '2017-01-02', '2017-01-03', '2017-01-04',\n",
       "               '2017-01-05', '2017-01-06', '2017-01-07', '2017-01-08',\n",
       "               '2017-01-09', '2017-01-10', '2017-01-11', '2017-01-12',\n",
       "               '2017-01-13', '2017-01-14', '2017-01-15', '2017-01-16',\n",
       "               '2017-01-17', '2017-01-18', '2017-01-19', '2017-01-20',\n",
       "               '2017-01-21', '2017-01-22', '2017-01-23', '2017-01-24',\n",
       "               '2017-01-25', '2017-01-26', '2017-01-27', '2017-01-28',\n",
       "               '2017-01-29', '2017-01-30', '2017-01-31'],\n",
       "              dtype='datetime64[ns]', freq='D')"
      ]
     },
     "execution_count": 4,
     "metadata": {},
     "output_type": "execute_result"
    }
   ],
   "source": [
    "start = datetime(2017, 1, 1)\n",
    "end = datetime(2017, 1, 31)\n",
    "dates = pd.date_range(start=start, end=end)\n",
    "dates"
   ]
  },
  {
   "cell_type": "code",
   "execution_count": null,
   "metadata": {
    "collapsed": false,
    "slideshow": {
     "slide_type": "slide"
    }
   },
   "outputs": [
    {
     "name": "stdout",
     "output_type": "stream",
     "text": [
      "20170120, count:  2244\n",
      "20170121, count:  0\n",
      "20170122, count:  0\n",
      "20170123, count:  2244\n",
      "20170124, count:  2245\n",
      "20170125, count:  2246\n"
     ]
    }
   ],
   "source": [
    "# 날짜 xlsx 파일을 marcap_daily에 저장\n",
    "\n",
    "start = datetime(2017, 1, 20)\n",
    "end = datetime(2017, 1, 31)\n",
    "dates = pd.date_range(start=start, end=end)\n",
    "\n",
    "for date in dates:\n",
    "    date_str = date.strftime('%Y%m%d')\n",
    "    df = stock_master_krx(date_str)\n",
    "    print(date_str, end=', ')\n",
    "    print('count: ', len(df))"
   ]
  },
  {
   "cell_type": "code",
   "execution_count": null,
   "metadata": {
    "collapsed": true,
    "slideshow": {
     "slide_type": "slide"
    }
   },
   "outputs": [],
   "source": [
    "%%file krx_marcap_xlsx.py\n",
    "#!/usr/bin/python3\n",
    "\n",
    "import pandas as pd\n",
    "import numpy as np\n",
    "import requests\n",
    "from io import BytesIO\n",
    "import os\n",
    "from datetime import datetime, timedelta\n",
    "\n",
    "def stock_master_krx(date_str=None):\n",
    "    # 시가총액순위 정보를 DataFrame으로 반환\n",
    "    if date_str == None:\n",
    "        date_str = datetime.today().strftime('%Y%m%d')\n",
    "\n",
    "    # STEP 01: Generate OTP\n",
    "    gen_otp_url = 'http://marketdata.krx.co.kr/contents/COM/GenerateOTP.jspx'\n",
    "    gen_otp_data = {\n",
    "        'name':'fileDown',\n",
    "        'filetype':'xls',\n",
    "        'url':'MKD/04/0404/04040200/mkd04040200_01',\n",
    "        'market_gubun':'ALL', #시장구분: ALL=전체\n",
    "        'indx_ind_cd':'',\n",
    "        'sect_tp_cd':'',\n",
    "        'schdate': date_str,\n",
    "        'pagePath':'/contents/MKD/04/0404/04040200/MKD04040200.jsp',\n",
    "    }\n",
    "    \n",
    "    r = requests.post(gen_otp_url, gen_otp_data)\n",
    "    code = r.content\n",
    "    \n",
    "    # STEP 02: download\n",
    "    down_url = 'http://file.krx.co.kr/download.jspx'\n",
    "    down_data = {\n",
    "        'code': code,\n",
    "    }\n",
    "    \n",
    "    r = requests.post(down_url, down_data)\n",
    "    df = pd.read_excel(BytesIO(r.content), header=0, thousands=',', converters={'종목코드': str})\n",
    "    return df\n",
    "\n",
    "if __name__ == \"__main__\":\n",
    "    start = datetime(1996, 1, 1)\n",
    "    end = datetime.today() - timedelta(days=1)\n",
    "    dates = pd.date_range(start=start, end=end)\n",
    "\n",
    "    data_dir = './krx_marcap_xlsx'\n",
    "    if not os.path.exists(data_dir):\n",
    "        os.makedirs(data_dir)\n",
    "\n",
    "    for date in dates:\n",
    "        date_str = date.strftime('%Y%m%d')\n",
    "        fname = data_dir + '/' + 'marcap_' + date_str + '.xlsx'\n",
    "        if not os.path.isfile(fname):\n",
    "            print(date_str, end=', ')\n",
    "            df = stock_master_krx(date_str)\n",
    "            print('count: ', len(df))\n",
    "            df.to_excel(fname, index=False)"
   ]
  },
  {
   "cell_type": "markdown",
   "metadata": {
    "slideshow": {
     "slide_type": "-"
    }
   },
   "source": [
    "다음과 같이 실행\n",
    "\n",
    "```bash\n",
    "$ python3 krx_marcap_xlsx.py\n",
    "```"
   ]
  },
  {
   "cell_type": "code",
   "execution_count": null,
   "metadata": {
    "collapsed": true,
    "slideshow": {
     "slide_type": "slide"
    }
   },
   "outputs": [],
   "source": [
    "%%file krx_marcap_xlsx2sqlite.py\n",
    "#!/usr/bin/python3\n",
    "\n",
    "import pandas as pd\n",
    "import numpy as np\n",
    "from datetime import datetime, timedelta\n",
    "import os\n",
    "import sqlite3\n",
    "\n",
    "create_table_query = \"\"\"\n",
    "    CREATE TABLE IF NOT EXISTS \"marcap\" (\n",
    "        \"날짜\" TIMESTAMP,\n",
    "        \"종목코드\" TEXT,\n",
    "        \"종목명\" TEXT,\n",
    "        \"현재가\" INTEGER,\n",
    "        \"대비\" INTEGER,\n",
    "        \"등락률\" REAL,\n",
    "        \"거래량\" INTEGER,\n",
    "        \"거래대금\" INTEGER,\n",
    "        \"시가총액\" INTEGER,\n",
    "        \"시가총액비중(%)\" REAL,\n",
    "        \"상장주식수(천주)\" INTEGER,\n",
    "        \"외국인 보유주식수\" REAL,\n",
    "        \"외국인 지분율(%)\" REAL\n",
    "    );\n",
    "\n",
    "    CREATE INDEX IF NOT EXISTS \"ix_marcap_날짜\" ON \"marcap\" (\"날짜\");\n",
    "    CREATE INDEX IF NOT EXISTS \"ix_marcap_종목코드\" ON \"marcap\" (\"종목코드\");\n",
    "\"\"\"\n",
    "\n",
    "if __name__ == \"__main__\":\n",
    "    start = datetime(2000, 1, 1)\n",
    "    end = datetime.today() - timedelta(days=1) # yearterday\n",
    "    dates = pd.date_range(start=start, end=end)\n",
    "    \n",
    "    data_dir = './krx_marcap_xlsx'\n",
    "    if not os.path.exists(data_dir):\n",
    "        print(data_dir, ' not exists')\n",
    "        exit(1)\n",
    "\n",
    "    data_dir_to = './krx_marcap_sqlite'\n",
    "    if not os.path.exists(data_dir_to):\n",
    "        os.makedirs(data_dir_to)\n",
    "\n",
    "    db_fname = data_dir_to + '/' + 'marcap.db'\n",
    "    con = sqlite3.connect(db_fname)\n",
    "    con.executescript(create_table_query)\n",
    "\n",
    "    # db에 저장된 가장 최근 날짜\n",
    "    latest_date = str(datetime(1970, 1, 1))\n",
    "    df = pd.read_sql('select * from marcap order by \"날짜\" desc limit 1', con)\n",
    "    if len(df) > 0:\n",
    "        latest_date = df['날짜'][0]\n",
    "\n",
    "    for date in dates:\n",
    "        # skip previous date\n",
    "        if str(date) < latest_date:\n",
    "            continue\n",
    "            \n",
    "        # read .xlsx and write to sqlite\n",
    "        date_str = date.strftime('%Y%m%d')\n",
    "        fname = data_dir + '/' + 'marcap_' + date_str + '.xlsx'\n",
    "        df = pd.read_excel(fname)\n",
    "        df['날짜'] = date\n",
    "        df.set_index('날짜', inplace=True)\n",
    "        print(date_str, end=', ')\n",
    "        print('count: ', len(df))\n",
    "        df.to_sql('marcap', con, if_exists='append')\n",
    "    con.close()"
   ]
  },
  {
   "cell_type": "markdown",
   "metadata": {
    "slideshow": {
     "slide_type": "-"
    }
   },
   "source": [
    "다음과 같이 실행\n",
    "\n",
    "```bash\n",
    "$ python3 krx_marcap_xlsx2sqlite.py\n",
    "```"
   ]
  },
  {
   "cell_type": "markdown",
   "metadata": {
    "slideshow": {
     "slide_type": "notes"
    }
   },
   "source": [
    "----\n",
    "#### 2017 FinanceData http://fb.com/financedata http://financedata.github.com"
   ]
  }
 ],
 "metadata": {
  "celltoolbar": "Slideshow",
  "kernelspec": {
   "display_name": "Python 3",
   "language": "python",
   "name": "python3"
  },
  "language_info": {
   "codemirror_mode": {
    "name": "ipython",
    "version": 3
   },
   "file_extension": ".py",
   "mimetype": "text/x-python",
   "name": "python",
   "nbconvert_exporter": "python",
   "pygments_lexer": "ipython3",
   "version": "3.6.0"
  }
 },
 "nbformat": 4,
 "nbformat_minor": 1
}
