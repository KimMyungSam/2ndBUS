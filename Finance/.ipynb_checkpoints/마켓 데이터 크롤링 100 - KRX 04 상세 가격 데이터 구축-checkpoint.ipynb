{
 "cells": [
  {
   "cell_type": "markdown",
   "metadata": {
    "slideshow": {
     "slide_type": "slide"
    }
   },
   "source": [
    "### 마켓 데이터 크롤링 100 - KRX 04 \n",
    "# 상세 가격 데이터 구축\n",
    "\n",
    "<img src=\"http://i.imgur.com/grQHNKG.jpg\">\n",
    "    \n",
    "#### 2017 FinanceData http://fb.com/financedata"
   ]
  },
  {
   "cell_type": "markdown",
   "metadata": {
    "slideshow": {
     "slide_type": "slide"
    }
   },
   "source": [
    "# 시가총액 순위 정보\n",
    "* 시장정보 → 주식 → 순위정보 → 시가총액 상/하위 정보로 가격 데이터 구축\n",
    "* http://marketdata.krx.co.kr/contents/MKD/04/0404/04040200/MKD04040200.jsp\n",
    "* 일별: 종목코드, 종목명, 현재가, 등락률, 거래량, 거래대금, 시가총액, 시가총액비중(%), 상장주식수(천주), 외국인, 보유주식수, 외국인, 지분율(%)\n",
    "* 1995-05-02 부터 현재까지 일자별"
   ]
  },
  {
   "cell_type": "code",
   "execution_count": 1,
   "metadata": {
    "slideshow": {
     "slide_type": "slide"
    }
   },
   "outputs": [],
   "source": [
    "import requests\n",
    "\n",
    "# STEP 01: Generate OTP\n",
    "gen_otp_url = 'http://marketdata.krx.co.kr/contents/COM/GenerateOTP.jspx'\n",
    "gen_otp_data = {\n",
    "    'name':'fileDown',\n",
    "    'filetype':'xls',\n",
    "    'url':'MKD/04/0404/04040200/mkd04040200_01',\n",
    "    'market_gubun':'ALL', #시장구분: ALL=전체, STK=코스피, KSQ=코스피, KNX=코넥스\n",
    "    'indx_ind_cd':'', \n",
    "    'sect_tp_cd':'',\n",
    "    'schdate':'20160601',\n",
    "    'pagePath':'/contents/MKD/04/0404/04040200/MKD04040200.jsp',\n",
    "}\n",
    "    \n",
    "r = requests.post(gen_otp_url, gen_otp_data)\n",
    "code = r.content\n",
    "\n",
    "# STEP 02: download\n",
    "down_url = 'http://file.krx.co.kr/download.jspx'\n",
    "down_data = {\n",
    "    'code': code,\n",
    "}\n",
    "\n",
    "r = requests.post(down_url, down_data)\n",
    "with open(\"marcap_data.xls\", 'wb') as f:\n",
    "    f.write(r.content)"
   ]
  },
  {
   "cell_type": "markdown",
   "metadata": {
    "slideshow": {
     "slide_type": "slide"
    }
   },
   "source": [
    "# stock_master_krx()"
   ]
  },
  {
   "cell_type": "code",
   "execution_count": 2,
   "metadata": {
    "collapsed": true,
    "slideshow": {
     "slide_type": "-"
    }
   },
   "outputs": [],
   "source": [
    "import pandas as pd\n",
    "import numpy as np\n",
    "import requests\n",
    "from io import BytesIO\n",
    "from datetime import datetime\n",
    "\n",
    "def stock_master_krx(date_str=None):\n",
    "    # 시가총액순위 정보를 DataFrame으로 반환\n",
    "    if date_str == None:\n",
    "        date_str = datetime.today().strftime('%Y%m%d')\n",
    "\n",
    "    # STEP 01: Generate OTP\n",
    "    gen_otp_url = 'http://marketdata.krx.co.kr/contents/COM/GenerateOTP.jspx'\n",
    "    gen_otp_data = {\n",
    "        'name':'fileDown',\n",
    "        'filetype':'xls',\n",
    "        'url':'MKD/04/0404/04040200/mkd04040200_01',\n",
    "        'market_gubun':'ALL', #시장구분: ALL=전체\n",
    "        'indx_ind_cd':'',\n",
    "        'sect_tp_cd':'',\n",
    "        'schdate': date_str,\n",
    "        'pagePath':'/contents/MKD/04/0404/04040200/MKD04040200.jsp',\n",
    "    }\n",
    "    \n",
    "    r = requests.post(gen_otp_url, gen_otp_data)\n",
    "    code = r.content\n",
    "    \n",
    "    # STEP 02: download\n",
    "    down_url = 'http://file.krx.co.kr/download.jspx'\n",
    "    down_data = {\n",
    "        'code': code,\n",
    "    }\n",
    "    \n",
    "    r = requests.post(down_url, down_data)\n",
    "    df = pd.read_excel(BytesIO(r.content), header=0, thousands=',', converters={'종목코드': str})\n",
    "    return df"
   ]
  },
  {
   "cell_type": "code",
   "execution_count": 3,
   "metadata": {
    "slideshow": {
     "slide_type": "slide"
    }
   },
   "outputs": [
    {
     "name": "stdout",
     "output_type": "stream",
     "text": [
      "종목수: 2246\n"
     ]
    },
    {
     "data": {
      "text/html": [
       "<div>\n",
       "<style>\n",
       "    .dataframe thead tr:only-child th {\n",
       "        text-align: right;\n",
       "    }\n",
       "\n",
       "    .dataframe thead th {\n",
       "        text-align: left;\n",
       "    }\n",
       "\n",
       "    .dataframe tbody tr th {\n",
       "        vertical-align: top;\n",
       "    }\n",
       "</style>\n",
       "<table border=\"1\" class=\"dataframe\">\n",
       "  <thead>\n",
       "    <tr style=\"text-align: right;\">\n",
       "      <th></th>\n",
       "      <th>종목코드</th>\n",
       "      <th>종목명</th>\n",
       "      <th>현재가</th>\n",
       "      <th>대비</th>\n",
       "      <th>등락률</th>\n",
       "      <th>거래량</th>\n",
       "      <th>거래대금</th>\n",
       "      <th>시가</th>\n",
       "      <th>고가</th>\n",
       "      <th>저가</th>\n",
       "      <th>시가총액</th>\n",
       "      <th>시가총액비중(%)</th>\n",
       "      <th>상장주식수(천주)</th>\n",
       "      <th>외국인 보유주식수</th>\n",
       "      <th>외국인 지분율(%)</th>\n",
       "    </tr>\n",
       "  </thead>\n",
       "  <tbody>\n",
       "    <tr>\n",
       "      <th>0</th>\n",
       "      <td>005930</td>\n",
       "      <td>삼성전자</td>\n",
       "      <td>1956000</td>\n",
       "      <td>-17000</td>\n",
       "      <td>-0.9</td>\n",
       "      <td>283008</td>\n",
       "      <td>556882303240</td>\n",
       "      <td>1977000</td>\n",
       "      <td>1983000</td>\n",
       "      <td>1952000</td>\n",
       "      <td>275168783172000</td>\n",
       "      <td>17.74</td>\n",
       "      <td>140679337</td>\n",
       "      <td>71276920</td>\n",
       "      <td>50.67</td>\n",
       "    </tr>\n",
       "    <tr>\n",
       "      <th>1</th>\n",
       "      <td>000660</td>\n",
       "      <td>SK하이닉스</td>\n",
       "      <td>54000</td>\n",
       "      <td>300</td>\n",
       "      <td>0.6</td>\n",
       "      <td>2813046</td>\n",
       "      <td>152598833428</td>\n",
       "      <td>54300</td>\n",
       "      <td>54900</td>\n",
       "      <td>53700</td>\n",
       "      <td>39312127710000</td>\n",
       "      <td>2.53</td>\n",
       "      <td>728002365</td>\n",
       "      <td>370034209</td>\n",
       "      <td>50.83</td>\n",
       "    </tr>\n",
       "    <tr>\n",
       "      <th>2</th>\n",
       "      <td>005935</td>\n",
       "      <td>삼성전자우</td>\n",
       "      <td>1565000</td>\n",
       "      <td>-6000</td>\n",
       "      <td>-0.4</td>\n",
       "      <td>53250</td>\n",
       "      <td>83744528025</td>\n",
       "      <td>1571000</td>\n",
       "      <td>1586000</td>\n",
       "      <td>1561000</td>\n",
       "      <td>32103513255000</td>\n",
       "      <td>2.07</td>\n",
       "      <td>20513427</td>\n",
       "      <td>15947012</td>\n",
       "      <td>77.74</td>\n",
       "    </tr>\n",
       "    <tr>\n",
       "      <th>3</th>\n",
       "      <td>005380</td>\n",
       "      <td>현대차</td>\n",
       "      <td>139500</td>\n",
       "      <td>0</td>\n",
       "      <td>0.0</td>\n",
       "      <td>446549</td>\n",
       "      <td>62393845500</td>\n",
       "      <td>140000</td>\n",
       "      <td>141000</td>\n",
       "      <td>139000</td>\n",
       "      <td>30728568820500</td>\n",
       "      <td>1.98</td>\n",
       "      <td>220276479</td>\n",
       "      <td>97234915</td>\n",
       "      <td>44.14</td>\n",
       "    </tr>\n",
       "    <tr>\n",
       "      <th>4</th>\n",
       "      <td>015760</td>\n",
       "      <td>한국전력</td>\n",
       "      <td>42450</td>\n",
       "      <td>0</td>\n",
       "      <td>0.0</td>\n",
       "      <td>1223714</td>\n",
       "      <td>52099731008</td>\n",
       "      <td>42550</td>\n",
       "      <td>43000</td>\n",
       "      <td>42450</td>\n",
       "      <td>27251375068650</td>\n",
       "      <td>1.76</td>\n",
       "      <td>641964077</td>\n",
       "      <td>201876137</td>\n",
       "      <td>31.45</td>\n",
       "    </tr>\n",
       "    <tr>\n",
       "      <th>5</th>\n",
       "      <td>035420</td>\n",
       "      <td>NAVER</td>\n",
       "      <td>771000</td>\n",
       "      <td>13000</td>\n",
       "      <td>1.7</td>\n",
       "      <td>92541</td>\n",
       "      <td>71304248000</td>\n",
       "      <td>761000</td>\n",
       "      <td>774000</td>\n",
       "      <td>760000</td>\n",
       "      <td>25414225509000</td>\n",
       "      <td>1.64</td>\n",
       "      <td>32962679</td>\n",
       "      <td>19999806</td>\n",
       "      <td>60.67</td>\n",
       "    </tr>\n",
       "    <tr>\n",
       "      <th>6</th>\n",
       "      <td>005490</td>\n",
       "      <td>POSCO</td>\n",
       "      <td>278000</td>\n",
       "      <td>7000</td>\n",
       "      <td>2.6</td>\n",
       "      <td>308192</td>\n",
       "      <td>84769854296</td>\n",
       "      <td>269000</td>\n",
       "      <td>278500</td>\n",
       "      <td>268000</td>\n",
       "      <td>24237940130000</td>\n",
       "      <td>1.56</td>\n",
       "      <td>87186835</td>\n",
       "      <td>47535669</td>\n",
       "      <td>54.52</td>\n",
       "    </tr>\n",
       "    <tr>\n",
       "      <th>7</th>\n",
       "      <td>028260</td>\n",
       "      <td>삼성물산</td>\n",
       "      <td>127000</td>\n",
       "      <td>1000</td>\n",
       "      <td>0.8</td>\n",
       "      <td>305080</td>\n",
       "      <td>38708666500</td>\n",
       "      <td>127000</td>\n",
       "      <td>127500</td>\n",
       "      <td>126000</td>\n",
       "      <td>24090635461000</td>\n",
       "      <td>1.55</td>\n",
       "      <td>189690043</td>\n",
       "      <td>16825840</td>\n",
       "      <td>8.87</td>\n",
       "    </tr>\n",
       "    <tr>\n",
       "      <th>8</th>\n",
       "      <td>012330</td>\n",
       "      <td>현대모비스</td>\n",
       "      <td>245000</td>\n",
       "      <td>3000</td>\n",
       "      <td>1.2</td>\n",
       "      <td>350179</td>\n",
       "      <td>86079850838</td>\n",
       "      <td>244000</td>\n",
       "      <td>247500</td>\n",
       "      <td>243000</td>\n",
       "      <td>23849246435000</td>\n",
       "      <td>1.54</td>\n",
       "      <td>97343863</td>\n",
       "      <td>45855696</td>\n",
       "      <td>47.11</td>\n",
       "    </tr>\n",
       "    <tr>\n",
       "      <th>9</th>\n",
       "      <td>055550</td>\n",
       "      <td>신한지주</td>\n",
       "      <td>46100</td>\n",
       "      <td>200</td>\n",
       "      <td>0.4</td>\n",
       "      <td>873055</td>\n",
       "      <td>40061063050</td>\n",
       "      <td>46100</td>\n",
       "      <td>46350</td>\n",
       "      <td>45300</td>\n",
       "      <td>21860600960700</td>\n",
       "      <td>1.41</td>\n",
       "      <td>474199587</td>\n",
       "      <td>322361474</td>\n",
       "      <td>67.98</td>\n",
       "    </tr>\n",
       "  </tbody>\n",
       "</table>\n",
       "</div>"
      ],
      "text/plain": [
       "     종목코드     종목명      현재가     대비  등락률      거래량          거래대금       시가  \\\n",
       "0  005930    삼성전자  1956000 -17000 -0.9   283008  556882303240  1977000   \n",
       "1  000660  SK하이닉스    54000    300  0.6  2813046  152598833428    54300   \n",
       "2  005935   삼성전자우  1565000  -6000 -0.4    53250   83744528025  1571000   \n",
       "3  005380     현대차   139500      0  0.0   446549   62393845500   140000   \n",
       "4  015760    한국전력    42450      0  0.0  1223714   52099731008    42550   \n",
       "5  035420   NAVER   771000  13000  1.7    92541   71304248000   761000   \n",
       "6  005490   POSCO   278000   7000  2.6   308192   84769854296   269000   \n",
       "7  028260    삼성물산   127000   1000  0.8   305080   38708666500   127000   \n",
       "8  012330   현대모비스   245000   3000  1.2   350179   86079850838   244000   \n",
       "9  055550    신한지주    46100    200  0.4   873055   40061063050    46100   \n",
       "\n",
       "        고가       저가             시가총액  시가총액비중(%)  상장주식수(천주)  외국인 보유주식수  \\\n",
       "0  1983000  1952000  275168783172000      17.74  140679337   71276920   \n",
       "1    54900    53700   39312127710000       2.53  728002365  370034209   \n",
       "2  1586000  1561000   32103513255000       2.07   20513427   15947012   \n",
       "3   141000   139000   30728568820500       1.98  220276479   97234915   \n",
       "4    43000    42450   27251375068650       1.76  641964077  201876137   \n",
       "5   774000   760000   25414225509000       1.64   32962679   19999806   \n",
       "6   278500   268000   24237940130000       1.56   87186835   47535669   \n",
       "7   127500   126000   24090635461000       1.55  189690043   16825840   \n",
       "8   247500   243000   23849246435000       1.54   97343863   45855696   \n",
       "9    46350    45300   21860600960700       1.41  474199587  322361474   \n",
       "\n",
       "   외국인 지분율(%)  \n",
       "0       50.67  \n",
       "1       50.83  \n",
       "2       77.74  \n",
       "3       44.14  \n",
       "4       31.45  \n",
       "5       60.67  \n",
       "6       54.52  \n",
       "7        8.87  \n",
       "8       47.11  \n",
       "9       67.98  "
      ]
     },
     "execution_count": 3,
     "metadata": {},
     "output_type": "execute_result"
    }
   ],
   "source": [
    "# 1996-03-02, 1997-01-08 날짜의 데이터는 거래소 xlsx 파일 오류\n",
    "    \n",
    "date_str = datetime(2017, 2, 1).strftime('%Y%m%d')\n",
    "df = stock_master_krx(date_str)\n",
    "print('종목수:', len(df))\n",
    "df.head(10)"
   ]
  },
  {
   "cell_type": "markdown",
   "metadata": {
    "slideshow": {
     "slide_type": "slide"
    }
   },
   "source": [
    "# 날짜 생성"
   ]
  },
  {
   "cell_type": "code",
   "execution_count": 4,
   "metadata": {
    "slideshow": {
     "slide_type": "-"
    }
   },
   "outputs": [
    {
     "data": {
      "text/plain": [
       "DatetimeIndex(['2017-01-01', '2017-01-02', '2017-01-03', '2017-01-04',\n",
       "               '2017-01-05', '2017-01-06', '2017-01-07', '2017-01-08',\n",
       "               '2017-01-09', '2017-01-10', '2017-01-11', '2017-01-12',\n",
       "               '2017-01-13', '2017-01-14', '2017-01-15', '2017-01-16',\n",
       "               '2017-01-17', '2017-01-18', '2017-01-19', '2017-01-20',\n",
       "               '2017-01-21', '2017-01-22', '2017-01-23', '2017-01-24',\n",
       "               '2017-01-25', '2017-01-26', '2017-01-27', '2017-01-28',\n",
       "               '2017-01-29', '2017-01-30', '2017-01-31'],\n",
       "              dtype='datetime64[ns]', freq='D')"
      ]
     },
     "execution_count": 4,
     "metadata": {},
     "output_type": "execute_result"
    }
   ],
   "source": [
    "start = datetime(2017, 1, 1)\n",
    "end = datetime(2017, 1, 31)\n",
    "dates = pd.date_range(start=start, end=end)\n",
    "dates"
   ]
  },
  {
   "cell_type": "code",
   "execution_count": null,
   "metadata": {
    "slideshow": {
     "slide_type": "slide"
    }
   },
   "outputs": [
    {
     "name": "stdout",
     "output_type": "stream",
     "text": [
      "20170120, count:  2244\n",
      "20170121, count:  0\n",
      "20170122, count:  0\n",
      "20170123, count:  2244\n",
      "20170124, count:  2245\n",
      "20170125, count:  2246\n"
     ]
    }
   ],
   "source": [
    "# 날짜 xlsx 파일을 marcap_daily에 저장\n",
    "\n",
    "start = datetime(2017, 1, 20)\n",
    "end = datetime(2017, 1, 31)\n",
    "dates = pd.date_range(start=start, end=end)\n",
    "\n",
    "for date in dates:\n",
    "    date_str = date.strftime('%Y%m%d')\n",
    "    df = stock_master_krx(date_str)\n",
    "    print(date_str, end=', ')\n",
    "    print('count: ', len(df))"
   ]
  },
  {
   "cell_type": "code",
   "execution_count": null,
   "metadata": {
    "slideshow": {
     "slide_type": "slide"
    }
   },
   "outputs": [],
   "source": [
    "%%file krx_marcap_xlsx.py\n",
    "#!/usr/bin/python3\n",
    "\n",
    "import pandas as pd\n",
    "import numpy as np\n",
    "import requests\n",
    "from io import BytesIO\n",
    "import os\n",
    "from datetime import datetime, timedelta\n",
    "\n",
    "def stock_master_krx(date_str=None):\n",
    "    # 시가총액순위 정보를 DataFrame으로 반환\n",
    "    if date_str == None:\n",
    "        date_str = datetime.today().strftime('%Y%m%d')\n",
    "\n",
    "    # STEP 01: Generate OTP\n",
    "    gen_otp_url = 'http://marketdata.krx.co.kr/contents/COM/GenerateOTP.jspx'\n",
    "    gen_otp_data = {\n",
    "        'name':'fileDown',\n",
    "        'filetype':'xls',\n",
    "        'url':'MKD/04/0404/04040200/mkd04040200_01',\n",
    "        'market_gubun':'ALL', #시장구분: ALL=전체\n",
    "        'indx_ind_cd':'',\n",
    "        'sect_tp_cd':'',\n",
    "        'schdate': date_str,\n",
    "        'pagePath':'/contents/MKD/04/0404/04040200/MKD04040200.jsp',\n",
    "    }\n",
    "    \n",
    "    r = requests.post(gen_otp_url, gen_otp_data)\n",
    "    code = r.content\n",
    "    \n",
    "    # STEP 02: download\n",
    "    down_url = 'http://file.krx.co.kr/download.jspx'\n",
    "    down_data = {\n",
    "        'code': code,\n",
    "    }\n",
    "    \n",
    "    r = requests.post(down_url, down_data)\n",
    "    df = pd.read_excel(BytesIO(r.content), header=0, thousands=',', converters={'종목코드': str})\n",
    "    return df\n",
    "\n",
    "if __name__ == \"__main__\":\n",
    "    start = datetime(1996, 1, 1)\n",
    "    end = datetime.today() - timedelta(days=1)\n",
    "    dates = pd.date_range(start=start, end=end)\n",
    "\n",
    "    data_dir = './krx_marcap_xlsx'\n",
    "    if not os.path.exists(data_dir):\n",
    "        os.makedirs(data_dir)\n",
    "\n",
    "    for date in dates:\n",
    "        date_str = date.strftime('%Y%m%d')\n",
    "        fname = data_dir + '/' + 'marcap_' + date_str + '.xlsx'\n",
    "        if not os.path.isfile(fname):\n",
    "            print(date_str, end=', ')\n",
    "            df = stock_master_krx(date_str)\n",
    "            print('count: ', len(df))\n",
    "            df.to_excel(fname, index=False)"
   ]
  },
  {
   "cell_type": "markdown",
   "metadata": {
    "slideshow": {
     "slide_type": "-"
    }
   },
   "source": [
    "다음과 같이 실행\n",
    "\n",
    "```bash\n",
    "$ python3 krx_marcap_xlsx.py\n",
    "```"
   ]
  },
  {
   "cell_type": "code",
   "execution_count": null,
   "metadata": {
    "slideshow": {
     "slide_type": "slide"
    }
   },
   "outputs": [],
   "source": [
    "%%file krx_marcap_xlsx2sqlite.py\n",
    "#!/usr/bin/python3\n",
    "\n",
    "import pandas as pd\n",
    "import numpy as np\n",
    "from datetime import datetime, timedelta\n",
    "import os\n",
    "import sqlite3\n",
    "\n",
    "create_table_query = \"\"\"\n",
    "    CREATE TABLE IF NOT EXISTS \"marcap\" (\n",
    "        \"날짜\" TIMESTAMP,\n",
    "        \"종목코드\" TEXT,\n",
    "        \"종목명\" TEXT,\n",
    "        \"현재가\" INTEGER,\n",
    "        \"대비\" INTEGER,\n",
    "        \"등락률\" REAL,\n",
    "        \"거래량\" INTEGER,\n",
    "        \"거래대금\" INTEGER,\n",
    "        \"시가총액\" INTEGER,\n",
    "        \"시가총액비중(%)\" REAL,\n",
    "        \"상장주식수(천주)\" INTEGER,\n",
    "        \"외국인 보유주식수\" REAL,\n",
    "        \"외국인 지분율(%)\" REAL\n",
    "    );\n",
    "\n",
    "    CREATE INDEX IF NOT EXISTS \"ix_marcap_날짜\" ON \"marcap\" (\"날짜\");\n",
    "    CREATE INDEX IF NOT EXISTS \"ix_marcap_종목코드\" ON \"marcap\" (\"종목코드\");\n",
    "\"\"\"\n",
    "\n",
    "if __name__ == \"__main__\":\n",
    "    start = datetime(2000, 1, 1)\n",
    "    end = datetime.today() - timedelta(days=1) # yearterday\n",
    "    dates = pd.date_range(start=start, end=end)\n",
    "    \n",
    "    data_dir = './krx_marcap_xlsx'\n",
    "    if not os.path.exists(data_dir):\n",
    "        print(data_dir, ' not exists')\n",
    "        exit(1)\n",
    "\n",
    "    data_dir_to = './krx_marcap_sqlite'\n",
    "    if not os.path.exists(data_dir_to):\n",
    "        os.makedirs(data_dir_to)\n",
    "\n",
    "    db_fname = data_dir_to + '/' + 'marcap.db'\n",
    "    con = sqlite3.connect(db_fname)\n",
    "    con.executescript(create_table_query)\n",
    "\n",
    "    # db에 저장된 가장 최근 날짜\n",
    "    latest_date = str(datetime(1970, 1, 1))\n",
    "    df = pd.read_sql('select * from marcap order by \"날짜\" desc limit 1', con)\n",
    "    if len(df) > 0:\n",
    "        latest_date = df['날짜'][0]\n",
    "\n",
    "    for date in dates:\n",
    "        # skip previous date\n",
    "        if str(date) < latest_date:\n",
    "            continue\n",
    "            \n",
    "        # read .xlsx and write to sqlite\n",
    "        date_str = date.strftime('%Y%m%d')\n",
    "        fname = data_dir + '/' + 'marcap_' + date_str + '.xlsx'\n",
    "        df = pd.read_excel(fname)\n",
    "        df['날짜'] = date\n",
    "        df.set_index('날짜', inplace=True)\n",
    "        print(date_str, end=', ')\n",
    "        print('count: ', len(df))\n",
    "        df.to_sql('marcap', con, if_exists='append')\n",
    "    con.close()"
   ]
  },
  {
   "cell_type": "markdown",
   "metadata": {
    "slideshow": {
     "slide_type": "-"
    }
   },
   "source": [
    "다음과 같이 실행\n",
    "\n",
    "```bash\n",
    "$ python3 krx_marcap_xlsx2sqlite.py\n",
    "```"
   ]
  },
  {
   "cell_type": "markdown",
   "metadata": {
    "slideshow": {
     "slide_type": "notes"
    }
   },
   "source": [
    "----\n",
    "#### 2017 FinanceData http://fb.com/financedata http://financedata.github.com"
   ]
  }
 ],
 "metadata": {
  "celltoolbar": "Slideshow",
  "kernelspec": {
   "display_name": "Python 3",
   "language": "python",
   "name": "python3"
  },
  "language_info": {
   "codemirror_mode": {
    "name": "ipython",
    "version": 3
   },
   "file_extension": ".py",
   "mimetype": "text/x-python",
   "name": "python",
   "nbconvert_exporter": "python",
   "pygments_lexer": "ipython3",
   "version": "3.5.2"
  }
 },
 "nbformat": 4,
 "nbformat_minor": 1
}
