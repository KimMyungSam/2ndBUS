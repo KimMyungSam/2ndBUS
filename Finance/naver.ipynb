{
 "cells": [
  {
   "cell_type": "markdown",
   "metadata": {
    "deletable": true,
    "editable": true,
    "slideshow": {
     "slide_type": "slide"
    }
   },
   "source": [
    "# 포탈 01 - 네이버 파이낸스 종목별 과거 시세\n",
    "\n",
    "<img src=\"http://i.imgur.com/grQHNKG.jpg\">\n",
    "\n",
    "#### 이승준 http://fb.com/plusjune"
   ]
  },
  {
   "cell_type": "markdown",
   "metadata": {
    "deletable": true,
    "editable": true,
    "slideshow": {
     "slide_type": "slide"
    }
   },
   "source": [
    "# 종목 마스터 만들기\n",
    "* 거래소 상장회사검색 http://marketdata.krx.co.kr/contents/MKD/04/0406/04060100/MKD04060100.jsp\n"
   ]
  },
  {
   "cell_type": "code",
   "execution_count": 1,
   "metadata": {
    "collapsed": false,
    "deletable": true,
    "editable": true
   },
   "outputs": [],
   "source": [
    "import requests\n",
    "import sqlite3\n",
    "import pandas as pd\n",
    "import io\n",
    "\n",
    "def get_krx_stock_master():\n",
    "    # STEP 01: Generate OTP\n",
    "    gen_otp_url = 'http://marketdata.krx.co.kr/contents/COM/GenerateOTP.jspx'\n",
    "    gen_otp_data = {\n",
    "        'name':'fileDown',\n",
    "        'filetype':'xls',\n",
    "        'url':'MKD/04/0406/04060100/mkd04060100_01',\n",
    "        'market_gubun':'ALL', # ''ALL':전체, STK': 코스피\n",
    "        'isu_cdnm':'전체',\n",
    "        'sort_type':'A',\n",
    "        'std_ind_cd':'01',\n",
    "        'lst_stk_vl':'1',\n",
    "        'in_lst_stk_vl':'',\n",
    "        'in_lst_stk_vl2':'',\n",
    "        'pagePath':'/contents/MKD/04/0406/04060100/MKD04060100.jsp',\n",
    "    }\n",
    "\n",
    "    r = requests.post(gen_otp_url, gen_otp_data)\n",
    "    code = r.content\n",
    "\n",
    "    # STEP 02: download\n",
    "    down_url = 'http://file.krx.co.kr/download.jspx'\n",
    "    down_data = {\n",
    "        'code': code,\n",
    "    }\n",
    "\n",
    "    r = requests.post(down_url, down_data)\n",
    "    f = io.BytesIO(r.content)\n",
    "    \n",
    "    usecols = ['종목코드', '기업명', '업종코드', '업종', '대표전화', '주소']\n",
    "    df = pd.read_excel(f, converters={'종목코드': str, '업종코드': str}, usecols=usecols)\n",
    "    df.columns = ['code', 'name', 'sector_code', 'sector', 'telephone', 'address']\n",
    "    return df\n",
    "\n",
    "if __name__ == \"__main__\":\n",
    "    conn = sqlite3.connect('findata.db')\n",
    "    df = get_krx_stock_master()\n",
    "    df.to_sql('stock_master', conn, if_exists='replace')\n",
    "    conn.close()"
   ]
  },
  {
   "cell_type": "code",
   "execution_count": 2,
   "metadata": {
    "collapsed": false,
    "deletable": true,
    "editable": true,
    "slideshow": {
     "slide_type": "slide"
    }
   },
   "outputs": [
    {
     "data": {
      "text/html": [
       "<div>\n",
       "<table border=\"1\" class=\"dataframe\">\n",
       "  <thead>\n",
       "    <tr style=\"text-align: right;\">\n",
       "      <th></th>\n",
       "      <th>index</th>\n",
       "      <th>code</th>\n",
       "      <th>name</th>\n",
       "      <th>sector_code</th>\n",
       "      <th>sector</th>\n",
       "      <th>telephone</th>\n",
       "      <th>address</th>\n",
       "    </tr>\n",
       "  </thead>\n",
       "  <tbody>\n",
       "    <tr>\n",
       "      <th>0</th>\n",
       "      <td>0</td>\n",
       "      <td>060310</td>\n",
       "      <td>3S</td>\n",
       "      <td>032602</td>\n",
       "      <td>전자부품 제조업</td>\n",
       "      <td>02-896-9474</td>\n",
       "      <td>서울특별시 금천구  시흥대로71길 30-1</td>\n",
       "    </tr>\n",
       "    <tr>\n",
       "      <th>1</th>\n",
       "      <td>1</td>\n",
       "      <td>095570</td>\n",
       "      <td>AJ네트웍스</td>\n",
       "      <td>126903</td>\n",
       "      <td>산업용 기계 및 장비 임대업</td>\n",
       "      <td>02-6240-0800</td>\n",
       "      <td>서울특별시 송파구 정의로8길 9 (문정동,AJ빌딩)</td>\n",
       "    </tr>\n",
       "    <tr>\n",
       "      <th>2</th>\n",
       "      <td>2</td>\n",
       "      <td>068400</td>\n",
       "      <td>AJ렌터카</td>\n",
       "      <td>126901</td>\n",
       "      <td>운송장비 임대업</td>\n",
       "      <td>1544-1600</td>\n",
       "      <td>서울특별시 구로구  서부샛길 822</td>\n",
       "    </tr>\n",
       "    <tr>\n",
       "      <th>3</th>\n",
       "      <td>3</td>\n",
       "      <td>006840</td>\n",
       "      <td>AK홀딩스</td>\n",
       "      <td>137105</td>\n",
       "      <td>회사본부, 지주회사 및 경영컨설팅 서비스업</td>\n",
       "      <td>02-6923-2921</td>\n",
       "      <td>서울특별시 구로구 구로중앙로 152(구로동)</td>\n",
       "    </tr>\n",
       "    <tr>\n",
       "      <th>4</th>\n",
       "      <td>4</td>\n",
       "      <td>054620</td>\n",
       "      <td>AP시스템</td>\n",
       "      <td>032902</td>\n",
       "      <td>특수 목적용 기계 제조업</td>\n",
       "      <td>031-379-2700</td>\n",
       "      <td>경기도 화성시 동탄면 동탄산단9길 23-12 (동탄면)</td>\n",
       "    </tr>\n",
       "    <tr>\n",
       "      <th>5</th>\n",
       "      <td>5</td>\n",
       "      <td>211270</td>\n",
       "      <td>AP위성</td>\n",
       "      <td>032604</td>\n",
       "      <td>통신 및 방송 장비 제조업</td>\n",
       "      <td>02-2026-7800</td>\n",
       "      <td>서울특별시 금천구 가산디지털2로 98 IT캐슬 2동 9층 &amp;nbsp</td>\n",
       "    </tr>\n",
       "    <tr>\n",
       "      <th>6</th>\n",
       "      <td>6</td>\n",
       "      <td>027410</td>\n",
       "      <td>BGF리테일</td>\n",
       "      <td>074701</td>\n",
       "      <td>종합 소매업</td>\n",
       "      <td>1577-3663</td>\n",
       "      <td>서울특별시 강남구 테헤란로 405</td>\n",
       "    </tr>\n",
       "    <tr>\n",
       "      <th>7</th>\n",
       "      <td>7</td>\n",
       "      <td>138930</td>\n",
       "      <td>BNK금융지주</td>\n",
       "      <td>116409</td>\n",
       "      <td>기타 금융업</td>\n",
       "      <td>051-620-3022</td>\n",
       "      <td>부산광역시 남구 문현금융로 30(문현동)</td>\n",
       "    </tr>\n",
       "    <tr>\n",
       "      <th>8</th>\n",
       "      <td>8</td>\n",
       "      <td>001460</td>\n",
       "      <td>BYC</td>\n",
       "      <td>031401</td>\n",
       "      <td>봉제의복 제조업</td>\n",
       "      <td>02-840-3175</td>\n",
       "      <td>서울특별시 영등포구 도림천로21길 3</td>\n",
       "    </tr>\n",
       "    <tr>\n",
       "      <th>9</th>\n",
       "      <td>9</td>\n",
       "      <td>032040</td>\n",
       "      <td>C&amp;S자산관리</td>\n",
       "      <td>147509</td>\n",
       "      <td>기타 사업지원 서비스업</td>\n",
       "      <td>02  -732 -9676</td>\n",
       "      <td>서울특별시 종로구  사직로 130 (적선동,적선현대제1빌딩제907호)</td>\n",
       "    </tr>\n",
       "  </tbody>\n",
       "</table>\n",
       "</div>"
      ],
      "text/plain": [
       "   index    code     name sector_code                   sector  \\\n",
       "0      0  060310       3S      032602                 전자부품 제조업   \n",
       "1      1  095570   AJ네트웍스      126903          산업용 기계 및 장비 임대업   \n",
       "2      2  068400    AJ렌터카      126901                 운송장비 임대업   \n",
       "3      3  006840    AK홀딩스      137105  회사본부, 지주회사 및 경영컨설팅 서비스업   \n",
       "4      4  054620    AP시스템      032902            특수 목적용 기계 제조업   \n",
       "5      5  211270     AP위성      032604           통신 및 방송 장비 제조업   \n",
       "6      6  027410   BGF리테일      074701                   종합 소매업   \n",
       "7      7  138930  BNK금융지주      116409                   기타 금융업   \n",
       "8      8  001460      BYC      031401                 봉제의복 제조업   \n",
       "9      9  032040  C&S자산관리      147509             기타 사업지원 서비스업   \n",
       "\n",
       "        telephone                                 address  \n",
       "0     02-896-9474                서울특별시 금천구  시흥대로71길 30-1   \n",
       "1    02-6240-0800            서울특별시 송파구 정의로8길 9 (문정동,AJ빌딩)  \n",
       "2       1544-1600                    서울특별시 구로구  서부샛길 822   \n",
       "3    02-6923-2921               서울특별시 구로구 구로중앙로 152(구로동)   \n",
       "4    031-379-2700          경기도 화성시 동탄면 동탄산단9길 23-12 (동탄면)  \n",
       "5    02-2026-7800   서울특별시 금천구 가산디지털2로 98 IT캐슬 2동 9층 &nbsp  \n",
       "6       1577-3663                     서울특별시 강남구 테헤란로 405   \n",
       "7    051-620-3022                 부산광역시 남구 문현금융로 30(문현동)   \n",
       "8     02-840-3175                   서울특별시 영등포구 도림천로21길 3   \n",
       "9  02  -732 -9676  서울특별시 종로구  사직로 130 (적선동,적선현대제1빌딩제907호)  "
      ]
     },
     "execution_count": 2,
     "metadata": {},
     "output_type": "execute_result"
    }
   ],
   "source": [
    "# 저장된 데이터 확인\n",
    "\n",
    "conn = sqlite3.connect('findata.db')\n",
    "df = pd.read_sql('select * from stock_master', conn)\n",
    "df.head(10)"
   ]
  },
  {
   "cell_type": "markdown",
   "metadata": {
    "deletable": true,
    "editable": true,
    "slideshow": {
     "slide_type": "slide"
    }
   },
   "source": [
    "# 네이버 파이낸스 크롤링\n",
    "\n",
    "* http://finance.naver.com\n",
    "* http://finance.naver.com/item/sise_day.nhn?code=105560&page=1"
   ]
  },
  {
   "cell_type": "markdown",
   "metadata": {
    "deletable": true,
    "editable": true,
    "slideshow": {
     "slide_type": "slide"
    }
   },
   "source": [
    "# 대표적인 두가지 방법\n",
    "1. pd.read_html()\n",
    "1. BeautifulSoup, requests"
   ]
  },
  {
   "cell_type": "markdown",
   "metadata": {
    "deletable": true,
    "editable": true,
    "slideshow": {
     "slide_type": "slide"
    }
   },
   "source": [
    "# DataFrame으로 읽기"
   ]
  },
  {
   "cell_type": "code",
   "execution_count": 3,
   "metadata": {
    "collapsed": true,
    "deletable": true,
    "editable": true,
    "slideshow": {
     "slide_type": "-"
    }
   },
   "outputs": [],
   "source": [
    "import pandas as pd\n",
    "\n",
    "url = 'http://finance.naver.com/item/sise_day.nhn?code=105560&page=1'\n",
    "dfs = pd.read_html(url)"
   ]
  },
  {
   "cell_type": "code",
   "execution_count": 4,
   "metadata": {
    "collapsed": false,
    "deletable": true,
    "editable": true,
    "slideshow": {
     "slide_type": "-"
    }
   },
   "outputs": [
    {
     "data": {
      "text/plain": [
       "2"
      ]
     },
     "execution_count": 4,
     "metadata": {},
     "output_type": "execute_result"
    }
   ],
   "source": [
    "len(dfs)"
   ]
  },
  {
   "cell_type": "code",
   "execution_count": 5,
   "metadata": {
    "collapsed": false,
    "deletable": true,
    "editable": true,
    "slideshow": {
     "slide_type": "-"
    }
   },
   "outputs": [
    {
     "data": {
      "text/html": [
       "<div>\n",
       "<table border=\"1\" class=\"dataframe\">\n",
       "  <thead>\n",
       "    <tr style=\"text-align: right;\">\n",
       "      <th></th>\n",
       "      <th>0</th>\n",
       "      <th>1</th>\n",
       "      <th>2</th>\n",
       "      <th>3</th>\n",
       "      <th>4</th>\n",
       "      <th>5</th>\n",
       "      <th>6</th>\n",
       "    </tr>\n",
       "  </thead>\n",
       "  <tbody>\n",
       "    <tr>\n",
       "      <th>0</th>\n",
       "      <td>날짜</td>\n",
       "      <td>종가</td>\n",
       "      <td>전일비</td>\n",
       "      <td>시가</td>\n",
       "      <td>고가</td>\n",
       "      <td>저가</td>\n",
       "      <td>거래량</td>\n",
       "    </tr>\n",
       "    <tr>\n",
       "      <th>1</th>\n",
       "      <td>2017.03.09</td>\n",
       "      <td>48550</td>\n",
       "      <td>350</td>\n",
       "      <td>48950</td>\n",
       "      <td>49300</td>\n",
       "      <td>48400</td>\n",
       "      <td>413213</td>\n",
       "    </tr>\n",
       "    <tr>\n",
       "      <th>2</th>\n",
       "      <td>2017.03.08</td>\n",
       "      <td>48900</td>\n",
       "      <td>950</td>\n",
       "      <td>48000</td>\n",
       "      <td>49000</td>\n",
       "      <td>47800</td>\n",
       "      <td>1360589</td>\n",
       "    </tr>\n",
       "    <tr>\n",
       "      <th>3</th>\n",
       "      <td>2017.03.07</td>\n",
       "      <td>47950</td>\n",
       "      <td>450</td>\n",
       "      <td>47300</td>\n",
       "      <td>48200</td>\n",
       "      <td>47300</td>\n",
       "      <td>777078</td>\n",
       "    </tr>\n",
       "    <tr>\n",
       "      <th>4</th>\n",
       "      <td>2017.03.06</td>\n",
       "      <td>47500</td>\n",
       "      <td>100</td>\n",
       "      <td>47400</td>\n",
       "      <td>47850</td>\n",
       "      <td>47200</td>\n",
       "      <td>1215440</td>\n",
       "    </tr>\n",
       "    <tr>\n",
       "      <th>5</th>\n",
       "      <td>2017.03.03</td>\n",
       "      <td>47400</td>\n",
       "      <td>650</td>\n",
       "      <td>47750</td>\n",
       "      <td>48500</td>\n",
       "      <td>47150</td>\n",
       "      <td>1193588</td>\n",
       "    </tr>\n",
       "    <tr>\n",
       "      <th>6</th>\n",
       "      <td>2017.03.02</td>\n",
       "      <td>48050</td>\n",
       "      <td>1150</td>\n",
       "      <td>48850</td>\n",
       "      <td>48850</td>\n",
       "      <td>47850</td>\n",
       "      <td>1995223</td>\n",
       "    </tr>\n",
       "    <tr>\n",
       "      <th>7</th>\n",
       "      <td>2017.02.28</td>\n",
       "      <td>46900</td>\n",
       "      <td>1050</td>\n",
       "      <td>46300</td>\n",
       "      <td>47150</td>\n",
       "      <td>46100</td>\n",
       "      <td>1211585</td>\n",
       "    </tr>\n",
       "    <tr>\n",
       "      <th>8</th>\n",
       "      <td>2017.02.27</td>\n",
       "      <td>45850</td>\n",
       "      <td>1850</td>\n",
       "      <td>47750</td>\n",
       "      <td>48100</td>\n",
       "      <td>45800</td>\n",
       "      <td>1126840</td>\n",
       "    </tr>\n",
       "    <tr>\n",
       "      <th>9</th>\n",
       "      <td>2017.02.24</td>\n",
       "      <td>47700</td>\n",
       "      <td>50</td>\n",
       "      <td>48000</td>\n",
       "      <td>48500</td>\n",
       "      <td>47550</td>\n",
       "      <td>1186040</td>\n",
       "    </tr>\n",
       "    <tr>\n",
       "      <th>10</th>\n",
       "      <td>2017.02.23</td>\n",
       "      <td>47650</td>\n",
       "      <td>450</td>\n",
       "      <td>46750</td>\n",
       "      <td>47750</td>\n",
       "      <td>46750</td>\n",
       "      <td>876252</td>\n",
       "    </tr>\n",
       "  </tbody>\n",
       "</table>\n",
       "</div>"
      ],
      "text/plain": [
       "             0      1     2      3      4      5        6\n",
       "0           날짜     종가   전일비     시가     고가     저가      거래량\n",
       "1   2017.03.09  48550   350  48950  49300  48400   413213\n",
       "2   2017.03.08  48900   950  48000  49000  47800  1360589\n",
       "3   2017.03.07  47950   450  47300  48200  47300   777078\n",
       "4   2017.03.06  47500   100  47400  47850  47200  1215440\n",
       "5   2017.03.03  47400   650  47750  48500  47150  1193588\n",
       "6   2017.03.02  48050  1150  48850  48850  47850  1995223\n",
       "7   2017.02.28  46900  1050  46300  47150  46100  1211585\n",
       "8   2017.02.27  45850  1850  47750  48100  45800  1126840\n",
       "9   2017.02.24  47700    50  48000  48500  47550  1186040\n",
       "10  2017.02.23  47650   450  46750  47750  46750   876252"
      ]
     },
     "execution_count": 5,
     "metadata": {},
     "output_type": "execute_result"
    }
   ],
   "source": [
    "df_price = dfs[0]\n",
    "df_price"
   ]
  },
  {
   "cell_type": "code",
   "execution_count": 6,
   "metadata": {
    "collapsed": false,
    "deletable": true,
    "editable": true,
    "slideshow": {
     "slide_type": "slide"
    }
   },
   "outputs": [
    {
     "data": {
      "text/plain": [
       "0    object\n",
       "1    object\n",
       "2    object\n",
       "3    object\n",
       "4    object\n",
       "5    object\n",
       "6    object\n",
       "dtype: object"
      ]
     },
     "execution_count": 6,
     "metadata": {},
     "output_type": "execute_result"
    }
   ],
   "source": [
    "df_price.dtypes"
   ]
  },
  {
   "cell_type": "code",
   "execution_count": 7,
   "metadata": {
    "collapsed": false,
    "deletable": true,
    "editable": true,
    "slideshow": {
     "slide_type": "-"
    }
   },
   "outputs": [
    {
     "data": {
      "text/html": [
       "<div>\n",
       "<table border=\"1\" class=\"dataframe\">\n",
       "  <thead>\n",
       "    <tr style=\"text-align: right;\">\n",
       "      <th></th>\n",
       "      <th>date</th>\n",
       "      <th>close</th>\n",
       "      <th>change</th>\n",
       "      <th>open</th>\n",
       "      <th>high</th>\n",
       "      <th>low</th>\n",
       "      <th>volume</th>\n",
       "    </tr>\n",
       "  </thead>\n",
       "  <tbody>\n",
       "    <tr>\n",
       "      <th>1</th>\n",
       "      <td>2017-03-09</td>\n",
       "      <td>48550</td>\n",
       "      <td>350</td>\n",
       "      <td>48950</td>\n",
       "      <td>49300</td>\n",
       "      <td>48400</td>\n",
       "      <td>413213</td>\n",
       "    </tr>\n",
       "    <tr>\n",
       "      <th>2</th>\n",
       "      <td>2017-03-08</td>\n",
       "      <td>48900</td>\n",
       "      <td>950</td>\n",
       "      <td>48000</td>\n",
       "      <td>49000</td>\n",
       "      <td>47800</td>\n",
       "      <td>1360589</td>\n",
       "    </tr>\n",
       "    <tr>\n",
       "      <th>3</th>\n",
       "      <td>2017-03-07</td>\n",
       "      <td>47950</td>\n",
       "      <td>450</td>\n",
       "      <td>47300</td>\n",
       "      <td>48200</td>\n",
       "      <td>47300</td>\n",
       "      <td>777078</td>\n",
       "    </tr>\n",
       "    <tr>\n",
       "      <th>4</th>\n",
       "      <td>2017-03-06</td>\n",
       "      <td>47500</td>\n",
       "      <td>100</td>\n",
       "      <td>47400</td>\n",
       "      <td>47850</td>\n",
       "      <td>47200</td>\n",
       "      <td>1215440</td>\n",
       "    </tr>\n",
       "    <tr>\n",
       "      <th>5</th>\n",
       "      <td>2017-03-03</td>\n",
       "      <td>47400</td>\n",
       "      <td>650</td>\n",
       "      <td>47750</td>\n",
       "      <td>48500</td>\n",
       "      <td>47150</td>\n",
       "      <td>1193588</td>\n",
       "    </tr>\n",
       "    <tr>\n",
       "      <th>6</th>\n",
       "      <td>2017-03-02</td>\n",
       "      <td>48050</td>\n",
       "      <td>1150</td>\n",
       "      <td>48850</td>\n",
       "      <td>48850</td>\n",
       "      <td>47850</td>\n",
       "      <td>1995223</td>\n",
       "    </tr>\n",
       "    <tr>\n",
       "      <th>7</th>\n",
       "      <td>2017-02-28</td>\n",
       "      <td>46900</td>\n",
       "      <td>1050</td>\n",
       "      <td>46300</td>\n",
       "      <td>47150</td>\n",
       "      <td>46100</td>\n",
       "      <td>1211585</td>\n",
       "    </tr>\n",
       "    <tr>\n",
       "      <th>8</th>\n",
       "      <td>2017-02-27</td>\n",
       "      <td>45850</td>\n",
       "      <td>1850</td>\n",
       "      <td>47750</td>\n",
       "      <td>48100</td>\n",
       "      <td>45800</td>\n",
       "      <td>1126840</td>\n",
       "    </tr>\n",
       "    <tr>\n",
       "      <th>9</th>\n",
       "      <td>2017-02-24</td>\n",
       "      <td>47700</td>\n",
       "      <td>50</td>\n",
       "      <td>48000</td>\n",
       "      <td>48500</td>\n",
       "      <td>47550</td>\n",
       "      <td>1186040</td>\n",
       "    </tr>\n",
       "    <tr>\n",
       "      <th>10</th>\n",
       "      <td>2017-02-23</td>\n",
       "      <td>47650</td>\n",
       "      <td>450</td>\n",
       "      <td>46750</td>\n",
       "      <td>47750</td>\n",
       "      <td>46750</td>\n",
       "      <td>876252</td>\n",
       "    </tr>\n",
       "  </tbody>\n",
       "</table>\n",
       "</div>"
      ],
      "text/plain": [
       "         date  close  change   open   high    low   volume\n",
       "1  2017-03-09  48550     350  48950  49300  48400   413213\n",
       "2  2017-03-08  48900     950  48000  49000  47800  1360589\n",
       "3  2017-03-07  47950     450  47300  48200  47300   777078\n",
       "4  2017-03-06  47500     100  47400  47850  47200  1215440\n",
       "5  2017-03-03  47400     650  47750  48500  47150  1193588\n",
       "6  2017-03-02  48050    1150  48850  48850  47850  1995223\n",
       "7  2017-02-28  46900    1050  46300  47150  46100  1211585\n",
       "8  2017-02-27  45850    1850  47750  48100  45800  1126840\n",
       "9  2017-02-24  47700      50  48000  48500  47550  1186040\n",
       "10 2017-02-23  47650     450  46750  47750  46750   876252"
      ]
     },
     "execution_count": 7,
     "metadata": {},
     "output_type": "execute_result"
    }
   ],
   "source": [
    "df_price.columns = ['date', 'close', 'change', 'open', 'high', 'low', 'volume']\n",
    "df_price = df_price[1:] \n",
    "df_price = df_price.replace('\\.', '-', regex=True)\n",
    "df_price['date'] = pd.to_datetime(df_price['date'])\n",
    "\n",
    "int_cols = ['close', 'change', 'open', 'high', 'low', 'volume']\n",
    "df_price[int_cols] = df_price[int_cols].astype('int')\n",
    "df_price"
   ]
  },
  {
   "cell_type": "code",
   "execution_count": 8,
   "metadata": {
    "collapsed": false,
    "deletable": true,
    "editable": true,
    "slideshow": {
     "slide_type": "-"
    }
   },
   "outputs": [
    {
     "data": {
      "text/plain": [
       "date      datetime64[ns]\n",
       "close              int64\n",
       "change             int64\n",
       "open               int64\n",
       "high               int64\n",
       "low                int64\n",
       "volume             int64\n",
       "dtype: object"
      ]
     },
     "execution_count": 8,
     "metadata": {},
     "output_type": "execute_result"
    }
   ],
   "source": [
    "df_price.dtypes"
   ]
  },
  {
   "cell_type": "markdown",
   "metadata": {
    "deletable": true,
    "editable": true,
    "slideshow": {
     "slide_type": "slide"
    }
   },
   "source": [
    "# DB 테이블로 저장"
   ]
  },
  {
   "cell_type": "code",
   "execution_count": 9,
   "metadata": {
    "collapsed": true,
    "deletable": true,
    "editable": true,
    "slideshow": {
     "slide_type": "-"
    }
   },
   "outputs": [],
   "source": [
    "import pandas as pd\n",
    "import sqlite3\n",
    "\n",
    "# KB금융(105560)\n",
    "\n",
    "url = 'http://finance.naver.com/item/sise_day.nhn?code=105560&page=1'\n",
    "dfs = pd.read_html(url)"
   ]
  },
  {
   "cell_type": "code",
   "execution_count": 10,
   "metadata": {
    "collapsed": false,
    "deletable": true,
    "editable": true,
    "slideshow": {
     "slide_type": "slide"
    }
   },
   "outputs": [],
   "source": [
    "conn = sqlite3.connect('findata.db')\n",
    "\n",
    "df_price.to_sql('test_table', conn, index=False, if_exists='replace')\n",
    "conn.close()"
   ]
  },
  {
   "cell_type": "code",
   "execution_count": 11,
   "metadata": {
    "collapsed": false,
    "deletable": true,
    "editable": true,
    "slideshow": {
     "slide_type": "slide"
    }
   },
   "outputs": [
    {
     "data": {
      "text/html": [
       "<div>\n",
       "<table border=\"1\" class=\"dataframe\">\n",
       "  <thead>\n",
       "    <tr style=\"text-align: right;\">\n",
       "      <th></th>\n",
       "      <th>date</th>\n",
       "      <th>close</th>\n",
       "      <th>change</th>\n",
       "      <th>open</th>\n",
       "      <th>high</th>\n",
       "      <th>low</th>\n",
       "      <th>volume</th>\n",
       "    </tr>\n",
       "  </thead>\n",
       "  <tbody>\n",
       "    <tr>\n",
       "      <th>0</th>\n",
       "      <td>2017-03-09</td>\n",
       "      <td>48550</td>\n",
       "      <td>350</td>\n",
       "      <td>48950</td>\n",
       "      <td>49300</td>\n",
       "      <td>48400</td>\n",
       "      <td>413213</td>\n",
       "    </tr>\n",
       "    <tr>\n",
       "      <th>1</th>\n",
       "      <td>2017-03-08</td>\n",
       "      <td>48900</td>\n",
       "      <td>950</td>\n",
       "      <td>48000</td>\n",
       "      <td>49000</td>\n",
       "      <td>47800</td>\n",
       "      <td>1360589</td>\n",
       "    </tr>\n",
       "    <tr>\n",
       "      <th>2</th>\n",
       "      <td>2017-03-07</td>\n",
       "      <td>47950</td>\n",
       "      <td>450</td>\n",
       "      <td>47300</td>\n",
       "      <td>48200</td>\n",
       "      <td>47300</td>\n",
       "      <td>777078</td>\n",
       "    </tr>\n",
       "    <tr>\n",
       "      <th>3</th>\n",
       "      <td>2017-03-06</td>\n",
       "      <td>47500</td>\n",
       "      <td>100</td>\n",
       "      <td>47400</td>\n",
       "      <td>47850</td>\n",
       "      <td>47200</td>\n",
       "      <td>1215440</td>\n",
       "    </tr>\n",
       "    <tr>\n",
       "      <th>4</th>\n",
       "      <td>2017-03-03</td>\n",
       "      <td>47400</td>\n",
       "      <td>650</td>\n",
       "      <td>47750</td>\n",
       "      <td>48500</td>\n",
       "      <td>47150</td>\n",
       "      <td>1193588</td>\n",
       "    </tr>\n",
       "  </tbody>\n",
       "</table>\n",
       "</div>"
      ],
      "text/plain": [
       "        date  close  change   open   high    low   volume\n",
       "0 2017-03-09  48550     350  48950  49300  48400   413213\n",
       "1 2017-03-08  48900     950  48000  49000  47800  1360589\n",
       "2 2017-03-07  47950     450  47300  48200  47300   777078\n",
       "3 2017-03-06  47500     100  47400  47850  47200  1215440\n",
       "4 2017-03-03  47400     650  47750  48500  47150  1193588"
      ]
     },
     "execution_count": 11,
     "metadata": {},
     "output_type": "execute_result"
    }
   ],
   "source": [
    "conn = sqlite3.connect('findata.db')\n",
    "\n",
    "df_price = pd.read_sql('select * from test_table', conn, parse_dates=['date'])\n",
    "df_price.head()"
   ]
  },
  {
   "cell_type": "code",
   "execution_count": 12,
   "metadata": {
    "collapsed": false,
    "deletable": true,
    "editable": true,
    "slideshow": {
     "slide_type": "-"
    }
   },
   "outputs": [
    {
     "data": {
      "text/plain": [
       "date      datetime64[ns]\n",
       "close              int64\n",
       "change             int64\n",
       "open               int64\n",
       "high               int64\n",
       "low                int64\n",
       "volume             int64\n",
       "dtype: object"
      ]
     },
     "execution_count": 12,
     "metadata": {},
     "output_type": "execute_result"
    }
   ],
   "source": [
    "df_price.dtypes"
   ]
  },
  {
   "cell_type": "code",
   "execution_count": 13,
   "metadata": {
    "collapsed": true,
    "deletable": true,
    "editable": true,
    "slideshow": {
     "slide_type": "-"
    }
   },
   "outputs": [],
   "source": [
    "conn.close()"
   ]
  },
  {
   "cell_type": "markdown",
   "metadata": {
    "deletable": true,
    "editable": true,
    "slideshow": {
     "slide_type": "slide"
    }
   },
   "source": [
    "# 페이지 네비게이션\n",
    "http://finance.naver.com/item/sise_day.nhn?code=105560&page=1\n",
    "1. 마지막 페이지 숫자 알아내기\n",
    "1. requests, BeautifulSoup 사용"
   ]
  },
  {
   "cell_type": "code",
   "execution_count": 14,
   "metadata": {
    "collapsed": true,
    "deletable": true,
    "editable": true,
    "slideshow": {
     "slide_type": "-"
    }
   },
   "outputs": [],
   "source": [
    "from bs4 import BeautifulSoup\n",
    "import requests"
   ]
  },
  {
   "cell_type": "code",
   "execution_count": 15,
   "metadata": {
    "collapsed": false,
    "deletable": true,
    "editable": true,
    "slideshow": {
     "slide_type": "-"
    }
   },
   "outputs": [],
   "source": [
    "url = 'http://finance.naver.com/item/sise_day.nhn?code=105560&page=1'\n",
    "r = requests.get(url)\n",
    "soup = BeautifulSoup(r.text, \"lxml\")"
   ]
  },
  {
   "cell_type": "code",
   "execution_count": 16,
   "metadata": {
    "collapsed": false,
    "deletable": true,
    "editable": true,
    "slideshow": {
     "slide_type": "-"
    }
   },
   "outputs": [
    {
     "data": {
      "text/plain": [
       "<td class=\"pgRR\">\n",
       "<a href=\"/item/sise_day.nhn?code=105560&amp;page=209\">맨뒤\n",
       "\t\t\t\t<img alt=\"\" border=\"0\" height=\"5\" src=\"http://static.naver.net/n/cmn/bu_pgarRR.gif\" width=\"8\"/>\n",
       "</a>\n",
       "</td>"
      ]
     },
     "execution_count": 16,
     "metadata": {},
     "output_type": "execute_result"
    }
   ],
   "source": [
    "td = soup.find('td', attrs={'class':'pgRR'})\n",
    "td"
   ]
  },
  {
   "cell_type": "code",
   "execution_count": 17,
   "metadata": {
    "collapsed": false,
    "deletable": true,
    "editable": true,
    "slideshow": {
     "slide_type": "-"
    }
   },
   "outputs": [
    {
     "data": {
      "text/plain": [
       "209"
      ]
     },
     "execution_count": 17,
     "metadata": {},
     "output_type": "execute_result"
    }
   ],
   "source": [
    "td = soup.find('td', attrs={'class':'pgRR'})\n",
    "npage = int(td.a['href'].split('page=')[1])\n",
    "npage"
   ]
  },
  {
   "cell_type": "code",
   "execution_count": 18,
   "metadata": {
    "collapsed": false,
    "deletable": true,
    "editable": true,
    "slideshow": {
     "slide_type": "slide"
    }
   },
   "outputs": [],
   "source": [
    "from bs4 import BeautifulSoup\n",
    "import requests\n",
    "\n",
    "def get_last_page_num(code):\n",
    "    npage = 1\n",
    "    url = 'http://finance.naver.com/item/sise_day.nhn?code=%s&page=1' % (code)\n",
    "    r = requests.get(url)\n",
    "    soup = BeautifulSoup(r.text, \"lxml\")\n",
    "    td = soup.find('td', attrs={'class':'pgRR'})\n",
    "    if td:\n",
    "        npage = td.a['href'].split('page=')[1]\n",
    "    return int(npage)"
   ]
  },
  {
   "cell_type": "code",
   "execution_count": 19,
   "metadata": {
    "collapsed": false,
    "deletable": true,
    "editable": true,
    "slideshow": {
     "slide_type": "-"
    }
   },
   "outputs": [
    {
     "data": {
      "text/plain": [
       "523"
      ]
     },
     "execution_count": 19,
     "metadata": {},
     "output_type": "execute_result"
    }
   ],
   "source": [
    "get_last_page_num('005930') # 삼성전자"
   ]
  },
  {
   "cell_type": "code",
   "execution_count": 20,
   "metadata": {
    "collapsed": false,
    "deletable": true,
    "editable": true,
    "slideshow": {
     "slide_type": "-"
    }
   },
   "outputs": [
    {
     "data": {
      "text/plain": [
       "209"
      ]
     },
     "execution_count": 20,
     "metadata": {},
     "output_type": "execute_result"
    }
   ],
   "source": [
    "get_last_page_num('105560') # KB금융"
   ]
  },
  {
   "cell_type": "markdown",
   "metadata": {
    "collapsed": false,
    "deletable": true,
    "editable": true,
    "slideshow": {
     "slide_type": "slide"
    }
   },
   "source": [
    "# 페이지 전체 네비게이션"
   ]
  },
  {
   "cell_type": "code",
   "execution_count": 21,
   "metadata": {
    "collapsed": false,
    "deletable": true,
    "editable": true,
    "slideshow": {
     "slide_type": "-"
    }
   },
   "outputs": [],
   "source": [
    "url_tmpl = 'http://finance.naver.com/item/sise_day.nhn?code=105560&page=%d'\n",
    "\n",
    "npages = get_last_page_num('105560')\n",
    "for p in range(1, npages + 1):\n",
    "    url = url_tmpl % p\n"
   ]
  },
  {
   "cell_type": "code",
   "execution_count": 22,
   "metadata": {
    "collapsed": false,
    "deletable": true,
    "editable": true,
    "slideshow": {
     "slide_type": "-"
    }
   },
   "outputs": [
    {
     "data": {
      "text/html": [
       "<div>\n",
       "<table border=\"1\" class=\"dataframe\">\n",
       "  <thead>\n",
       "    <tr style=\"text-align: right;\">\n",
       "      <th></th>\n",
       "      <th>date</th>\n",
       "      <th>close</th>\n",
       "      <th>change</th>\n",
       "      <th>open</th>\n",
       "      <th>high</th>\n",
       "      <th>low</th>\n",
       "      <th>volume</th>\n",
       "      <th>code</th>\n",
       "    </tr>\n",
       "  </thead>\n",
       "  <tbody>\n",
       "    <tr>\n",
       "      <th>0</th>\n",
       "      <td>2017-03-09</td>\n",
       "      <td>48550</td>\n",
       "      <td>350</td>\n",
       "      <td>48950</td>\n",
       "      <td>49300</td>\n",
       "      <td>48400</td>\n",
       "      <td>413213</td>\n",
       "      <td>105560</td>\n",
       "    </tr>\n",
       "    <tr>\n",
       "      <th>1</th>\n",
       "      <td>2017-03-08</td>\n",
       "      <td>48900</td>\n",
       "      <td>950</td>\n",
       "      <td>48000</td>\n",
       "      <td>49000</td>\n",
       "      <td>47800</td>\n",
       "      <td>1360589</td>\n",
       "      <td>105560</td>\n",
       "    </tr>\n",
       "    <tr>\n",
       "      <th>2</th>\n",
       "      <td>2017-03-07</td>\n",
       "      <td>47950</td>\n",
       "      <td>450</td>\n",
       "      <td>47300</td>\n",
       "      <td>48200</td>\n",
       "      <td>47300</td>\n",
       "      <td>777078</td>\n",
       "      <td>105560</td>\n",
       "    </tr>\n",
       "    <tr>\n",
       "      <th>3</th>\n",
       "      <td>2017-03-06</td>\n",
       "      <td>47500</td>\n",
       "      <td>100</td>\n",
       "      <td>47400</td>\n",
       "      <td>47850</td>\n",
       "      <td>47200</td>\n",
       "      <td>1215440</td>\n",
       "      <td>105560</td>\n",
       "    </tr>\n",
       "    <tr>\n",
       "      <th>4</th>\n",
       "      <td>2017-03-03</td>\n",
       "      <td>47400</td>\n",
       "      <td>650</td>\n",
       "      <td>47750</td>\n",
       "      <td>48500</td>\n",
       "      <td>47150</td>\n",
       "      <td>1193588</td>\n",
       "      <td>105560</td>\n",
       "    </tr>\n",
       "    <tr>\n",
       "      <th>5</th>\n",
       "      <td>2017-03-02</td>\n",
       "      <td>48050</td>\n",
       "      <td>1150</td>\n",
       "      <td>48850</td>\n",
       "      <td>48850</td>\n",
       "      <td>47850</td>\n",
       "      <td>1995223</td>\n",
       "      <td>105560</td>\n",
       "    </tr>\n",
       "    <tr>\n",
       "      <th>6</th>\n",
       "      <td>2017-02-28</td>\n",
       "      <td>46900</td>\n",
       "      <td>1050</td>\n",
       "      <td>46300</td>\n",
       "      <td>47150</td>\n",
       "      <td>46100</td>\n",
       "      <td>1211585</td>\n",
       "      <td>105560</td>\n",
       "    </tr>\n",
       "    <tr>\n",
       "      <th>7</th>\n",
       "      <td>2017-02-27</td>\n",
       "      <td>45850</td>\n",
       "      <td>1850</td>\n",
       "      <td>47750</td>\n",
       "      <td>48100</td>\n",
       "      <td>45800</td>\n",
       "      <td>1126840</td>\n",
       "      <td>105560</td>\n",
       "    </tr>\n",
       "    <tr>\n",
       "      <th>8</th>\n",
       "      <td>2017-02-24</td>\n",
       "      <td>47700</td>\n",
       "      <td>50</td>\n",
       "      <td>48000</td>\n",
       "      <td>48500</td>\n",
       "      <td>47550</td>\n",
       "      <td>1186040</td>\n",
       "      <td>105560</td>\n",
       "    </tr>\n",
       "    <tr>\n",
       "      <th>9</th>\n",
       "      <td>2017-02-23</td>\n",
       "      <td>47650</td>\n",
       "      <td>450</td>\n",
       "      <td>46750</td>\n",
       "      <td>47750</td>\n",
       "      <td>46750</td>\n",
       "      <td>876252</td>\n",
       "      <td>105560</td>\n",
       "    </tr>\n",
       "  </tbody>\n",
       "</table>\n",
       "</div>"
      ],
      "text/plain": [
       "        date  close  change   open   high    low   volume    code\n",
       "0 2017-03-09  48550     350  48950  49300  48400   413213  105560\n",
       "1 2017-03-08  48900     950  48000  49000  47800  1360589  105560\n",
       "2 2017-03-07  47950     450  47300  48200  47300   777078  105560\n",
       "3 2017-03-06  47500     100  47400  47850  47200  1215440  105560\n",
       "4 2017-03-03  47400     650  47750  48500  47150  1193588  105560\n",
       "5 2017-03-02  48050    1150  48850  48850  47850  1995223  105560\n",
       "6 2017-02-28  46900    1050  46300  47150  46100  1211585  105560\n",
       "7 2017-02-27  45850    1850  47750  48100  45800  1126840  105560\n",
       "8 2017-02-24  47700      50  48000  48500  47550  1186040  105560\n",
       "9 2017-02-23  47650     450  46750  47750  46750   876252  105560"
      ]
     },
     "execution_count": 22,
     "metadata": {},
     "output_type": "execute_result"
    }
   ],
   "source": [
    "df_price['code'] = '105560'\n",
    "df_price"
   ]
  },
  {
   "cell_type": "markdown",
   "metadata": {
    "deletable": true,
    "editable": true,
    "slideshow": {
     "slide_type": "slide"
    }
   },
   "source": [
    "# 전종목 과거 가격 데이터저장"
   ]
  },
  {
   "cell_type": "code",
   "execution_count": 24,
   "metadata": {
    "collapsed": false,
    "deletable": true,
    "editable": true,
    "slideshow": {
     "slide_type": "-"
    }
   },
   "outputs": [],
   "source": [
    "# stock_price 테이블 생성\n",
    "conn = sqlite3.connect('findata.db')\n",
    "\n",
    "sql = '''\n",
    "CREATE TABLE \"stock_price\" (    \n",
    "  \"date\" TIMESTAMP,\n",
    "  \"code\" TEXT,\n",
    "  \"close\" INTEGER,\n",
    "  \"change\" INTEGER,\n",
    "  \"open\" INTEGER,\n",
    "  \"high\" INTEGER, \n",
    "  \"low\" INTEGER,  \n",
    "  \"volume\" INTEGER\n",
    ");\n",
    "'''\n",
    "c = conn.cursor()\n",
    "c.execute(sql)\n",
    "conn.close()"
   ]
  },
  {
   "cell_type": "code",
   "execution_count": 25,
   "metadata": {
    "collapsed": false,
    "deletable": true,
    "editable": true,
    "slideshow": {
     "slide_type": "slide"
    }
   },
   "outputs": [
    {
     "name": "stdout",
     "output_type": "stream",
     "text": [
      "209,208,207,206,205,204,203,202,201,200,199,198,197,196,195,194,193,192,191,190,189,188,187,186,185,184,183,182,181,180,179,178,177,176,175,174,173,172,171,170,169,168,167,166,165,164,163,162,161,160,159,158,157,156,155,154,153,152,151,150,149,148,147,146,145,144,143,142,141,140,139,138,137,136,135,134,133,132,131,130,129,128,127,126,125,124,123,122,121,120,119,118,117,116,115,114,113,112,111,110,109,108,107,106,105,104,103,102,101,100,99,98,97,96,95,94,93,92,91,90,89,88,87,86,85,84,83,82,81,80,79,78,77,76,75,74,73,72,71,70,69,68,67,66,65,64,63,62,61,60,59,58,57,56,55,54,53,52,51,50,49,48,47,46,45,44,43,42,41,40,39,38,37,36,35,34,33,32,31,30,29,28,27,26,25,24,23,22,21,20,19,18,17,16,15,14,13,12,11,10,9,8,7,6,5,4,3,2,1,"
     ]
    }
   ],
   "source": [
    "import sqlite3\n",
    "conn = sqlite3.connect('findata.db')\n",
    "\n",
    "code = '105560'\n",
    "\n",
    "url_tmpl = 'http://finance.naver.com/item/sise_day.nhn?code=%s&page=%d'\n",
    "\n",
    "npages = get_last_page_num(code)\n",
    "\n",
    "for p in range(npages, 0, -1):\n",
    "    url = url_tmpl % (code, p)\n",
    "    dfs = pd.read_html(url)\n",
    "    df_price = dfs[0]\n",
    "    df_price.columns = ['date', 'close', 'change', 'open', 'high', 'low', 'volume']\n",
    "    df_price = df_price[1:] \n",
    "    df_price = df_price.replace('\\.', '-', regex=True)\n",
    "    df_price['date'] = pd.to_datetime(df_price['date'])\n",
    "    int_cols = ['close', 'change', 'open', 'high', 'low', 'volume']\n",
    "    df_price[int_cols] = df_price[int_cols].astype('int', raise_on_error=False)\n",
    "    df_price['code'] = code\n",
    "    df_price.to_sql('stock_price', conn, if_exists='append', index=False)\n",
    "    print('%d,' % p, end='')"
   ]
  },
  {
   "cell_type": "code",
   "execution_count": 26,
   "metadata": {
    "collapsed": false,
    "deletable": true,
    "editable": true
   },
   "outputs": [
    {
     "data": {
      "text/html": [
       "<div>\n",
       "<table border=\"1\" class=\"dataframe\">\n",
       "  <thead>\n",
       "    <tr style=\"text-align: right;\">\n",
       "      <th></th>\n",
       "      <th>close</th>\n",
       "      <th>change</th>\n",
       "      <th>open</th>\n",
       "      <th>high</th>\n",
       "      <th>low</th>\n",
       "      <th>volume</th>\n",
       "    </tr>\n",
       "  </thead>\n",
       "  <tbody>\n",
       "    <tr>\n",
       "      <th>1</th>\n",
       "      <td>48450</td>\n",
       "      <td>450</td>\n",
       "      <td>48950</td>\n",
       "      <td>49300</td>\n",
       "      <td>48400</td>\n",
       "      <td>422030</td>\n",
       "    </tr>\n",
       "    <tr>\n",
       "      <th>2</th>\n",
       "      <td>48900</td>\n",
       "      <td>950</td>\n",
       "      <td>48000</td>\n",
       "      <td>49000</td>\n",
       "      <td>47800</td>\n",
       "      <td>1360589</td>\n",
       "    </tr>\n",
       "    <tr>\n",
       "      <th>3</th>\n",
       "      <td>47950</td>\n",
       "      <td>450</td>\n",
       "      <td>47300</td>\n",
       "      <td>48200</td>\n",
       "      <td>47300</td>\n",
       "      <td>777078</td>\n",
       "    </tr>\n",
       "    <tr>\n",
       "      <th>4</th>\n",
       "      <td>47500</td>\n",
       "      <td>100</td>\n",
       "      <td>47400</td>\n",
       "      <td>47850</td>\n",
       "      <td>47200</td>\n",
       "      <td>1215440</td>\n",
       "    </tr>\n",
       "    <tr>\n",
       "      <th>5</th>\n",
       "      <td>47400</td>\n",
       "      <td>650</td>\n",
       "      <td>47750</td>\n",
       "      <td>48500</td>\n",
       "      <td>47150</td>\n",
       "      <td>1193588</td>\n",
       "    </tr>\n",
       "    <tr>\n",
       "      <th>6</th>\n",
       "      <td>48050</td>\n",
       "      <td>1150</td>\n",
       "      <td>48850</td>\n",
       "      <td>48850</td>\n",
       "      <td>47850</td>\n",
       "      <td>1995223</td>\n",
       "    </tr>\n",
       "    <tr>\n",
       "      <th>7</th>\n",
       "      <td>46900</td>\n",
       "      <td>1050</td>\n",
       "      <td>46300</td>\n",
       "      <td>47150</td>\n",
       "      <td>46100</td>\n",
       "      <td>1211585</td>\n",
       "    </tr>\n",
       "    <tr>\n",
       "      <th>8</th>\n",
       "      <td>45850</td>\n",
       "      <td>1850</td>\n",
       "      <td>47750</td>\n",
       "      <td>48100</td>\n",
       "      <td>45800</td>\n",
       "      <td>1126840</td>\n",
       "    </tr>\n",
       "    <tr>\n",
       "      <th>9</th>\n",
       "      <td>47700</td>\n",
       "      <td>50</td>\n",
       "      <td>48000</td>\n",
       "      <td>48500</td>\n",
       "      <td>47550</td>\n",
       "      <td>1186040</td>\n",
       "    </tr>\n",
       "    <tr>\n",
       "      <th>10</th>\n",
       "      <td>47650</td>\n",
       "      <td>450</td>\n",
       "      <td>46750</td>\n",
       "      <td>47750</td>\n",
       "      <td>46750</td>\n",
       "      <td>876252</td>\n",
       "    </tr>\n",
       "  </tbody>\n",
       "</table>\n",
       "</div>"
      ],
      "text/plain": [
       "    close  change   open   high    low   volume\n",
       "1   48450     450  48950  49300  48400   422030\n",
       "2   48900     950  48000  49000  47800  1360589\n",
       "3   47950     450  47300  48200  47300   777078\n",
       "4   47500     100  47400  47850  47200  1215440\n",
       "5   47400     650  47750  48500  47150  1193588\n",
       "6   48050    1150  48850  48850  47850  1995223\n",
       "7   46900    1050  46300  47150  46100  1211585\n",
       "8   45850    1850  47750  48100  45800  1126840\n",
       "9   47700      50  48000  48500  47550  1186040\n",
       "10  47650     450  46750  47750  46750   876252"
      ]
     },
     "execution_count": 26,
     "metadata": {},
     "output_type": "execute_result"
    }
   ],
   "source": [
    "df_price[int_cols]"
   ]
  },
  {
   "cell_type": "code",
   "execution_count": 27,
   "metadata": {
    "collapsed": false,
    "deletable": true,
    "editable": true,
    "slideshow": {
     "slide_type": "slide"
    }
   },
   "outputs": [],
   "source": [
    "import sqlite3\n",
    "conn = sqlite3.connect('findata.db')\n",
    "\n",
    "def stock_code_price_to_sql(code):\n",
    "    df_max = pd.read_sql('SELECT * FROM stock_price where code=\"%s\" ORDER BY date DESC LIMIT 1', conn)\n",
    "    \n",
    "    url_tmpl = 'http://finance.naver.com/item/sise_day.nhn?code=%s&page=%d'\n",
    "    npages = get_last_page_num(code)\n",
    "    for p in range(npages, 0, -1):\n",
    "        url = url_tmpl % (code, p)\n",
    "        dfs = pd.read_html(url)\n",
    "        df_price = dfs[0]\n",
    "        df_price.columns = ['date', 'close', 'change', 'open', 'high', 'low', 'volume']\n",
    "        df_price = df_price[1:] \n",
    "        df_price = df_price.replace('\\.', '-', regex=True)\n",
    "        df_price['date'] = pd.to_datetime(df_price['date'])\n",
    "        df_price[int_cols] = df_price[int_cols].astype('int', raise_on_error=False)\n",
    "        df_price['code'] = code\n",
    "        df_price.to_sql('stock_price', conn, if_exists='append', index=False)\n",
    "        print('%d,' % p, end='')\n",
    "    print()"
   ]
  },
  {
   "cell_type": "code",
   "execution_count": 28,
   "metadata": {
    "collapsed": false,
    "deletable": true,
    "editable": true,
    "slideshow": {
     "slide_type": "-"
    }
   },
   "outputs": [
    {
     "name": "stdout",
     "output_type": "stream",
     "text": [
      "209,208,207,206,205,204,203,202,201,200,199,198,197,196,195,194,193,192,191,190,189,188,187,186,185,184,183,182,181,180,179,178,177,176,175,174,173,172,171,170,169,168,167,166,165,164,163,162,161,160,159,158,157,156,155,154,153,152,151,150,149,148,147,146,145,144,143,142,141,140,139,138,137,136,135,134,133,132,131,130,129,128,127,126,125,124,123,122,121,120,119,118,117,116,115,114,113,112,111,110,109,108,107,106,105,104,103,102,101,100,99,98,97,96,95,94,93,92,91,90,89,88,87,86,85,84,83,82,81,80,79,78,77,76,75,74,73,72,71,70,69,68,67,66,65,64,63,62,61,60,59,58,57,56,55,54,53,52,51,50,49,48,47,46,45,44,43,42,41,40,39,38,37,36,35,34,33,32,31,30,29,28,27,26,25,24,23,22,21,20,19,18,17,16,15,14,13,12,11,10,9,8,7,6,5,4,3,2,1,\n"
     ]
    }
   ],
   "source": [
    "stock_code_price_to_sql('105560')"
   ]
  },
  {
   "cell_type": "code",
   "execution_count": 29,
   "metadata": {
    "collapsed": true,
    "deletable": true,
    "editable": true,
    "slideshow": {
     "slide_type": "-"
    }
   },
   "outputs": [],
   "source": [
    "conn.close()"
   ]
  },
  {
   "cell_type": "markdown",
   "metadata": {
    "collapsed": true,
    "deletable": true,
    "editable": true,
    "slideshow": {
     "slide_type": "slide"
    }
   },
   "source": [
    "# 데이터 확인"
   ]
  },
  {
   "cell_type": "code",
   "execution_count": 30,
   "metadata": {
    "collapsed": false,
    "deletable": true,
    "editable": true,
    "slideshow": {
     "slide_type": "-"
    }
   },
   "outputs": [
    {
     "data": {
      "text/plain": [
       "<matplotlib.axes._subplots.AxesSubplot at 0x7f978965fe48>"
      ]
     },
     "execution_count": 30,
     "metadata": {},
     "output_type": "execute_result"
    },
    {
     "data": {
      "image/png": "[encoded data removed]",
      "text/plain": [
       "<matplotlib.figure.Figure at 0x7f978965f278>"
      ]
     },
     "metadata": {},
     "output_type": "display_data"
    }
   ],
   "source": [
    "%matplotlib inline\n",
    "\n",
    "import sqlite3\n",
    "conn = sqlite3.connect('findata.db')\n",
    "\n",
    "df_price = pd.read_sql('SELECT * FROM stock_price limit 30', conn)\n",
    "df_price.head()\n",
    "\n",
    "# 테이블  읽기\n",
    "df_price = pd.read_sql(\n",
    "    'SELECT * '\n",
    "    'FROM stock_price '\n",
    "    'WHERE code=\"105560\" and date BETWEEN \"2015-01-01\" AND \"2016-04-30\"', \n",
    "    conn,\n",
    "    index_col='date')\n",
    "\n",
    "conn.close()\n",
    "\n",
    "df_price['close'].plot(figsize=(14,4))"
   ]
  },
  {
   "cell_type": "markdown",
   "metadata": {
    "deletable": true,
    "editable": true,
    "slideshow": {
     "slide_type": "slide"
    }
   },
   "source": [
    "# 전체 다운로드\n",
    "(주의: 전체 다운로드를 위해서는 4~5일 정도 소요됩니다)"
   ]
  },
  {
   "cell_type": "code",
   "execution_count": 31,
   "metadata": {
    "collapsed": false,
    "deletable": true,
    "editable": true,
    "slideshow": {
     "slide_type": "-"
    }
   },
   "outputs": [
    {
     "name": "stdout",
     "output_type": "stream",
     "text": [
      "369,368,367,366,365,364,363,362,361,360,359,358,357,356,355,354,353,352,351,350,349,348,347,346,345,344,343,342,341,340,339,338,337,336,335,334,333,332,331,330,329,328,327,326,325,324,323,322,321,320,319,318,317,316,315,314,313,312,311,310,309,308,307,306,305,304,303,302,301,300,299,298,297,296,295,294,293,292,291,290,289,288,287,286,285,284,283,282,281,280,279,278,277,276,275,274,273,272,271,270,269,268,267,266,265,264,263,262,261,260,259,258,257,256,255,254,253,252,251,250,249,248,247,246,245,244,243,242,241,240,239,238,237,236,235,234,233,232,231,230,229,228,227,226,225,224,223,222,221,220,219,218,217,216,215,214,213,212,211,210,209,208,207,206,205,204,203,202,201,200,199,198,197,196,195,194,193,192,191,190,189,188,187,186,185,184,183,182,181,180,179,178,177,176,175,174,173,172,171,170,169,168,167,166,165,164,163,162,161,160,159,158,157,156,155,154,153,152,151,150,149,148,147,146,145,144,143,142,141,140,139,138,137,136,135,134,133,132,131,130,129,128,127,126,125,124,123,122,121,120,119,118,117,116,115,114,113,112,111,110,109,108,107,106,105,104,103,102,101,100,99,98,97,96,95,94,93,92,91,90,89,88,87,86,85,84,83,82,81,80,79,78,77,76,75,74,73,72,71,70,69,68,67,66,65,64,63,62,61,60,59,58,57,56,55,54,53,52,51,50,49,48,47,46,45,44,43,42,41,40,39,38,37,36,35,34,33,32,31,30,29,28,27,26,25,24,23,22,21,20,19,18,17,16,15,14,13,12,11,10,9,8,7,6,5,4,3,2,1,\n",
      "39,38,37,36,35,34,33,32,31,30,29,28,27,26,25,24,23,22,21,20,19,18,17,16,15,14,13,12,11,10,9,8,7,6,5,4,3,2,1,\n"
     ]
    }
   ],
   "source": [
    "# 마스터(코드+종목명) 읽기\n",
    "conn = sqlite3.connect('findata.db')\n",
    "df_master = pd.read_sql('SELECT * FROM stock_master', conn)\n",
    "df_master.head()\n",
    "\n",
    "# 처음 2개 종목만,\n",
    "for inx, row in df_master[:2].iterrows(): \n",
    "    stock_code_price_to_sql(row['code'])\n",
    "\n",
    "# 모든종목에 대해 실행 하려면, 아래 코드 실행\n",
    "# for inx, row in df_master.iterrows(): \n",
    "#     stock_code_price_to_sql(row['code'])"
   ]
  },
  {
   "cell_type": "markdown",
   "metadata": {
    "deletable": true,
    "editable": true,
    "slideshow": {
     "slide_type": "slide"
    }
   },
   "source": [
    "# 코드 전체 (stock_price)\n",
    "* stock_price 테이블을 업데이트하는 최종 코드 입니다.\n",
    "* stock_master 테이블이 미리 생성되어 있어야 합니다.\n",
    "* 다음 코드를 .py 파일로 저장한 뒤 실행하면 됩니다. "
   ]
  },
  {
   "cell_type": "code",
   "execution_count": 32,
   "metadata": {
    "collapsed": false,
    "deletable": true,
    "editable": true,
    "slideshow": {
     "slide_type": "-"
    }
   },
   "outputs": [
    {
     "name": "stdout",
     "output_type": "stream",
     "text": [
      "Overwriting stock_price.py\n"
     ]
    }
   ],
   "source": [
    "%%writefile stock_price.py\n",
    "#!/usr/bin/python\n",
    "\n",
    "# stock_price.py\n",
    "# findata.db \n",
    "\n",
    "import sqlite3\n",
    "import pandas as pd\n",
    "from datetime import datetime, timedelta\n",
    "from bs4 import BeautifulSoup\n",
    "import requests\n",
    "\n",
    "def get_last_page_num(code):\n",
    "    npage = 1\n",
    "    url = 'http://finance.naver.com/item/sise_day.nhn?code=%s&page=1' % (code)\n",
    "    r = requests.get(url)\n",
    "    soup = BeautifulSoup(r.text, \"lxml\")\n",
    "    td = soup.find('td', attrs={'class':'pgRR'})\n",
    "    if td:\n",
    "        npage = td.a['href'].split('page=')[1]\n",
    "    return int(npage)\n",
    "\n",
    "def get_data_naver(code, start=datetime(1900,1,1), end=datetime(2100,1,1)):\n",
    "    url_tmpl = 'http://finance.naver.com/item/sise_day.nhn?code=%s&page=%d'\n",
    "    npages = get_last_page_num(code)\n",
    "    df_price = pd.DataFrame()\n",
    "    for p in range(1, npages+1):\n",
    "        url = url_tmpl % (code, p)\n",
    "        dfs = pd.read_html(url)\n",
    "        \n",
    "        # first page\n",
    "        df = dfs[0] \n",
    "        df.columns = ['date', 'close', 'change', 'open', 'high', 'low', 'volume']\n",
    "        df = df[1:]\n",
    "        df.dropna(inplace=True)\n",
    "        df = df.replace('\\.', '-', regex=True)\n",
    "\n",
    "        # select date range\n",
    "        start_str = start.strftime(\"%Y-%m-%d\")\n",
    "        end_str = end.strftime(\"%Y-%m-%d\")\n",
    "        mask = (df['date'] >= start_str) & (df['date'] <= end_str)\n",
    "        df_in = df[mask]\n",
    "\n",
    "        # merge dataframe\n",
    "        df_price = df_price.append(df_in)\n",
    "        print('%d,' % p, end='', flush=True)\n",
    "        print(df['date'].max())\n",
    "        if df['date'].max() <= start_str:\n",
    "            break\n",
    "    print()\n",
    "    df_price['date'] = pd.to_datetime(df_price['date'])\n",
    "    int_cols = ['close', 'change', 'open', 'high', 'low', 'volume']\n",
    "    df_price[int_cols] = df_price[int_cols].astype('int', raise_on_error=False)\n",
    "    df_price.set_index('date', inplace=True)\n",
    "    return df_price\n",
    "    \n",
    "if __name__ == \"__main__\":\n",
    "    conn = sqlite3.connect('findata.db')\n",
    "    df_master = pd.read_sql(\"SELECT * FROM stock_master\", conn)\n",
    "    for inx, row in df_master.iterrows():\n",
    "        print(row['code'], row['name'])\n",
    "        #  start: DB에 저장된 마지막 날짜 + 1일\n",
    "        df_max = pd.read_sql('SELECT MAX (date) AS \"maxdate\" FROM stock_price WHERE code=\"%s\"' % row['code'], conn)\n",
    "        last_date = datetime(1900,1,1)\n",
    "        if df_max['maxdate'].iloc[0] != None:\n",
    "            last_date = datetime.strptime(df_max['maxdate'].iloc[0], \"%Y-%m-%d %H:%M:%S\")\n",
    "        start = last_date + timedelta(1)\n",
    "\n",
    "        # end: 전일\n",
    "        yday = datetime.today() - timedelta(1)\n",
    "        end = datetime(yday.year, yday.month, yday.day)\n",
    "        \n",
    "        df_price = get_data_naver(row['code'], start, end)\n",
    "        df_price['code'] = row['code']\n",
    "        df_price.to_sql('stock_price', conn, if_exists='append', index=True)\n",
    "        print('%d rows' % len(df_price))\n",
    "    conn.close()"
   ]
  },
  {
   "cell_type": "markdown",
   "metadata": {
    "deletable": true,
    "editable": true,
    "slideshow": {
     "slide_type": "slide"
    }
   },
   "source": [
    "# 실행하기\n",
    "\n",
    "명령어 라인에서 아래와 같이 실행합니다.\n",
    "\n",
    "```bash\n",
    "$ python3 stock_price.py\n",
    "```"
   ]
  },
  {
   "cell_type": "markdown",
   "metadata": {
    "deletable": true,
    "editable": true,
    "slideshow": {
     "slide_type": "slide"
    }
   },
   "source": [
    "# 인덱스\n",
    "* 주요한 컬럼(특히, WHERE 절에 들어가는 컬럼)에 인덱스 생성한다.\n",
    "* 인덱스 여부에 따라 검색 시간이 줄어든다. (예, date의 like검색의 경우 5.1초 --> 6.4 ms)\n",
    "\n",
    "```sql\n",
    "$ sqlite3 findata.db                                                                   \n",
    "SQLite version 3.8.2 2013-12-06 14:53:30\n",
    "Enter \".help\" for instructions\n",
    "Enter SQL statements terminated with a \";\"\n",
    "sqlite> create index ix_date on stock_price(date);\n",
    "sqlite> create index ix_date on stock_price(code);\n",
    "```"
   ]
  },
  {
   "cell_type": "markdown",
   "metadata": {
    "deletable": true,
    "editable": true,
    "slideshow": {
     "slide_type": "notes"
    }
   },
   "source": [
    "#### 2017 https://facebook.com/financedata"
   ]
  }
 ],
 "metadata": {
  "celltoolbar": "Slideshow",
  "kernelspec": {
   "display_name": "Python 3",
   "language": "python",
   "name": "python3"
  },
  "language_info": {
   "codemirror_mode": {
    "name": "ipython",
    "version": 3
   },
   "file_extension": ".py",
   "mimetype": "text/x-python",
   "name": "python",
   "nbconvert_exporter": "python",
   "pygments_lexer": "ipython3",
   "version": "3.6.0"
  }
 },
 "nbformat": 4,
 "nbformat_minor": 0
}
