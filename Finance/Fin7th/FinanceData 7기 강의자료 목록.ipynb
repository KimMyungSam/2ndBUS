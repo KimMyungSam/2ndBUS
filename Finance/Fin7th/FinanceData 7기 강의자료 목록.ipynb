{
 "cells": [
  {
   "cell_type": "markdown",
   "metadata": {},
   "source": [
    "### 금융 데이터 수집과 분석 자동화 프로젝트 CAMP 7기 \n",
    "\n",
    "# 강의 자료 목록\n",
    "\n",
    "<img width=\"30%\" src=\"http://goo.gl/0iIqbh\" >\n",
    "\n",
    "#### 이승준 https://fb.com/financedata"
   ]
  },
  {
   "cell_type": "markdown",
   "metadata": {},
   "source": [
    "# 0. 오리엔테이션\n",
    "* 금융 데이터 수집과 분석 오리엔테이션 <br> https://nbviewer.jupyter.org/53be776416ba5b8711ea5f6413b5bf64\n",
    "* 추천 무료 온라인 강좌 <br> https://nbviewer.jupyter.org/urls/financedata.github.io/posts/recommended-free-online-courses.ipynb\n",
    "* (읽기) 자본주의 <br>https://slideshare.net/plusjune/ss-55825058 "
   ]
  },
  {
   "cell_type": "markdown",
   "metadata": {},
   "source": [
    "# 1. 파이썬 데이터 분석 환경과 도구\n",
    "\n",
    "## 1.1 개발환경 만들기\n",
    "* 01 금융 데이터 분석을 위한 파이썬 개발환경 만들기 <br/> https://nbviewer.jupyter.org/6251be888f0f5ca49e29270d5cb80d94\n",
    "* 02 데이터 분석 환경 만들기 - 클라우드 IDE (c9) <br/> https://nbviewer.ipython.org/ce2d4180328bc747b096071e8aee4225\n",
    "\n",
    "## 1.2 Jupiter Notebook\n",
    "* 01 Jupiter Notebook <br/> https://nbviewer.jupyter.org/d0ef3dda3518e1d555955afc7d8381d2\n",
    "\n",
    "## 1.3 참고\n",
    "* (참고) Jupyter Notebook 키보드 바로가기 <br/>http://nbviewer.jupyter.org/urls/financedata.github.io/posts/jupyter-notebook-shortcuts.ipynb\n",
    "* (참고) 과정에서 언급하는 파이썬 패키지 목록 <br/> https://nbviewer.jupyter.org/b7e52b3196144ae6ed955b7bee433e7b\n",
    "\n",
    "\n",
    "## 1.4 데이터 수집 분석 환경 만들기 전체 과정\n",
    "* 데이터 수집 분석 환경 만들기 전체 과정 (c9) <br/> https://nbviewer.jupyter.org/01623efe62e9175da1869bf9901a942c"
   ]
  },
  {
   "cell_type": "markdown",
   "metadata": {},
   "source": [
    "# 2. 파이썬 프로그래밍 언어\n",
    "* 01 파이썬 프로그래밍 언어 소개 <br/> https://nbviewer.ipython.org/fb5c8224cc3c579101b6a3a16d907113\n",
    "* 02  파이썬 전체 조망 - 단어 세기 프로그램<br/> https://nbviewer.ipython.org/b39cefa694664a667d24418201659737"
   ]
  },
  {
   "cell_type": "markdown",
   "metadata": {},
   "source": [
    "# 3. 금융 개론\n",
    "* 금융 개론 01 - 금융시장.ipynb <br/> https://nbviewer.ipython.org/fd0d91c3ea6364edd8e151a4f7267038\n",
    "* 금융 개론 02 - 금융상품.ipynb <br/> https://nbviewer.ipython.org/1c3f7f76d56cc6a13b96ab82561a5e34\n",
    "* 금융 개론 03 - 금리와 환율.ipynb <br/> https://nbviewer.ipython.org/f7507d5d80f0fd79a8fc100c6a8f7879\n",
    "* 금융 개론 04 - 현대 포트폴리오 이론 <br/> https://nbviewer.ipython.org/834df3a914fa9a3f74e26df1c601fef6"
   ]
  },
  {
   "cell_type": "markdown",
   "metadata": {},
   "source": [
    "# 4.마켓 데이터 크롤링\n",
    "\n",
    "\n",
    "## 4.0 개요\n",
    "* 마켓 데이터 크롤링 000 - 개요<br> https://nbviewer.ipython.org/fdb1bbf53d95adef83cbb6c7ee18e44f\n",
    "\n",
    "\n",
    "## 4.1 한국거래소(KRX)\n",
    "* 마켓 데이터 크롤링 100 - KRX 01 종목 코드 전체 - 상장법인목록<br> https://nbviewer.ipython.org/6a1ea256e027f45bd2e165b5b2751a95\n",
    "* 마켓 데이터 크롤링 100 - KRX 02 종목 코드 전체 - 시가총액 순위<br> https://nbviewer.ipython.org/cd423c6d13cdb4635cb74e33f6e2dae7\n",
    "* 마켓 데이터 크롤링 100 - KRX 03 개별종목 일자별 시세<br> https://nbviewer.ipython.org/4e777508bbb84a19a476ad54ff276773\n",
    "* 마켓 데이터 크롤링 100 - KRX 04 상세 가격 데이터 구축<br> https://nbviewer.ipython.org/da416b1cf956019cd86d8de855a1f698\n",
    "* 마켓 데이터 크롤링 100 - KRX 05 외국인 한도 소진 상위<br> https://nbviewer.ipython.org/6ba259505bb103badd4c1f8fbe87ad92\n",
    "\n",
    "## 4.2 금융감독원 공시시스템 (DART)\n",
    "* 마켓 데이터 크롤링 200 - DART 01 링크 페이지 다운로드<br> https://nbviewer.ipython.org/14529586a25ca63adb39feefaa2ca3ca\n",
    "* 마켓 데이터 크롤링 200 - DART 02 HTML 분석<br> https://nbviewer.ipython.org/8700de23d143e37791d03b4175287e30\n",
    "* 마켓 데이터 크롤링 200 - DART 03 DB 만들기<br> https://nbviewer.ipython.org/d2e28a8c61e08438615cac3c042b385f\n",
    "* 마켓 데이터 크롤링 200 - DART 04 데이터 분석<br> https://nbviewer.ipython.org/fcd7ab84a660cc33536d0bc24db693b3\n",
    "* 마켓 데이터 크롤링 200 - DART 05 SQL 매직<br> https://nbviewer.ipython.org/1efed077b58ae2e3d0c96dffca992e59\n",
    "* 마켓 데이터 크롤링 200 - DART 06 보고서 PDF 다운로드<br> https://nbviewer.ipython.org/c241c8420d0e6bb3a50177a90806b2ad\n",
    "* 마켓 데이터 크롤링 200 - DART 07 보고서 HTML 문서 분석<br> https://nbviewer.ipython.org/f819f4dfac2932cf4f7828f3dc2524f0\n",
    "* dart.db (공시보고서 링크 전체 180만건, 476M) <br> https://www.dropbox.com/s/wuxd8wgcch547o4/dart.db?dl=0\n",
    "\n",
    "## 4.3 포탈 - 네이버 파이낸스\n",
    "* 마켓 데이터 크롤링 300 - 포탈 01 네이버 파이낸스 종목별 과거 시세<br> https://nbviewer.ipython.org/a948106cd4f2f2e61bf1b4c116206385\n",
    "* 마켓 데이터 크롤링 300 - 포탈 02 네이버 파이낸스 종목 부가정보<br> https://nbviewer.ipython.org/37725fa5807bdf8bac3d2ae268bc4a1f\n",
    "* 마켓 데이터 크롤링 300 - 포탈 03 종목 검색 상위<br> https://nbviewer.ipython.org/ee547bb5e0e009935bfcaf9b5f03a398\n",
    "* 마켓 데이터 크롤링 300 - 포탈 04  재무제표 크롤링<br> https://nbviewer.ipython.org/1cd9cf4b8198e7924392dca3ace46bfe\n",
    "\n",
    "\n",
    "## 4.4 야후 파이낸스\n",
    "* 마켓 데이터 크롤링 400 - 야후 파이낸스<br> https://nbviewer.ipython.org/4f734b43c74d8539395edfdea550254a\n",
    "\n",
    "## 4.5 글로벌 데이터 FRED\n",
    "* 마켓 데이터 크롤링 500 - 글로벌 01 FRED<br> https://nbviewer.ipython.org/8c3bf5f99d8127c7a7fc79f22049b1ab\n",
    "* 마켓 데이터 크롤링 500 - 글로벌 02 World Bank OECD<br> https://nbviewer.ipython.org/5cd7f19299e5ae7e6ddc595faf020ad5\n",
    "\n",
    "## 4.6 한국은행 OpenAPI\n",
    "* 마켓 데이터 크롤링 600 - 한국은행 01 서비스 목록<br> https://nbviewer.ipython.org/734fa7513d883f0f1339510522194e4a\n",
    "* 마켓 데이터 크롤링 600 - 한국은행 02 본원 통화<br> https://nbviewer.ipython.org/8701cae2295c85bf561386f3f64881f2\n",
    "\n",
    "\n",
    "## 4.7 네이버 종목 뉴스\n",
    "* 네이버 종목 뉴스 01 - 뉴스 링크 크롤링 <br> https://nbviewer.ipython.org/3e862a58f7eb4e24fa687143112b237d\n",
    "* 네이버 종목 뉴스 02 - 전체 종목 뉴스 텍스트  <br> https://nbviewer.ipython.org/b8f645d2841972719b29d5396c566afa\n",
    "\n",
    "\n",
    "## 4.8 구글 스프레드 시트\n",
    "* 마켓 데이터 크롤링 700 - 구글 스프레드 시트<br> https://nbviewer.ipython.org/f311d84f68398345088e02e3c29a85c1\n",
    "\n",
    "\n",
    "### [구글 스프레드시트]  (실습 파일)\n",
    "* https://goo.gl/3LZoIh 코스피 전체 종목(2005-06-30)\n",
    "* https://goo.gl/bgRpSf 코스피 전체 종목(2015-06-30)\n",
    "* https://goo.gl/r541SK 야후 CSV API 태그\n",
    "* https://goo.gl/8miw98 애플 주식분할 ImportHTML()\n",
    "* https://goo.gl/r541SK 야후 파이낸스 CSV API 태그\n",
    "\n",
    "\n",
    "## 데이터 크롤링 강좌 (동영상)\n",
    "네이버 파이낸스 - 종목별 과거 시세(강좌 소스) <br>https://nbviewer.jupyter.org/478f1bcf516a7757e72d905a84114530\n",
    "* (강좌 1/5) - 네이버 파이낸스 크롤링, 크롬 개발자 도구  <br/> https://goo.gl/photos/reJ5oqcjD9xmraU37 \n",
    "* (강좌 2/5) - pd.read_html(), 컬럼, 타입 처리/변환 (날짜, 숫자) <br/> https://goo.gl/photos/g4XaELeYTsW9wRQV8 \n",
    "* (강좌 3/5) - DB(SQLite) 저장, 조회 <br/> https://goo.gl/photos/3VZY5sd7aiQbVfdBA \n",
    "* (강좌 4/5) - 페이지 네비게이션과 크롤링  <br/> https://goo.gl/photos/a6sh4UmGnmwqMzEp9 \n",
    "* (강좌 5/5) - 전종목 과거 가격 데이터 DB에 저장 <br/> https://goo.gl/photos/tRjVt3QzKphpcNCTA\n"
   ]
  },
  {
   "cell_type": "markdown",
   "metadata": {},
   "source": [
    "## 4.8 사설 투자정보 제공사\n",
    "\n",
    "### 4.8.1 10년 재무제표 데이터 (아이투자, 세종데이터)\n",
    "*  10년 이상의 재무제표 데이터 구축 <br> https://nbviewer.jupyter.org/ead07bb04a1c8b8553a2\n",
    "\n",
    "### 4.8.2 아이투자\n",
    "* 아이투자 01 재무제표<br> https://goo.gl/GTJwIS  https://nbviewer.jupyter.org/42d49a1541275f2f6c374175b4fcd19f\n",
    "* 아이투자 02 손익계산서 <br> https://nbviewer.jupyter.org/3a14b5001fa4430f5b5eaee7c4054984\n",
    "* 아이투자 03 현금흐름표 <br> https://nbviewer.jupyter.org/0b638a81924dfec7d508fa2a41ee46cc\n",
    "* 아이투자 04 재무비율 데이터 <br> https://nbviewer.jupyter.org/0c2a7531b5e451fa07a5d813bd5d9287\n",
    "* 아이투자 05 전체 다운로드 <br>https://nbviewer.jupyter.org/cb89fe7cb9e4e1cd704b0e3ff1caf28c\n",
    "* 아이투자 06 데이터 사용법 <br> https://nbviewer.jupyter.org/5bf087db5e5ec838b55d9deabe7928e0\n",
    "* 아이투자 finstate.zip (재무3표+재무비율 10년 이상 전종목 csv 파일 16400개, 46M) <br> https://www.dropbox.com/s/dzh6k5x555bjg56/finstate.zip?dl=0\n",
    "\n",
    "### 4.8.3 세종데이터\n",
    "* 세종데이터 01 - 분석 <br> https://nbviewer.jupyter.org/c57a860978260261f5f4524051a0216b\n",
    "* 세종데이터 02 - 요약재무 (년) <br>https://nbviewer.jupyter.org/700d65d9e56444d5f2da42e44e986df4\n",
    "* 세종데이터 03 - 요약제무 (분기) <br> https://nbviewer.jupyter.org/ca7c2aec1c540e8d8d21f9e067a1a91f\n",
    "* 세종데이터 04 - 세종데이터 사용법 <br>https://nbviewer.jupyter.org/fbb61b581f573314c091815b3e19f05c\n",
    "* 세종데이터 data-sejong.tar.gz (2.6M) <br> https://www.dropbox.com/s/aw2bgvco1r5oesh/data-sejong.tar.gz?dl=0\n",
    "\n",
    "## 4.9 고급 크롤링 이슈\n",
    "* Selenium을 활용한 크롤링 (환율조회).ipynb <br> https://nbviewer.jupyter.org/8cb5ec3ec27e7c510c0ecdc9c20ec2d5\n",
    "* 금융위원회 FSC 크롤링  <br> https://nbviewer.jupyter.org/474b71e2dee733a8a13aa818fdd9c685\n",
    "* 전화번호부 크롤링 <br>https://nbviewer.jupyter.org/urls/financedata.github.io/posts/phone-numbser-site-crawling.ipynb"
   ]
  },
  {
   "cell_type": "markdown",
   "metadata": {},
   "source": [
    "# 5. Numpy & Pandas\n",
    "\n",
    "\n",
    "## 5.1 Numpy for Finance\n",
    "* Numpy <br/>https://nbviewer.jupyter.org/274d1a051b8ef10379b35b3fa72dd931\n",
    "\n",
    "\n",
    "## 5.2 Pandas\n",
    "* pandas 01 - Introduction <br/>https://nbviewer.jupyter.org/f8001ebff7536e79b5ec8afa8c0c780e\n",
    "* Pandas 02 - Series <br/>https://nbviewer.jupyter.org/799845b86f2e545dfef7cc556d398419\n",
    "* pandas 03 - DataFrame<br/> https://nbviewer.jupyter.org/8015a3de69b613d639511762dcfce62a\n",
    "* pandas 04 - Advanced Indexing <br/>https://nbviewer.jupyter.org/900e536d361d167aa5f9ea4dfda8f153\n",
    "* pandas 05 - Timeseries <br/>https://nbviewer.jupyter.org/0e8440831d7d4e1b93dddbc358d89e59\n",
    "* pandas 06 - Pivot <br/>https://nbviewer.jupyter.org/975783d57162a81f0ec60a2dc88c921c"
   ]
  },
  {
   "cell_type": "markdown",
   "metadata": {},
   "source": [
    "# 6. 데이터 베이스 \n",
    "\n",
    "\n",
    "## 6.1 SQLite \n",
    "* SQLite 01 - Introduction<br> https://nbviewer.jupyter.org/8ca35e36aa9801d37704e8ba2858c91c\n",
    "* SQLite 02 - SQL 과 DataFrame<br> https://nbviewer.jupyter.org/371c48734ed937651e9127cdb43a9919\n",
    "\n",
    "\n",
    "## 6.2 MySQL \n",
    "* 01 - 설치와 기본 설정 <br> https://nbviewer.jupyter.org/a074ecfeb363a29ee9d114a6d6cfccd0\n",
    "* (동영상 강좌 1/2) 설치와 기본 설정 <br>https://goo.gl/photos/ALwJXVyusauUfikVA\n",
    "* (동영상 강좌 2/2) 설치와 기본 설정 <br> https://goo.gl/photos/xegtPtt1vjtW1DGWA\n",
    "\n",
    "\n",
    "## 6.3 MongoDB\n",
    "* MongoDB 01 소개 <br> http://nbviewer.jupyter.org/c8d7a36a9406a0b518d9df2c98c73888 \n",
    "* MongoDB 02 MongoDB Shell <br>http://nbviewer.jupyter.org/7956a33417573c959bc5 \n",
    "* MongoDB 03 PyMongo <br>http://nbviewer.jupyter.org/21e1ca2a4c74811ed2e2 "
   ]
  },
  {
   "cell_type": "markdown",
   "metadata": {},
   "source": [
    "# 7. 금융 통계학 기본\n",
    "\n",
    "\n",
    "## 7.1 금융 통계\n",
    "* 금융 통계학 기본 01 - 소개<br>  https://nbviewer.jupyter.org/55ec7ea81b7e539f7fac784053e1b626\n",
    "* 금융 통계학 기본 02 - 기술 통계<br>  https://nbviewer.jupyter.org/388b36c84cd993b8a149b9fa10f8e476\n",
    "* 금융 통계학 기본 03 - 확률분포 <br> https://nbviewer.ipython.org/6cb8064dc3616d13b720bddc1a62a584\n",
    "* 금융 통계학 기본 04 - 상관 분석, 회귀분석 <br> https://nbviewer.ipython.org/4bc0b7638539f1e3a70965b3c0dc8d23\n",
    "\n",
    "\n",
    "## 7.3 금융 통계 (실습)\n",
    "* 금융 통계 실습 01 - 수익률 분포<br>  https://nbviewer.jupyter.org/7e5b5780829f085f9fe6\n",
    "* 금융 통계 실습 02 - 히스토그램<br> https://nbviewer.jupyter.org/5183be402825a6a6a7a8 \n",
    "* 금융 통계 실습 03 - 수익률 PDF, CDF<br> https://nbviewer.jupyter.org/e228fd0257cfbeade2f6 \n",
    "* 금융 통계 실습 04 - 시뮬레이션 주사위 던지기<br> https://nbviewer.jupyter.org/f1e04f5fe08991782bc2 \n",
    "* 금융 통계 실습 05 - 확률분포 (SciPy)<br> https://nbviewer.jupyter.org/198b4cf520a8f1a0bee5 \n",
    "* 금융 통계 실습 06 - 확률분포 예제<br> https://nbviewer.jupyter.org/00f35f6c1151f3cd5bf0 \n",
    "* 금융 통계 실습 07 - 상관분석<br> https://nbviewer.jupyter.org/cb206fb219c95a48a2eb \n",
    "* 금융 통계 실습 08 - 수익과 위험<br> https://nbviewer.jupyter.org/df0a909d133e691ff13f \n",
    "* 금융 통계 실습 09 - 회귀분석<br>  https://nbviewer.jupyter.org/b901682150779e6b97c3 "
   ]
  },
  {
   "cell_type": "markdown",
   "metadata": {},
   "source": [
    "# 8. 마켓 데이터 분석\n",
    "\n",
    "\n",
    "## 8.1 마켓 데이터 분석 개요\n",
    "* 마켓 데이터 분석 01 - 개요 <br> http://nbviewer.ipython.org/dc2a560ac120ae7bf26580fab59c334e\n",
    "* 마켓 데이터 분석 02 - 시가 총액 분석 <br> http://nbviewer.ipython.org/14535a0fc1fc4e79968002d9df83f8f5\n",
    "* 마켓 데이터 분석 03 - 가격과 거래량 <br> http://nbviewer.ipython.org/b3f80de0724fcaf9644aa498ec3e913f\n",
    "* 마켓 데이터 분석 04 - 이동평균과 시그널 <br> http://nbviewer.ipython.org/02d571e482cfb8b6018dd5f1e8a56794\n",
    "\n",
    "\n",
    "## 8.2 시가총액 분석 (워크샵)\n",
    "* 시가총액 분석 01 - 시가총액 데이터 만들기 <br> http://nbviewer.ipython.org/d508d68319efc36b8d0c\n",
    "* 시가총액 분석 02 - 기업순위 <br> http://nbviewer.ipython.org/5531e17c2c7cc73c91d4aab079e70051\n",
    "* 시가총액 분석 03 - 업종분석 <br> http://nbviewer.ipython.org/31f378d32e6c885d80cd1e1991ce03f7\n",
    "* 시가총액 분석 04 - plotly 데이터 시각화 <br> http://nbviewer.ipython.org/48e73e4b3267f378934092fd8b697429\n",
    "\n",
    "\n",
    "## 8.3 기술적 분석\n",
    "* 금융 데이터의 기술적 분석 01 <br>http://nbviewer.jupyter.org/dc4ac98adb2b2ce3e2d1b17ad46ae260 \n",
    "* 금융 데이터의 기술적 분석 02 <br>http://nbviewer.jupyter.org/d32ee2d58d760588669494407391b241 "
   ]
  },
  {
   "cell_type": "markdown",
   "metadata": {},
   "source": [
    "# 9. 주기적 실행과 리포팅\n",
    "\n",
    "\n",
    "## 9.1 주기적 실행\n",
    "* 주기적 실행 01 - 우분투 리눅스 (cron) <br>http://nbviewer.jupyter.org/099020dfce7e158840ec911ba0c81503\n",
    "* 주기적 실행 02 - 윈도우(schtasks) <br> http://nbviewer.jupyter.org/267002cf45963bd6181e1b274e01c649\n",
    "\n",
    "\n",
    "## 9.2 텔레그램 봇 만들기\n",
    "* 텔레그램 01 봇 만들기<br> http://nbviewer.jupyter.org/1c2ec59e0e39b5087c249f875fde0587\n",
    "* 텔레그램 02 공시 알리미<br>http://nbviewer.jupyter.org/721fc2cd609cf39293f3dffe8d343779\n",
    "* 텔레그램 03 파이썬 구현<br>http://nbviewer.jupyter.org/4467f3ba7e85d8761d44ecb4f2a933d9\n",
    "\n",
    "\n",
    "## 9.3 이메일 리포팅\n",
    "* 이메일 리포팅(gmail) <br> http://nbviewer.jupyter.org/0e516795936598624a957b64ee7a6ffc"
   ]
  },
  {
   "cell_type": "markdown",
   "metadata": {},
   "source": [
    "# 10. 시각화 (Visualization)\n",
    "\n",
    "\n",
    "### 10.1 Matplotlib\n",
    "* Visualization 01 - Matplotlib<br>https://nbviewer.jupyter.org/3ae09e20d1431f5e417e84f89ae77e9b \n",
    "* Visualization 02 Series and DataFrame<br>https://nbviewer.jupyter.org/a58e6453fbc8518b3f968fa2a6f301ce \n",
    "* Visualization 03 여러가지 그래프<br>https://nbviewer.jupyter.org/6b6c16134c5ff25c23300e03863550e7 \n",
    "* Visualization 04 선형차트 로그차트<br>https://nbviewer.jupyter.org/78b80a162b871795755aa7cc36f8df1d \n",
    "* Visualization 05 사례분석 100대 광고주<br>https://nbviewer.jupyter.org/793932e0aab322d062edb4b381c73aa8 \n",
    "\n",
    "\n",
    "### 10.2 웹기반 데이터 시각화\n",
    "* 웹기반 데이터 시각화 00 - HTML과 JavaScript <br>https://nbviewer.jupyter.org/41142fcdff777c88c7eb154a9b8248d7\n",
    "* 웹기반 데이터 시각화 01 - 시각화 도구와 시계열 데이터<br>https://nbviewer.jupyter.org/c7e37bbf3333238be61e7fdc20edcbd0\n",
    "* 웹기반 데이터 시각화 02 - EDA<br>https://nbviewer.jupyter.org/329e29cc520f171089e0a69bb8e2ae71\n",
    "* 웹기반 데이터 시각화 03 - D3 소개<br>https://nbviewer.jupyter.org/21d6e98316f38837700073ecbe21208a\n",
    "* 웹기반 데이터 시각화 04 - D3 실습<br>https://nbviewer.jupyter.org/c00f42991179f1774634418855c8f894\n",
    "\n",
    "\n",
    "### 10.3 Motion Charts and mpld3\n",
    "* Motion Charts 01 - 데이터 준비<br>https://nbviewer.jupyter.org/64fee55790e49c2b525b\n",
    "* Motion Charts 02 - HTML5 Motion Chart <br>https://nbviewer.jupyter.org/4d8f7a4cf735e0b32131\n",
    "* mpld3 노트북 <br>https://nbviewer.jupyter.org/82af2cfee91f5f8a6977\n"
   ]
  },
  {
   "cell_type": "markdown",
   "metadata": {},
   "source": [
    "#### 이승준 https://fb.com/financedata"
   ]
  }
 ],
 "metadata": {
  "kernelspec": {
   "display_name": "Python 3",
   "language": "python",
   "name": "python3"
  },
  "language_info": {
   "codemirror_mode": {
    "name": "ipython",
    "version": 3
   },
   "file_extension": ".py",
   "mimetype": "text/x-python",
   "name": "python",
   "nbconvert_exporter": "python",
   "pygments_lexer": "ipython3",
   "version": "3.6.0"
  }
 },
 "nbformat": 4,
 "nbformat_minor": 2
}
