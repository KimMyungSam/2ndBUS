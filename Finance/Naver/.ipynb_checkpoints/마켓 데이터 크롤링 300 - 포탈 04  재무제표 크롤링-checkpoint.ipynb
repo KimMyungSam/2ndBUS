{
 "cells": [
  {
   "cell_type": "markdown",
   "metadata": {
    "deletable": true,
    "editable": true,
    "slideshow": {
     "slide_type": "slide"
    }
   },
   "source": [
    "# 페이지 구성\n",
    "\n",
    "[네이버 파이낸스](http://finance.naver.com)에서 005930(삼성전자) 종목의 재무제표 정보 페이지의 구성을 단계별로 살펴보자. (이 구성은 크롬 혹은 파이어폭스의 개발자 도구로 살펴볼 수 있다) \n",
    "\n",
    "\n",
    "## 1) 종목정보\n",
    "아래 링크에서 종목정보를 볼 수 있다.\n",
    "* http://finance.naver.com/item/coinfo.nhn?code=005930\n",
    "* 페이지 아래 부분 \"Financial Summary\" 영역에 재무제표가 있는데 iframe으로 구성되어 있다.\n",
    "\n",
    "## 2) Financial Summary 영역\n",
    "iframe 의 src 링크는 아래와 같이 구성되어 있다.\n",
    "* http://companyinfo.stock.naver.com/v1/company/c1010001.aspx?cmp_cd=005930&target=finsum_more\n",
    "* 실제 내용은 JavaScript가 HTML 문서를 가져와 붙이도록 되어 있다\n",
    "\n",
    "## 3) 재무제표\n",
    "JavaScript가 요청하는 URL은 아래와 같다.\n",
    "* http://companyinfo.stock.naver.com/v1/company/ajax/cF1001.aspx?cmp_cd=005930&fin_typ=0&freq_typ=Y\n"
   ]
  },
  {
   "cell_type": "markdown",
   "metadata": {
    "deletable": true,
    "editable": true,
    "slideshow": {
     "slide_type": "slide"
    }
   },
   "source": [
    "http://companyinfo.stock.naver.com/v1/company/ajax/cF1001.aspx?cmp_cd=005930&fin_typ=0&freq_typ=Y\n",
    "\n",
    "<img src=\"http://i.imgur.com/eDBaYUR.png\" >"
   ]
  },
  {
   "cell_type": "markdown",
   "metadata": {
    "deletable": true,
    "editable": true,
    "slideshow": {
     "slide_type": "slide"
    }
   },
   "source": [
    "네이버 파이낸스에서 재무제표 데이터를 크롤링 하기 위해 알아야 할 정보는 아래 URL이 전부다.\n",
    "\n",
    "http://companyinfo.stock.naver.com/v1/company/ajax/cF1001.aspx?cmp_cd=105560&fin_typ=0&freq_typ=Y\n",
    "\n",
    "URL을 구성하는 파라미터의 의미는 다음과 같다.\n",
    "\n",
    "인자 | 의미 | 값\n",
    "-- | -- | --\n",
    "cmp_cd |  종목코드 | 005930 (종목코드)\n",
    "fin_typ | 재무제표 타입 | 0: 주재무제표, 1: GAAP개별, 2: GAAP연결, 3: IFRS별도, 4:IFRS연결\n",
    "freq_typ | 기간 | Y:년, Q:분기"
   ]
  },
  {
   "cell_type": "markdown",
   "metadata": {
    "deletable": true,
    "editable": true,
    "slideshow": {
     "slide_type": "slide"
    }
   },
   "source": [
    "# pandas.read_html 활용한 크롤링\n",
    "\n",
    "pandas.read_html(url)은 HTML 페이지에 포함된 TABLE들을 DataFrame 의 리스트로 반환한다. 우리가 사용하는 재무제표 URL 페이지는 1개의 TABLE만을 가지고 있기 때문에 첫번째 [0] 요소가 바로 재무제표 정보를 담은 DataFrame이 된다.\n",
    "\n",
    "pd.set_option('display.float_format', '{:,.1f}'.format) \n",
    "\n",
    "DataFrame 을 화면에 표시할 때 보기 좋도록 하기 위한 것이다. 천 단위에 ',' 표시와 소수점 이하 1자리를 표시하도록 했다. 쓰지 않더라고 아무런 지장은 없다."
   ]
  },
  {
   "cell_type": "code",
   "execution_count": 1,
   "metadata": {
    "collapsed": false,
    "deletable": true,
    "editable": true,
    "slideshow": {
     "slide_type": "-"
    }
   },
   "outputs": [
    {
     "data": {
      "text/html": [
       "<div>\n",
       "<table border=\"1\" class=\"dataframe\">\n",
       "  <thead>\n",
       "    <tr style=\"text-align: right;\">\n",
       "      <th></th>\n",
       "      <th>연간</th>\n",
       "      <th>2012/12\n",
       "\t\t\t\t\t\t\t\t\t\n",
       "\t\t\t\t\t\t\t\t\t(IFRS연결)</th>\n",
       "      <th>2013/12\n",
       "\t\t\t\t\t\t\t\t\t\n",
       "\t\t\t\t\t\t\t\t\t(IFRS연결)</th>\n",
       "      <th>2014/12\n",
       "\t\t\t\t\t\t\t\t\t\n",
       "\t\t\t\t\t\t\t\t\t(IFRS연결)</th>\n",
       "      <th>2015/12\n",
       "\t\t\t\t\t\t\t\t\t\n",
       "\t\t\t\t\t\t\t\t\t(IFRS연결)</th>\n",
       "      <th>2016/12\n",
       "\t\t\t\t\t\t\t\t\t\n",
       "\t\t\t\t\t\t\t\t\t(IFRS연결)</th>\n",
       "      <th>2017/12(E)\n",
       "\t\t\t\t\t\t\t\t\t\n",
       "\t\t\t\t\t\t\t\t\t(IFRS연결)</th>\n",
       "      <th>2018/12(E)\n",
       "\t\t\t\t\t\t\t\t\t\n",
       "\t\t\t\t\t\t\t\t\t(IFRS연결)</th>\n",
       "      <th>2019/12(E)\n",
       "\t\t\t\t\t\t\t\t\t\n",
       "\t\t\t\t\t\t\t\t\t(IFRS연결)</th>\n",
       "    </tr>\n",
       "    <tr>\n",
       "      <th>주요재무정보</th>\n",
       "      <th></th>\n",
       "      <th></th>\n",
       "      <th></th>\n",
       "      <th></th>\n",
       "      <th></th>\n",
       "      <th></th>\n",
       "      <th></th>\n",
       "      <th></th>\n",
       "      <th></th>\n",
       "    </tr>\n",
       "  </thead>\n",
       "  <tbody>\n",
       "    <tr>\n",
       "      <th>매출액</th>\n",
       "      <td>2011036.0</td>\n",
       "      <td>2286927.0</td>\n",
       "      <td>2062060.0</td>\n",
       "      <td>2006535.0</td>\n",
       "      <td>2018667.0</td>\n",
       "      <td>2320654.0</td>\n",
       "      <td>2483433.0</td>\n",
       "      <td>2577665.0</td>\n",
       "      <td>NaN</td>\n",
       "    </tr>\n",
       "    <tr>\n",
       "      <th>영업이익</th>\n",
       "      <td>290493.0</td>\n",
       "      <td>367850.0</td>\n",
       "      <td>250251.0</td>\n",
       "      <td>264134.0</td>\n",
       "      <td>292407.0</td>\n",
       "      <td>501299.0</td>\n",
       "      <td>539778.0</td>\n",
       "      <td>548374.0</td>\n",
       "      <td>NaN</td>\n",
       "    </tr>\n",
       "    <tr>\n",
       "      <th>세전계속사업이익</th>\n",
       "      <td>299150.0</td>\n",
       "      <td>383643.0</td>\n",
       "      <td>278750.0</td>\n",
       "      <td>259610.0</td>\n",
       "      <td>307137.0</td>\n",
       "      <td>510689.0</td>\n",
       "      <td>552528.0</td>\n",
       "      <td>566121.0</td>\n",
       "      <td>NaN</td>\n",
       "    </tr>\n",
       "    <tr>\n",
       "      <th>당기순이익</th>\n",
       "      <td>238453.0</td>\n",
       "      <td>304748.0</td>\n",
       "      <td>233944.0</td>\n",
       "      <td>190601.0</td>\n",
       "      <td>227261.0</td>\n",
       "      <td>381450.0</td>\n",
       "      <td>411558.0</td>\n",
       "      <td>421406.0</td>\n",
       "      <td>NaN</td>\n",
       "    </tr>\n",
       "    <tr>\n",
       "      <th>당기순이익(지배)</th>\n",
       "      <td>231854.0</td>\n",
       "      <td>298212.0</td>\n",
       "      <td>230825.0</td>\n",
       "      <td>186946.0</td>\n",
       "      <td>224157.0</td>\n",
       "      <td>375134.0</td>\n",
       "      <td>404875.0</td>\n",
       "      <td>414737.0</td>\n",
       "      <td>NaN</td>\n",
       "    </tr>\n",
       "    <tr>\n",
       "      <th>당기순이익(비지배)</th>\n",
       "      <td>6599.0</td>\n",
       "      <td>6535.0</td>\n",
       "      <td>3119.0</td>\n",
       "      <td>3655.0</td>\n",
       "      <td>3104.0</td>\n",
       "      <td>NaN</td>\n",
       "      <td>NaN</td>\n",
       "      <td>NaN</td>\n",
       "      <td>NaN</td>\n",
       "    </tr>\n",
       "    <tr>\n",
       "      <th>자산총계</th>\n",
       "      <td>1810716.0</td>\n",
       "      <td>2140750.0</td>\n",
       "      <td>2304230.0</td>\n",
       "      <td>2421795.0</td>\n",
       "      <td>2621743.0</td>\n",
       "      <td>2949891.0</td>\n",
       "      <td>3302415.0</td>\n",
       "      <td>3662644.0</td>\n",
       "      <td>NaN</td>\n",
       "    </tr>\n",
       "    <tr>\n",
       "      <th>부채총계</th>\n",
       "      <td>595914.0</td>\n",
       "      <td>640590.0</td>\n",
       "      <td>623348.0</td>\n",
       "      <td>631197.0</td>\n",
       "      <td>692113.0</td>\n",
       "      <td>742994.0</td>\n",
       "      <td>765753.0</td>\n",
       "      <td>786194.0</td>\n",
       "      <td>NaN</td>\n",
       "    </tr>\n",
       "    <tr>\n",
       "      <th>자본총계</th>\n",
       "      <td>1214802.0</td>\n",
       "      <td>1500160.0</td>\n",
       "      <td>1680882.0</td>\n",
       "      <td>1790598.0</td>\n",
       "      <td>1929630.0</td>\n",
       "      <td>2206897.0</td>\n",
       "      <td>2536662.0</td>\n",
       "      <td>2876451.0</td>\n",
       "      <td>NaN</td>\n",
       "    </tr>\n",
       "    <tr>\n",
       "      <th>자본총계(지배)</th>\n",
       "      <td>1170941.0</td>\n",
       "      <td>1444426.0</td>\n",
       "      <td>1621817.0</td>\n",
       "      <td>1728768.0</td>\n",
       "      <td>1864243.0</td>\n",
       "      <td>2141955.0</td>\n",
       "      <td>2459160.0</td>\n",
       "      <td>2787921.0</td>\n",
       "      <td>NaN</td>\n",
       "    </tr>\n",
       "  </tbody>\n",
       "</table>\n",
       "</div>"
      ],
      "text/plain": [
       "                   연간  \\\n",
       "주요재무정보                  \n",
       "매출액         2011036.0   \n",
       "영업이익         290493.0   \n",
       "세전계속사업이익     299150.0   \n",
       "당기순이익        238453.0   \n",
       "당기순이익(지배)    231854.0   \n",
       "당기순이익(비지배)     6599.0   \n",
       "자산총계        1810716.0   \n",
       "부채총계         595914.0   \n",
       "자본총계        1214802.0   \n",
       "자본총계(지배)    1170941.0   \n",
       "\n",
       "            \\n\\t\\t\\t\\t\\t\\t\\t\\t\\t2012/12\\n\\t\\t\\t\\t\\t\\t\\t\\t\\t\\n\\t\\t\\t\\t\\t\\t\\t\\t\\t(IFRS연결)\\n\\t\\t\\t\\t\\t\\t\\t\\t  \\\n",
       "주요재무정보                                                                                                      \n",
       "매출액                                                 2286927.0                                               \n",
       "영업이익                                                 367850.0                                               \n",
       "세전계속사업이익                                             383643.0                                               \n",
       "당기순이익                                                304748.0                                               \n",
       "당기순이익(지배)                                            298212.0                                               \n",
       "당기순이익(비지배)                                             6535.0                                               \n",
       "자산총계                                                2140750.0                                               \n",
       "부채총계                                                 640590.0                                               \n",
       "자본총계                                                1500160.0                                               \n",
       "자본총계(지배)                                            1444426.0                                               \n",
       "\n",
       "            \\n\\t\\t\\t\\t\\t\\t\\t\\t\\t2013/12\\n\\t\\t\\t\\t\\t\\t\\t\\t\\t\\n\\t\\t\\t\\t\\t\\t\\t\\t\\t(IFRS연결)\\n\\t\\t\\t\\t\\t\\t\\t\\t  \\\n",
       "주요재무정보                                                                                                      \n",
       "매출액                                                 2062060.0                                               \n",
       "영업이익                                                 250251.0                                               \n",
       "세전계속사업이익                                             278750.0                                               \n",
       "당기순이익                                                233944.0                                               \n",
       "당기순이익(지배)                                            230825.0                                               \n",
       "당기순이익(비지배)                                             3119.0                                               \n",
       "자산총계                                                2304230.0                                               \n",
       "부채총계                                                 623348.0                                               \n",
       "자본총계                                                1680882.0                                               \n",
       "자본총계(지배)                                            1621817.0                                               \n",
       "\n",
       "            \\n\\t\\t\\t\\t\\t\\t\\t\\t\\t2014/12\\n\\t\\t\\t\\t\\t\\t\\t\\t\\t\\n\\t\\t\\t\\t\\t\\t\\t\\t\\t(IFRS연결)\\n\\t\\t\\t\\t\\t\\t\\t\\t  \\\n",
       "주요재무정보                                                                                                      \n",
       "매출액                                                 2006535.0                                               \n",
       "영업이익                                                 264134.0                                               \n",
       "세전계속사업이익                                             259610.0                                               \n",
       "당기순이익                                                190601.0                                               \n",
       "당기순이익(지배)                                            186946.0                                               \n",
       "당기순이익(비지배)                                             3655.0                                               \n",
       "자산총계                                                2421795.0                                               \n",
       "부채총계                                                 631197.0                                               \n",
       "자본총계                                                1790598.0                                               \n",
       "자본총계(지배)                                            1728768.0                                               \n",
       "\n",
       "            \\n\\t\\t\\t\\t\\t\\t\\t\\t\\t2015/12\\n\\t\\t\\t\\t\\t\\t\\t\\t\\t\\n\\t\\t\\t\\t\\t\\t\\t\\t\\t(IFRS연결)\\n\\t\\t\\t\\t\\t\\t\\t\\t  \\\n",
       "주요재무정보                                                                                                      \n",
       "매출액                                                 2018667.0                                               \n",
       "영업이익                                                 292407.0                                               \n",
       "세전계속사업이익                                             307137.0                                               \n",
       "당기순이익                                                227261.0                                               \n",
       "당기순이익(지배)                                            224157.0                                               \n",
       "당기순이익(비지배)                                             3104.0                                               \n",
       "자산총계                                                2621743.0                                               \n",
       "부채총계                                                 692113.0                                               \n",
       "자본총계                                                1929630.0                                               \n",
       "자본총계(지배)                                            1864243.0                                               \n",
       "\n",
       "            \\n\\t\\t\\t\\t\\t\\t\\t\\t\\t2016/12\\n\\t\\t\\t\\t\\t\\t\\t\\t\\t\\n\\t\\t\\t\\t\\t\\t\\t\\t\\t(IFRS연결)\\n\\t\\t\\t\\t\\t\\t\\t\\t  \\\n",
       "주요재무정보                                                                                                      \n",
       "매출액                                                 2320654.0                                               \n",
       "영업이익                                                 501299.0                                               \n",
       "세전계속사업이익                                             510689.0                                               \n",
       "당기순이익                                                381450.0                                               \n",
       "당기순이익(지배)                                            375134.0                                               \n",
       "당기순이익(비지배)                                                NaN                                               \n",
       "자산총계                                                2949891.0                                               \n",
       "부채총계                                                 742994.0                                               \n",
       "자본총계                                                2206897.0                                               \n",
       "자본총계(지배)                                            2141955.0                                               \n",
       "\n",
       "            \\n\\t\\t\\t\\t\\t\\t\\t\\t\\t2017/12(E)\\n\\t\\t\\t\\t\\t\\t\\t\\t\\t\\n\\t\\t\\t\\t\\t\\t\\t\\t\\t(IFRS연결)\\n\\t\\t\\t\\t\\t\\t\\t\\t  \\\n",
       "주요재무정보                                                                                                         \n",
       "매출액                                                 2483433.0                                                  \n",
       "영업이익                                                 539778.0                                                  \n",
       "세전계속사업이익                                             552528.0                                                  \n",
       "당기순이익                                                411558.0                                                  \n",
       "당기순이익(지배)                                            404875.0                                                  \n",
       "당기순이익(비지배)                                                NaN                                                  \n",
       "자산총계                                                3302415.0                                                  \n",
       "부채총계                                                 765753.0                                                  \n",
       "자본총계                                                2536662.0                                                  \n",
       "자본총계(지배)                                            2459160.0                                                  \n",
       "\n",
       "            \\n\\t\\t\\t\\t\\t\\t\\t\\t\\t2018/12(E)\\n\\t\\t\\t\\t\\t\\t\\t\\t\\t\\n\\t\\t\\t\\t\\t\\t\\t\\t\\t(IFRS연결)\\n\\t\\t\\t\\t\\t\\t\\t\\t  \\\n",
       "주요재무정보                                                                                                         \n",
       "매출액                                                 2577665.0                                                  \n",
       "영업이익                                                 548374.0                                                  \n",
       "세전계속사업이익                                             566121.0                                                  \n",
       "당기순이익                                                421406.0                                                  \n",
       "당기순이익(지배)                                            414737.0                                                  \n",
       "당기순이익(비지배)                                                NaN                                                  \n",
       "자산총계                                                3662644.0                                                  \n",
       "부채총계                                                 786194.0                                                  \n",
       "자본총계                                                2876451.0                                                  \n",
       "자본총계(지배)                                            2787921.0                                                  \n",
       "\n",
       "            \\n\\t\\t\\t\\t\\t\\t\\t\\t\\t2019/12(E)\\n\\t\\t\\t\\t\\t\\t\\t\\t\\t\\n\\t\\t\\t\\t\\t\\t\\t\\t\\t(IFRS연결)\\n\\t\\t\\t\\t\\t\\t\\t\\t  \n",
       "주요재무정보                                                                                                        \n",
       "매출액                                                       NaN                                                 \n",
       "영업이익                                                      NaN                                                 \n",
       "세전계속사업이익                                                  NaN                                                 \n",
       "당기순이익                                                     NaN                                                 \n",
       "당기순이익(지배)                                                 NaN                                                 \n",
       "당기순이익(비지배)                                                NaN                                                 \n",
       "자산총계                                                      NaN                                                 \n",
       "부채총계                                                      NaN                                                 \n",
       "자본총계                                                      NaN                                                 \n",
       "자본총계(지배)                                                  NaN                                                 "
      ]
     },
     "execution_count": 1,
     "metadata": {},
     "output_type": "execute_result"
    }
   ],
   "source": [
    "import pandas as pd\n",
    "\n",
    "url_tmpl = 'http://companyinfo.stock.naver.com/v1/company/ajax/cF1001.aspx?cmp_cd=%s&fin_typ=%s&freq_typ=%s'\n",
    "url = url_tmpl % ('005930', '4', 'Y') # 삼성전자, 4(IFRS 연결), Y:년 단위\n",
    "\n",
    "dfs = pd.read_html(url)\n",
    "df = dfs[0]\n",
    "df = df.set_index('주요재무정보')\n",
    "df.head()\n",
    "df.head(10) # 10개 항목만 표시(실제 32개 항목)"
   ]
  },
  {
   "cell_type": "markdown",
   "metadata": {
    "deletable": true,
    "editable": true,
    "slideshow": {
     "slide_type": "notes"
    }
   },
   "source": [
    "단, 5줄의 코드로 삼성전자 재무제표를 크롤링 했다! (의외로 이렇게 크롤링 할 수 있는 정보들이 꽤 많다)"
   ]
  },
  {
   "cell_type": "markdown",
   "metadata": {
    "deletable": true,
    "editable": true,
    "slideshow": {
     "slide_type": "slide"
    }
   },
   "source": [
    "# 문제점과 해결방안\n",
    "표시된 DataFrame을 자세히 살펴보면 아래와 같은 문제점들이 있다. (대부분 네이버 파이낸스 페이지의 HTML TABLE 표현의 문제다)\n",
    "\n",
    "### 문제점\n",
    "1. '연간'이른 컬럼명이 추가되었고, 컬럼 이름이 한 컬럼씩 오른쪽으로 밀렸다. \n",
    "2. 마지막 컬럼의 값이 NaN 값 (컬럼 이름이 밀려서 발생)\n",
    "3. 날짜에 \"(IFRS연결)\"와 같이 불필요한 문자열 포함하고 있다.\n",
    "4. 시계열 데이터로 처리하려면, '주요재무정보'가 컬럼이 되고 날짜가 행(row)가 되는 것이 편리하다.\n",
    "\n",
    "### 각 문제에 대한 해결방안\n",
    "1. 컬럼명 '연간' 삭제\n",
    "2. 컬럼 문자열에서 날짜(년, 월)만 추출 (정규식 사용)\n",
    "3. 마지막 컬럼 삭제\n",
    "4. 컬럼과 로우를 전환 (df.T) 한다 (transpose 우리말로 전치행렬 이라고 한다)"
   ]
  },
  {
   "cell_type": "markdown",
   "metadata": {
    "deletable": true,
    "editable": true,
    "slideshow": {
     "slide_type": "slide"
    }
   },
   "source": [
    "# 1. 컬럼명 '연간' 삭제"
   ]
  },
  {
   "cell_type": "code",
   "execution_count": 2,
   "metadata": {
    "collapsed": false,
    "deletable": true,
    "editable": true,
    "slideshow": {
     "slide_type": "-"
    }
   },
   "outputs": [
    {
     "data": {
      "text/plain": [
       "['연간',\n",
       " '\\n\\t\\t\\t\\t\\t\\t\\t\\t\\t2012/12\\n\\t\\t\\t\\t\\t\\t\\t\\t\\t\\n\\t\\t\\t\\t\\t\\t\\t\\t\\t(IFRS연결)\\n\\t\\t\\t\\t\\t\\t\\t\\t',\n",
       " '\\n\\t\\t\\t\\t\\t\\t\\t\\t\\t2013/12\\n\\t\\t\\t\\t\\t\\t\\t\\t\\t\\n\\t\\t\\t\\t\\t\\t\\t\\t\\t(IFRS연결)\\n\\t\\t\\t\\t\\t\\t\\t\\t',\n",
       " '\\n\\t\\t\\t\\t\\t\\t\\t\\t\\t2014/12\\n\\t\\t\\t\\t\\t\\t\\t\\t\\t\\n\\t\\t\\t\\t\\t\\t\\t\\t\\t(IFRS연결)\\n\\t\\t\\t\\t\\t\\t\\t\\t',\n",
       " '\\n\\t\\t\\t\\t\\t\\t\\t\\t\\t2015/12\\n\\t\\t\\t\\t\\t\\t\\t\\t\\t\\n\\t\\t\\t\\t\\t\\t\\t\\t\\t(IFRS연결)\\n\\t\\t\\t\\t\\t\\t\\t\\t',\n",
       " '\\n\\t\\t\\t\\t\\t\\t\\t\\t\\t2016/12\\n\\t\\t\\t\\t\\t\\t\\t\\t\\t\\n\\t\\t\\t\\t\\t\\t\\t\\t\\t(IFRS연결)\\n\\t\\t\\t\\t\\t\\t\\t\\t',\n",
       " '\\n\\t\\t\\t\\t\\t\\t\\t\\t\\t2017/12(E)\\n\\t\\t\\t\\t\\t\\t\\t\\t\\t\\n\\t\\t\\t\\t\\t\\t\\t\\t\\t(IFRS연결)\\n\\t\\t\\t\\t\\t\\t\\t\\t',\n",
       " '\\n\\t\\t\\t\\t\\t\\t\\t\\t\\t2018/12(E)\\n\\t\\t\\t\\t\\t\\t\\t\\t\\t\\n\\t\\t\\t\\t\\t\\t\\t\\t\\t(IFRS연결)\\n\\t\\t\\t\\t\\t\\t\\t\\t',\n",
       " '\\n\\t\\t\\t\\t\\t\\t\\t\\t\\t2019/12(E)\\n\\t\\t\\t\\t\\t\\t\\t\\t\\t\\n\\t\\t\\t\\t\\t\\t\\t\\t\\t(IFRS연결)\\n\\t\\t\\t\\t\\t\\t\\t\\t']"
      ]
     },
     "execution_count": 2,
     "metadata": {},
     "output_type": "execute_result"
    }
   ],
   "source": [
    "# 리스트로 전환\n",
    "cols = list(df.columns)\n",
    "cols"
   ]
  },
  {
   "cell_type": "code",
   "execution_count": 3,
   "metadata": {
    "collapsed": false,
    "deletable": true,
    "editable": true,
    "slideshow": {
     "slide_type": "-"
    }
   },
   "outputs": [
    {
     "data": {
      "text/plain": [
       "['\\n\\t\\t\\t\\t\\t\\t\\t\\t\\t2012/12\\n\\t\\t\\t\\t\\t\\t\\t\\t\\t\\n\\t\\t\\t\\t\\t\\t\\t\\t\\t(IFRS연결)\\n\\t\\t\\t\\t\\t\\t\\t\\t',\n",
       " '\\n\\t\\t\\t\\t\\t\\t\\t\\t\\t2013/12\\n\\t\\t\\t\\t\\t\\t\\t\\t\\t\\n\\t\\t\\t\\t\\t\\t\\t\\t\\t(IFRS연결)\\n\\t\\t\\t\\t\\t\\t\\t\\t',\n",
       " '\\n\\t\\t\\t\\t\\t\\t\\t\\t\\t2014/12\\n\\t\\t\\t\\t\\t\\t\\t\\t\\t\\n\\t\\t\\t\\t\\t\\t\\t\\t\\t(IFRS연결)\\n\\t\\t\\t\\t\\t\\t\\t\\t',\n",
       " '\\n\\t\\t\\t\\t\\t\\t\\t\\t\\t2015/12\\n\\t\\t\\t\\t\\t\\t\\t\\t\\t\\n\\t\\t\\t\\t\\t\\t\\t\\t\\t(IFRS연결)\\n\\t\\t\\t\\t\\t\\t\\t\\t',\n",
       " '\\n\\t\\t\\t\\t\\t\\t\\t\\t\\t2016/12\\n\\t\\t\\t\\t\\t\\t\\t\\t\\t\\n\\t\\t\\t\\t\\t\\t\\t\\t\\t(IFRS연결)\\n\\t\\t\\t\\t\\t\\t\\t\\t',\n",
       " '\\n\\t\\t\\t\\t\\t\\t\\t\\t\\t2017/12(E)\\n\\t\\t\\t\\t\\t\\t\\t\\t\\t\\n\\t\\t\\t\\t\\t\\t\\t\\t\\t(IFRS연결)\\n\\t\\t\\t\\t\\t\\t\\t\\t',\n",
       " '\\n\\t\\t\\t\\t\\t\\t\\t\\t\\t2018/12(E)\\n\\t\\t\\t\\t\\t\\t\\t\\t\\t\\n\\t\\t\\t\\t\\t\\t\\t\\t\\t(IFRS연결)\\n\\t\\t\\t\\t\\t\\t\\t\\t',\n",
       " '\\n\\t\\t\\t\\t\\t\\t\\t\\t\\t2019/12(E)\\n\\t\\t\\t\\t\\t\\t\\t\\t\\t\\n\\t\\t\\t\\t\\t\\t\\t\\t\\t(IFRS연결)\\n\\t\\t\\t\\t\\t\\t\\t\\t']"
      ]
     },
     "execution_count": 3,
     "metadata": {},
     "output_type": "execute_result"
    }
   ],
   "source": [
    "cols.remove('연간')\n",
    "cols"
   ]
  },
  {
   "cell_type": "markdown",
   "metadata": {
    "deletable": true,
    "editable": true,
    "slideshow": {
     "slide_type": "slide"
    }
   },
   "source": [
    "# 2. 컬럼 문자열에서 날짜(년, 월) 추출\n",
    "\n",
    "컬럼은 날짜 데이터이다. 그러나 불필요한 문자('\\n', '\\t', '(IFRS연결)' 등)이 포함되어 있다. 추후 Datetime으로 활용하기 위해 날짜에 해당하는 문자열만 추출해 보자.\n",
    "\n",
    "```\n",
    "'\\n\\t\\t\\t\\t\\t\\t\\t\\t\\t2011/12\\n\\t\\t\\t\\t\\t\\t\\t\\t\\t\\n\\t\\t\\t\\t\\t\\t\\t\\t\\t(IFRS연결)\\n\\t\\t\\t\\t\\t\\t\\t\\t' \n",
    "```\n",
    "\n",
    "\n",
    "위 문자열에서 '2011/12' 문자열만 추출하기 위해 아래와 같은 코드를 사용할 수 도 있겠지만,\n",
    "\n",
    "```python\n",
    "    date_str = r['date'].replace('\\t', '').replace('\\n', '')\n",
    "    date_str = date_str.replace('(E)', '')\n",
    "    date_str = date_str.replace('/', '-')\n",
    "    date_str = date_str.replace(')', '')\n",
    "```\n",
    "\n",
    "정규식(regular expression)을 사용하는 것이 훨씬 깔끔하고 적응력이 좋아진다. \n",
    "날짜 추출에 필요한 정규식을 만들어 보자."
   ]
  },
  {
   "cell_type": "code",
   "execution_count": 4,
   "metadata": {
    "collapsed": false,
    "deletable": true,
    "editable": true,
    "slideshow": {
     "slide_type": "-"
    }
   },
   "outputs": [
    {
     "data": {
      "text/plain": [
       "'2011/12'"
      ]
     },
     "execution_count": 4,
     "metadata": {},
     "output_type": "execute_result"
    }
   ],
   "source": [
    "import re\n",
    "from datetime import datetime\n",
    "\n",
    "s =  '\\n\\t\\t\\t\\t\\t\\t\\t\\t\\t2011/12\\n\\t\\t\\t\\t\\t\\t\\t\\t\\t\\n\\t\\t\\t\\t\\t\\t\\t\\t\\t(IFRS연결)\\n\\t\\t\\t\\t\\t\\t\\t\\t'\n",
    "\n",
    "date_str = ''\n",
    "r = re.search(\"\\d{4}/\\d{2}\", s)\n",
    "if r:\n",
    "    date_str = r.group()\n",
    "\n",
    "date_str"
   ]
  },
  {
   "cell_type": "markdown",
   "metadata": {
    "deletable": true,
    "editable": true,
    "slideshow": {
     "slide_type": "slide"
    }
   },
   "source": [
    "날짜를 추출하는 내용을 함수로 만들어 컬럼 이름에 적용한다."
   ]
  },
  {
   "cell_type": "code",
   "execution_count": 5,
   "metadata": {
    "collapsed": true,
    "deletable": true,
    "editable": true,
    "slideshow": {
     "slide_type": "-"
    }
   },
   "outputs": [],
   "source": [
    "import re\n",
    "from datetime import datetime\n",
    "\n",
    "def get_date_str(s):\n",
    "    date_str = ''\n",
    "    r = re.search(\"\\d{4}/\\d{2}\", s)\n",
    "    if r:\n",
    "        date_str = r.group()\n",
    "        date_str = date_str.replace('/', '-')\n",
    "\n",
    "    return date_str"
   ]
  },
  {
   "cell_type": "markdown",
   "metadata": {
    "deletable": true,
    "editable": true,
    "slideshow": {
     "slide_type": "-"
    }
   },
   "source": [
    "이 함수를 사용하여 아래와 같이 모든 컬럼에서 날짜에 해당하는 문자열을 추출할 수 있다."
   ]
  },
  {
   "cell_type": "code",
   "execution_count": 6,
   "metadata": {
    "collapsed": false,
    "deletable": true,
    "editable": true,
    "slideshow": {
     "slide_type": "-"
    }
   },
   "outputs": [
    {
     "data": {
      "text/plain": [
       "['2012-12',\n",
       " '2013-12',\n",
       " '2014-12',\n",
       " '2015-12',\n",
       " '2016-12',\n",
       " '2017-12',\n",
       " '2018-12',\n",
       " '2019-12']"
      ]
     },
     "execution_count": 6,
     "metadata": {},
     "output_type": "execute_result"
    }
   ],
   "source": [
    "cols = [get_date_str(x) for x in cols]\n",
    "cols"
   ]
  },
  {
   "cell_type": "markdown",
   "metadata": {
    "deletable": true,
    "editable": true,
    "slideshow": {
     "slide_type": "slide"
    }
   },
   "source": [
    "# 3. 마지막 컬럼 제외"
   ]
  },
  {
   "cell_type": "code",
   "execution_count": 7,
   "metadata": {
    "collapsed": false,
    "deletable": true,
    "editable": true,
    "slideshow": {
     "slide_type": "-"
    }
   },
   "outputs": [
    {
     "data": {
      "text/html": [
       "<div>\n",
       "<table border=\"1\" class=\"dataframe\">\n",
       "  <thead>\n",
       "    <tr style=\"text-align: right;\">\n",
       "      <th></th>\n",
       "      <th>연간</th>\n",
       "      <th>2012/12\n",
       "\t\t\t\t\t\t\t\t\t\n",
       "\t\t\t\t\t\t\t\t\t(IFRS연결)</th>\n",
       "      <th>2013/12\n",
       "\t\t\t\t\t\t\t\t\t\n",
       "\t\t\t\t\t\t\t\t\t(IFRS연결)</th>\n",
       "      <th>2014/12\n",
       "\t\t\t\t\t\t\t\t\t\n",
       "\t\t\t\t\t\t\t\t\t(IFRS연결)</th>\n",
       "      <th>2015/12\n",
       "\t\t\t\t\t\t\t\t\t\n",
       "\t\t\t\t\t\t\t\t\t(IFRS연결)</th>\n",
       "      <th>2016/12\n",
       "\t\t\t\t\t\t\t\t\t\n",
       "\t\t\t\t\t\t\t\t\t(IFRS연결)</th>\n",
       "      <th>2017/12(E)\n",
       "\t\t\t\t\t\t\t\t\t\n",
       "\t\t\t\t\t\t\t\t\t(IFRS연결)</th>\n",
       "      <th>2018/12(E)\n",
       "\t\t\t\t\t\t\t\t\t\n",
       "\t\t\t\t\t\t\t\t\t(IFRS연결)</th>\n",
       "    </tr>\n",
       "    <tr>\n",
       "      <th>주요재무정보</th>\n",
       "      <th></th>\n",
       "      <th></th>\n",
       "      <th></th>\n",
       "      <th></th>\n",
       "      <th></th>\n",
       "      <th></th>\n",
       "      <th></th>\n",
       "      <th></th>\n",
       "    </tr>\n",
       "  </thead>\n",
       "  <tbody>\n",
       "    <tr>\n",
       "      <th>매출액</th>\n",
       "      <td>2011036.0</td>\n",
       "      <td>2286927.0</td>\n",
       "      <td>2062060.0</td>\n",
       "      <td>2006535.0</td>\n",
       "      <td>2018667.0</td>\n",
       "      <td>2205512.0</td>\n",
       "      <td>2330379.0</td>\n",
       "      <td>2360945.0</td>\n",
       "    </tr>\n",
       "    <tr>\n",
       "      <th>영업이익</th>\n",
       "      <td>290493.0</td>\n",
       "      <td>367850.0</td>\n",
       "      <td>250251.0</td>\n",
       "      <td>264134.0</td>\n",
       "      <td>292407.0</td>\n",
       "      <td>411300.0</td>\n",
       "      <td>437803.0</td>\n",
       "      <td>479730.0</td>\n",
       "    </tr>\n",
       "    <tr>\n",
       "      <th>세전계속사업이익</th>\n",
       "      <td>299150.0</td>\n",
       "      <td>383643.0</td>\n",
       "      <td>278750.0</td>\n",
       "      <td>259610.0</td>\n",
       "      <td>307137.0</td>\n",
       "      <td>424113.0</td>\n",
       "      <td>452598.0</td>\n",
       "      <td>NaN</td>\n",
       "    </tr>\n",
       "    <tr>\n",
       "      <th>당기순이익</th>\n",
       "      <td>238453.0</td>\n",
       "      <td>304748.0</td>\n",
       "      <td>233944.0</td>\n",
       "      <td>190601.0</td>\n",
       "      <td>227261.0</td>\n",
       "      <td>314572.0</td>\n",
       "      <td>335585.0</td>\n",
       "      <td>373760.0</td>\n",
       "    </tr>\n",
       "    <tr>\n",
       "      <th>당기순이익(지배)</th>\n",
       "      <td>231854.0</td>\n",
       "      <td>298212.0</td>\n",
       "      <td>230825.0</td>\n",
       "      <td>186946.0</td>\n",
       "      <td>224157.0</td>\n",
       "      <td>310125.0</td>\n",
       "      <td>330782.0</td>\n",
       "      <td>NaN</td>\n",
       "    </tr>\n",
       "  </tbody>\n",
       "</table>\n",
       "</div>"
      ],
      "text/plain": [
       "                  연간  \\\n",
       "주요재무정보                 \n",
       "매출액        2011036.0   \n",
       "영업이익        290493.0   \n",
       "세전계속사업이익    299150.0   \n",
       "당기순이익       238453.0   \n",
       "당기순이익(지배)   231854.0   \n",
       "\n",
       "           \\n\\t\\t\\t\\t\\t\\t\\t\\t\\t2012/12\\n\\t\\t\\t\\t\\t\\t\\t\\t\\t\\n\\t\\t\\t\\t\\t\\t\\t\\t\\t(IFRS연결)\\n\\t\\t\\t\\t\\t\\t\\t\\t  \\\n",
       "주요재무정보                                                                                                     \n",
       "매출액                                                2286927.0                                               \n",
       "영업이익                                                367850.0                                               \n",
       "세전계속사업이익                                            383643.0                                               \n",
       "당기순이익                                               304748.0                                               \n",
       "당기순이익(지배)                                           298212.0                                               \n",
       "\n",
       "           \\n\\t\\t\\t\\t\\t\\t\\t\\t\\t2013/12\\n\\t\\t\\t\\t\\t\\t\\t\\t\\t\\n\\t\\t\\t\\t\\t\\t\\t\\t\\t(IFRS연결)\\n\\t\\t\\t\\t\\t\\t\\t\\t  \\\n",
       "주요재무정보                                                                                                     \n",
       "매출액                                                2062060.0                                               \n",
       "영업이익                                                250251.0                                               \n",
       "세전계속사업이익                                            278750.0                                               \n",
       "당기순이익                                               233944.0                                               \n",
       "당기순이익(지배)                                           230825.0                                               \n",
       "\n",
       "           \\n\\t\\t\\t\\t\\t\\t\\t\\t\\t2014/12\\n\\t\\t\\t\\t\\t\\t\\t\\t\\t\\n\\t\\t\\t\\t\\t\\t\\t\\t\\t(IFRS연결)\\n\\t\\t\\t\\t\\t\\t\\t\\t  \\\n",
       "주요재무정보                                                                                                     \n",
       "매출액                                                2006535.0                                               \n",
       "영업이익                                                264134.0                                               \n",
       "세전계속사업이익                                            259610.0                                               \n",
       "당기순이익                                               190601.0                                               \n",
       "당기순이익(지배)                                           186946.0                                               \n",
       "\n",
       "           \\n\\t\\t\\t\\t\\t\\t\\t\\t\\t2015/12\\n\\t\\t\\t\\t\\t\\t\\t\\t\\t\\n\\t\\t\\t\\t\\t\\t\\t\\t\\t(IFRS연결)\\n\\t\\t\\t\\t\\t\\t\\t\\t  \\\n",
       "주요재무정보                                                                                                     \n",
       "매출액                                                2018667.0                                               \n",
       "영업이익                                                292407.0                                               \n",
       "세전계속사업이익                                            307137.0                                               \n",
       "당기순이익                                               227261.0                                               \n",
       "당기순이익(지배)                                           224157.0                                               \n",
       "\n",
       "           \\n\\t\\t\\t\\t\\t\\t\\t\\t\\t2016/12\\n\\t\\t\\t\\t\\t\\t\\t\\t\\t\\n\\t\\t\\t\\t\\t\\t\\t\\t\\t(IFRS연결)\\n\\t\\t\\t\\t\\t\\t\\t\\t  \\\n",
       "주요재무정보                                                                                                     \n",
       "매출액                                                2205512.0                                               \n",
       "영업이익                                                411300.0                                               \n",
       "세전계속사업이익                                            424113.0                                               \n",
       "당기순이익                                               314572.0                                               \n",
       "당기순이익(지배)                                           310125.0                                               \n",
       "\n",
       "           \\n\\t\\t\\t\\t\\t\\t\\t\\t\\t2017/12(E)\\n\\t\\t\\t\\t\\t\\t\\t\\t\\t\\n\\t\\t\\t\\t\\t\\t\\t\\t\\t(IFRS연결)\\n\\t\\t\\t\\t\\t\\t\\t\\t  \\\n",
       "주요재무정보                                                                                                        \n",
       "매출액                                                2330379.0                                                  \n",
       "영업이익                                                437803.0                                                  \n",
       "세전계속사업이익                                            452598.0                                                  \n",
       "당기순이익                                               335585.0                                                  \n",
       "당기순이익(지배)                                           330782.0                                                  \n",
       "\n",
       "           \\n\\t\\t\\t\\t\\t\\t\\t\\t\\t2018/12(E)\\n\\t\\t\\t\\t\\t\\t\\t\\t\\t\\n\\t\\t\\t\\t\\t\\t\\t\\t\\t(IFRS연결)\\n\\t\\t\\t\\t\\t\\t\\t\\t  \n",
       "주요재무정보                                                                                                       \n",
       "매출액                                                2360945.0                                                 \n",
       "영업이익                                                479730.0                                                 \n",
       "세전계속사업이익                                                 NaN                                                 \n",
       "당기순이익                                               373760.0                                                 \n",
       "당기순이익(지배)                                                NaN                                                 "
      ]
     },
     "execution_count": 7,
     "metadata": {},
     "output_type": "execute_result"
    }
   ],
   "source": [
    "df = df.ix[:, :-1]\n",
    "df.head()"
   ]
  },
  {
   "cell_type": "code",
   "execution_count": 8,
   "metadata": {
    "collapsed": false,
    "deletable": true,
    "editable": true,
    "slideshow": {
     "slide_type": "slide"
    }
   },
   "outputs": [
    {
     "data": {
      "text/html": [
       "<div>\n",
       "<table border=\"1\" class=\"dataframe\">\n",
       "  <thead>\n",
       "    <tr style=\"text-align: right;\">\n",
       "      <th></th>\n",
       "      <th>2012-12</th>\n",
       "      <th>2013-12</th>\n",
       "      <th>2014-12</th>\n",
       "      <th>2015-12</th>\n",
       "      <th>2016-12</th>\n",
       "      <th>2017-12</th>\n",
       "      <th>2018-12</th>\n",
       "      <th>2019-12</th>\n",
       "    </tr>\n",
       "    <tr>\n",
       "      <th>주요재무정보</th>\n",
       "      <th></th>\n",
       "      <th></th>\n",
       "      <th></th>\n",
       "      <th></th>\n",
       "      <th></th>\n",
       "      <th></th>\n",
       "      <th></th>\n",
       "      <th></th>\n",
       "    </tr>\n",
       "  </thead>\n",
       "  <tbody>\n",
       "    <tr>\n",
       "      <th>매출액</th>\n",
       "      <td>2011036.0</td>\n",
       "      <td>2286927.0</td>\n",
       "      <td>2062060.0</td>\n",
       "      <td>2006535.0</td>\n",
       "      <td>2018667.0</td>\n",
       "      <td>2205512.0</td>\n",
       "      <td>2330379.0</td>\n",
       "      <td>2360945.0</td>\n",
       "    </tr>\n",
       "    <tr>\n",
       "      <th>영업이익</th>\n",
       "      <td>290493.0</td>\n",
       "      <td>367850.0</td>\n",
       "      <td>250251.0</td>\n",
       "      <td>264134.0</td>\n",
       "      <td>292407.0</td>\n",
       "      <td>411300.0</td>\n",
       "      <td>437803.0</td>\n",
       "      <td>479730.0</td>\n",
       "    </tr>\n",
       "    <tr>\n",
       "      <th>세전계속사업이익</th>\n",
       "      <td>299150.0</td>\n",
       "      <td>383643.0</td>\n",
       "      <td>278750.0</td>\n",
       "      <td>259610.0</td>\n",
       "      <td>307137.0</td>\n",
       "      <td>424113.0</td>\n",
       "      <td>452598.0</td>\n",
       "      <td>NaN</td>\n",
       "    </tr>\n",
       "    <tr>\n",
       "      <th>당기순이익</th>\n",
       "      <td>238453.0</td>\n",
       "      <td>304748.0</td>\n",
       "      <td>233944.0</td>\n",
       "      <td>190601.0</td>\n",
       "      <td>227261.0</td>\n",
       "      <td>314572.0</td>\n",
       "      <td>335585.0</td>\n",
       "      <td>373760.0</td>\n",
       "    </tr>\n",
       "    <tr>\n",
       "      <th>당기순이익(지배)</th>\n",
       "      <td>231854.0</td>\n",
       "      <td>298212.0</td>\n",
       "      <td>230825.0</td>\n",
       "      <td>186946.0</td>\n",
       "      <td>224157.0</td>\n",
       "      <td>310125.0</td>\n",
       "      <td>330782.0</td>\n",
       "      <td>NaN</td>\n",
       "    </tr>\n",
       "  </tbody>\n",
       "</table>\n",
       "</div>"
      ],
      "text/plain": [
       "             2012-12    2013-12    2014-12    2015-12    2016-12    2017-12  \\\n",
       "주요재무정보                                                                        \n",
       "매출액        2011036.0  2286927.0  2062060.0  2006535.0  2018667.0  2205512.0   \n",
       "영업이익        290493.0   367850.0   250251.0   264134.0   292407.0   411300.0   \n",
       "세전계속사업이익    299150.0   383643.0   278750.0   259610.0   307137.0   424113.0   \n",
       "당기순이익       238453.0   304748.0   233944.0   190601.0   227261.0   314572.0   \n",
       "당기순이익(지배)   231854.0   298212.0   230825.0   186946.0   224157.0   310125.0   \n",
       "\n",
       "             2018-12    2019-12  \n",
       "주요재무정보                           \n",
       "매출액        2330379.0  2360945.0  \n",
       "영업이익        437803.0   479730.0  \n",
       "세전계속사업이익    452598.0        NaN  \n",
       "당기순이익       335585.0   373760.0  \n",
       "당기순이익(지배)   330782.0        NaN  "
      ]
     },
     "execution_count": 8,
     "metadata": {},
     "output_type": "execute_result"
    }
   ],
   "source": [
    "# 컬럼이름 변경\n",
    "\n",
    "df.columns = cols\n",
    "df.head()"
   ]
  },
  {
   "cell_type": "markdown",
   "metadata": {
    "deletable": true,
    "editable": true,
    "slideshow": {
     "slide_type": "slide"
    }
   },
   "source": [
    "# 4. 컬럼과 로우 전환\n",
    "DataFrame.T (transpose, 전치행열)를 사용하면 행, 열이 전환된 DataFrame을 구할 수 있다. 시간을 인덱스로하여 시계열 데이터로 만드는 것이 데이터 분석과 시각화에 유리하다."
   ]
  },
  {
   "cell_type": "code",
   "execution_count": 9,
   "metadata": {
    "collapsed": false,
    "deletable": true,
    "editable": true,
    "slideshow": {
     "slide_type": "-"
    }
   },
   "outputs": [
    {
     "data": {
      "text/html": [
       "<div>\n",
       "<table border=\"1\" class=\"dataframe\">\n",
       "  <thead>\n",
       "    <tr style=\"text-align: right;\">\n",
       "      <th>주요재무정보</th>\n",
       "      <th>매출액</th>\n",
       "      <th>당기순이익</th>\n",
       "      <th>부채총계</th>\n",
       "      <th>PER(배)</th>\n",
       "      <th>PBR(배)</th>\n",
       "      <th>현금배당수익률</th>\n",
       "    </tr>\n",
       "  </thead>\n",
       "  <tbody>\n",
       "    <tr>\n",
       "      <th>2012-12-01</th>\n",
       "      <td>2011036.0</td>\n",
       "      <td>238453.0</td>\n",
       "      <td>595914.0</td>\n",
       "      <td>11.17</td>\n",
       "      <td>1.96</td>\n",
       "      <td>0.53</td>\n",
       "    </tr>\n",
       "    <tr>\n",
       "      <th>2013-12-01</th>\n",
       "      <td>2286927.0</td>\n",
       "      <td>304748.0</td>\n",
       "      <td>640590.0</td>\n",
       "      <td>7.83</td>\n",
       "      <td>1.43</td>\n",
       "      <td>1.04</td>\n",
       "    </tr>\n",
       "    <tr>\n",
       "      <th>2014-12-01</th>\n",
       "      <td>2062060.0</td>\n",
       "      <td>233944.0</td>\n",
       "      <td>623348.0</td>\n",
       "      <td>9.78</td>\n",
       "      <td>1.23</td>\n",
       "      <td>1.51</td>\n",
       "    </tr>\n",
       "    <tr>\n",
       "      <th>2015-12-01</th>\n",
       "      <td>2006535.0</td>\n",
       "      <td>190601.0</td>\n",
       "      <td>631197.0</td>\n",
       "      <td>11.47</td>\n",
       "      <td>1.06</td>\n",
       "      <td>1.67</td>\n",
       "    </tr>\n",
       "    <tr>\n",
       "      <th>2016-12-01</th>\n",
       "      <td>2018667.0</td>\n",
       "      <td>227261.0</td>\n",
       "      <td>692113.0</td>\n",
       "      <td>13.18</td>\n",
       "      <td>1.35</td>\n",
       "      <td>1.58</td>\n",
       "    </tr>\n",
       "    <tr>\n",
       "      <th>2017-12-01</th>\n",
       "      <td>2205512.0</td>\n",
       "      <td>314572.0</td>\n",
       "      <td>690817.0</td>\n",
       "      <td>10.45</td>\n",
       "      <td>1.35</td>\n",
       "      <td>1.58</td>\n",
       "    </tr>\n",
       "    <tr>\n",
       "      <th>2018-12-01</th>\n",
       "      <td>2330379.0</td>\n",
       "      <td>335585.0</td>\n",
       "      <td>713188.0</td>\n",
       "      <td>9.79</td>\n",
       "      <td>1.20</td>\n",
       "      <td>1.69</td>\n",
       "    </tr>\n",
       "    <tr>\n",
       "      <th>2019-12-01</th>\n",
       "      <td>2360945.0</td>\n",
       "      <td>373760.0</td>\n",
       "      <td>NaN</td>\n",
       "      <td>NaN</td>\n",
       "      <td>NaN</td>\n",
       "      <td>NaN</td>\n",
       "    </tr>\n",
       "  </tbody>\n",
       "</table>\n",
       "</div>"
      ],
      "text/plain": [
       "주요재무정보            매출액     당기순이익      부채총계  PER(배)  PBR(배)  현금배당수익률\n",
       "2012-12-01  2011036.0  238453.0  595914.0   11.17    1.96     0.53\n",
       "2013-12-01  2286927.0  304748.0  640590.0    7.83    1.43     1.04\n",
       "2014-12-01  2062060.0  233944.0  623348.0    9.78    1.23     1.51\n",
       "2015-12-01  2006535.0  190601.0  631197.0   11.47    1.06     1.67\n",
       "2016-12-01  2018667.0  227261.0  692113.0   13.18    1.35     1.58\n",
       "2017-12-01  2205512.0  314572.0  690817.0   10.45    1.35     1.58\n",
       "2018-12-01  2330379.0  335585.0  713188.0    9.79    1.20     1.69\n",
       "2019-12-01  2360945.0  373760.0       NaN     NaN     NaN      NaN"
      ]
     },
     "execution_count": 9,
     "metadata": {},
     "output_type": "execute_result"
    }
   ],
   "source": [
    "dft = df.T\n",
    "\n",
    "# 첫번째 컬럼 이름을 data로 변경\n",
    "dft.rename(columns={'주요재무정보':'date'}, inplace=True)\n",
    "\n",
    "# 인덱스를 날짜형식(datetime)으로 변환\n",
    "dft.index = pd.to_datetime(dft.index)\n",
    "\n",
    "# 필요한 컬럼만 출력해 본다\n",
    "dft[['매출액', '당기순이익', '부채총계', 'PER(배)' , 'PBR(배)', '현금배당수익률']]"
   ]
  },
  {
   "cell_type": "code",
   "execution_count": 10,
   "metadata": {
    "collapsed": false,
    "deletable": true,
    "editable": true,
    "slideshow": {
     "slide_type": "subslide"
    }
   },
   "outputs": [
    {
     "data": {
      "text/plain": [
       "Index(['매출액', '영업이익', '세전계속사업이익', '당기순이익', '당기순이익(지배)', '당기순이익(비지배)', '자산총계',\n",
       "       '부채총계', '자본총계', '자본총계(지배)', '자본총계(비지배)', '자본금', '영업활동현금흐름', '투자활동현금흐름',\n",
       "       '재무활동현금흐름', 'CAPEX', 'FCF', '이자발생부채', '영업이익률', '순이익률', 'ROE(%)',\n",
       "       'ROA(%)', '부채비율', '자본유보율', 'EPS(원)', 'PER(배)', 'BPS(원)', 'PBR(배)',\n",
       "       '현금DPS(원)', '현금배당수익률', '현금배당성향(%)', '발행주식수(보통주)'],\n",
       "      dtype='object', name='주요재무정보')"
      ]
     },
     "execution_count": 10,
     "metadata": {},
     "output_type": "execute_result"
    }
   ],
   "source": [
    "# 컬럼 확인\n",
    "\n",
    "dft.columns"
   ]
  },
  {
   "cell_type": "code",
   "execution_count": 11,
   "metadata": {
    "collapsed": false,
    "deletable": true,
    "editable": true,
    "slideshow": {
     "slide_type": "-"
    }
   },
   "outputs": [
    {
     "data": {
      "text/plain": [
       "DatetimeIndex(['2012-12-01', '2013-12-01', '2014-12-01', '2015-12-01',\n",
       "               '2016-12-01', '2017-12-01', '2018-12-01', '2019-12-01'],\n",
       "              dtype='datetime64[ns]', freq=None)"
      ]
     },
     "execution_count": 11,
     "metadata": {},
     "output_type": "execute_result"
    }
   ],
   "source": [
    "# 인덱스 확인\n",
    "\n",
    "dft.index"
   ]
  },
  {
   "cell_type": "markdown",
   "metadata": {
    "deletable": true,
    "editable": true,
    "slideshow": {
     "slide_type": "slide"
    }
   },
   "source": [
    "# 정리: 함수로 만들기\n",
    "\n",
    "재사용하기 위해 앞선 내용을 정리하여 함수로 만든다."
   ]
  },
  {
   "cell_type": "code",
   "execution_count": 12,
   "metadata": {
    "collapsed": true,
    "deletable": true,
    "editable": true,
    "slideshow": {
     "slide_type": "-"
    }
   },
   "outputs": [],
   "source": [
    "import re\n",
    "from datetime import datetime\n",
    "import pandas as pd\n",
    "import requests\n",
    "from bs4 import BeautifulSoup\n",
    "\n",
    "'''\n",
    "get_date_str(s) - 문자열 s 에서 \"YYYY/MM\" 문자열 추출\n",
    "'''\n",
    "def get_date_str(s):\n",
    "    date_str = ''\n",
    "    r = re.search(\"\\d{4}/\\d{2}\", s)\n",
    "    if r:\n",
    "        date_str = r.group()\n",
    "        date_str = date_str.replace('/', '-')\n",
    "\n",
    "    return date_str\n",
    "\n",
    "'''\n",
    "* code: 종목코드\n",
    "* fin_type = '0': 재무제표 종류 (0: 주재무제표, 1: GAAP개별, 2: GAAP연결, 3: IFRS별도, 4:IFRS연결)\n",
    "* freq_type = 'Y': 기간 (Y:년, Q:분기)\n",
    "'''\n",
    "def get_finstate_naver(code, fin_type='0', freq_type='Y'):\n",
    "    url_tmpl = 'http://companyinfo.stock.naver.com/v1/company/ajax/cF1001.aspx?' \\\n",
    "                   'cmp_cd=%s&fin_typ=%s&freq_typ=%s'\n",
    "\n",
    "    url = url_tmpl % (code, fin_type, freq_type)\n",
    "    #print(url)\n",
    "\n",
    "    dfs = pd.read_html(url, encoding=\"utf-8\")\n",
    "    df = dfs[0]\n",
    "    if df.ix[0,0].find('해당 데이터가 존재하지 않습니다') >= 0:\n",
    "        return None\n",
    "\n",
    "    df.rename(columns={'주요재무정보':'date'}, inplace=True)\n",
    "    df.set_index('date', inplace=True)\n",
    "\n",
    "    cols = list(df.columns)\n",
    "    if '연간' in cols: cols.remove('연간')\n",
    "    if '분기' in cols: cols.remove('분기')\n",
    "    cols = [get_date_str(x) for x in cols]\n",
    "    df = df.ix[:, :-1]\n",
    "    df.columns = cols\n",
    "    dft = df.T\n",
    "    dft.index = pd.to_datetime(dft.index)\n",
    "\n",
    "    # remove if index is NaT\n",
    "    dft = dft[pd.notnull(dft.index)]\n",
    "    return dft"
   ]
  },
  {
   "cell_type": "code",
   "execution_count": 13,
   "metadata": {
    "collapsed": false,
    "deletable": true,
    "editable": true,
    "slideshow": {
     "slide_type": "subslide"
    }
   },
   "outputs": [
    {
     "data": {
      "text/html": [
       "<div>\n",
       "<table border=\"1\" class=\"dataframe\">\n",
       "  <thead>\n",
       "    <tr style=\"text-align: right;\">\n",
       "      <th>date</th>\n",
       "      <th>매출액</th>\n",
       "      <th>영업이익</th>\n",
       "      <th>당기순이익</th>\n",
       "      <th>영업활동현금흐름</th>\n",
       "      <th>순이익률</th>\n",
       "    </tr>\n",
       "  </thead>\n",
       "  <tbody>\n",
       "    <tr>\n",
       "      <th>2012-12-01</th>\n",
       "      <td>2011036.0</td>\n",
       "      <td>290493.0</td>\n",
       "      <td>238453.0</td>\n",
       "      <td>379728.0</td>\n",
       "      <td>11.86</td>\n",
       "    </tr>\n",
       "    <tr>\n",
       "      <th>2013-12-01</th>\n",
       "      <td>2286927.0</td>\n",
       "      <td>367850.0</td>\n",
       "      <td>304748.0</td>\n",
       "      <td>467074.0</td>\n",
       "      <td>13.33</td>\n",
       "    </tr>\n",
       "    <tr>\n",
       "      <th>2014-12-01</th>\n",
       "      <td>2062060.0</td>\n",
       "      <td>250251.0</td>\n",
       "      <td>233944.0</td>\n",
       "      <td>369754.0</td>\n",
       "      <td>11.34</td>\n",
       "    </tr>\n",
       "    <tr>\n",
       "      <th>2015-12-01</th>\n",
       "      <td>2006535.0</td>\n",
       "      <td>264134.0</td>\n",
       "      <td>190601.0</td>\n",
       "      <td>400618.0</td>\n",
       "      <td>9.50</td>\n",
       "    </tr>\n",
       "    <tr>\n",
       "      <th>2016-12-01</th>\n",
       "      <td>2018667.0</td>\n",
       "      <td>292407.0</td>\n",
       "      <td>227261.0</td>\n",
       "      <td>473856.0</td>\n",
       "      <td>11.26</td>\n",
       "    </tr>\n",
       "    <tr>\n",
       "      <th>2017-12-01</th>\n",
       "      <td>2205512.0</td>\n",
       "      <td>411300.0</td>\n",
       "      <td>314572.0</td>\n",
       "      <td>518472.0</td>\n",
       "      <td>14.26</td>\n",
       "    </tr>\n",
       "    <tr>\n",
       "      <th>2018-12-01</th>\n",
       "      <td>2330379.0</td>\n",
       "      <td>437803.0</td>\n",
       "      <td>335585.0</td>\n",
       "      <td>558685.0</td>\n",
       "      <td>14.40</td>\n",
       "    </tr>\n",
       "    <tr>\n",
       "      <th>2019-12-01</th>\n",
       "      <td>2360945.0</td>\n",
       "      <td>479730.0</td>\n",
       "      <td>373760.0</td>\n",
       "      <td>NaN</td>\n",
       "      <td>15.83</td>\n",
       "    </tr>\n",
       "  </tbody>\n",
       "</table>\n",
       "</div>"
      ],
      "text/plain": [
       "date              매출액      영업이익     당기순이익  영업활동현금흐름   순이익률\n",
       "2012-12-01  2011036.0  290493.0  238453.0  379728.0  11.86\n",
       "2013-12-01  2286927.0  367850.0  304748.0  467074.0  13.33\n",
       "2014-12-01  2062060.0  250251.0  233944.0  369754.0  11.34\n",
       "2015-12-01  2006535.0  264134.0  190601.0  400618.0   9.50\n",
       "2016-12-01  2018667.0  292407.0  227261.0  473856.0  11.26\n",
       "2017-12-01  2205512.0  411300.0  314572.0  518472.0  14.26\n",
       "2018-12-01  2330379.0  437803.0  335585.0  558685.0  14.40\n",
       "2019-12-01  2360945.0  479730.0  373760.0       NaN  15.83"
      ]
     },
     "execution_count": 13,
     "metadata": {},
     "output_type": "execute_result"
    }
   ],
   "source": [
    "# 삼성전자 (년간, IFRS연결)\n",
    "df = get_finstate_naver('005930')\n",
    "df[['매출액','영업이익', '당기순이익', '영업활동현금흐름', '순이익률']]"
   ]
  },
  {
   "cell_type": "markdown",
   "metadata": {
    "deletable": true,
    "editable": true,
    "slideshow": {
     "slide_type": "slide"
    }
   },
   "source": [
    "# 활용 예"
   ]
  },
  {
   "cell_type": "code",
   "execution_count": 14,
   "metadata": {
    "collapsed": false,
    "deletable": true,
    "editable": true,
    "slideshow": {
     "slide_type": "-"
    }
   },
   "outputs": [
    {
     "data": {
      "text/html": [
       "<div>\n",
       "<table border=\"1\" class=\"dataframe\">\n",
       "  <thead>\n",
       "    <tr style=\"text-align: right;\">\n",
       "      <th>date</th>\n",
       "      <th>ROE(%)</th>\n",
       "      <th>ROA(%)</th>\n",
       "      <th>부채비율</th>\n",
       "      <th>자본유보율</th>\n",
       "      <th>EPS(원)</th>\n",
       "      <th>PER(배)</th>\n",
       "      <th>BPS(원)</th>\n",
       "      <th>PBR(배)</th>\n",
       "    </tr>\n",
       "  </thead>\n",
       "  <tbody>\n",
       "    <tr>\n",
       "      <th>2011-12-01</th>\n",
       "      <td>26.86</td>\n",
       "      <td>21.45</td>\n",
       "      <td>22.46</td>\n",
       "      <td>6533.61</td>\n",
       "      <td>8079.0</td>\n",
       "      <td>14.85</td>\n",
       "      <td>34031.0</td>\n",
       "      <td>3.53</td>\n",
       "    </tr>\n",
       "    <tr>\n",
       "      <th>2012-12-01</th>\n",
       "      <td>15.70</td>\n",
       "      <td>13.09</td>\n",
       "      <td>17.68</td>\n",
       "      <td>7376.32</td>\n",
       "      <td>5656.0</td>\n",
       "      <td>16.11</td>\n",
       "      <td>38158.0</td>\n",
       "      <td>2.39</td>\n",
       "    </tr>\n",
       "    <tr>\n",
       "      <th>2013-12-01</th>\n",
       "      <td>17.73</td>\n",
       "      <td>14.81</td>\n",
       "      <td>22.53</td>\n",
       "      <td>728.30</td>\n",
       "      <td>4532.0</td>\n",
       "      <td>18.54</td>\n",
       "      <td>13398.0</td>\n",
       "      <td>6.27</td>\n",
       "    </tr>\n",
       "    <tr>\n",
       "      <th>2014-12-01</th>\n",
       "      <td>11.41</td>\n",
       "      <td>10.04</td>\n",
       "      <td>12.37</td>\n",
       "      <td>8411.95</td>\n",
       "      <td>6116.0</td>\n",
       "      <td>20.21</td>\n",
       "      <td>42337.0</td>\n",
       "      <td>2.92</td>\n",
       "    </tr>\n",
       "    <tr>\n",
       "      <th>2015-12-01</th>\n",
       "      <td>3.02</td>\n",
       "      <td>2.65</td>\n",
       "      <td>23.32</td>\n",
       "      <td>8407.52</td>\n",
       "      <td>1269.0</td>\n",
       "      <td>91.24</td>\n",
       "      <td>42476.0</td>\n",
       "      <td>2.73</td>\n",
       "    </tr>\n",
       "    <tr>\n",
       "      <th>2016-12-01</th>\n",
       "      <td>1.87</td>\n",
       "      <td>1.49</td>\n",
       "      <td>48.06</td>\n",
       "      <td>NaN</td>\n",
       "      <td>828.0</td>\n",
       "      <td>94.18</td>\n",
       "      <td>48994.0</td>\n",
       "      <td>1.59</td>\n",
       "    </tr>\n",
       "    <tr>\n",
       "      <th>2017-12-01</th>\n",
       "      <td>3.38</td>\n",
       "      <td>2.50</td>\n",
       "      <td>46.85</td>\n",
       "      <td>NaN</td>\n",
       "      <td>1696.0</td>\n",
       "      <td>48.94</td>\n",
       "      <td>51265.0</td>\n",
       "      <td>1.62</td>\n",
       "    </tr>\n",
       "    <tr>\n",
       "      <th>2018-12-01</th>\n",
       "      <td>4.50</td>\n",
       "      <td>3.33</td>\n",
       "      <td>45.70</td>\n",
       "      <td>NaN</td>\n",
       "      <td>2361.0</td>\n",
       "      <td>35.15</td>\n",
       "      <td>53585.0</td>\n",
       "      <td>1.55</td>\n",
       "    </tr>\n",
       "  </tbody>\n",
       "</table>\n",
       "</div>"
      ],
      "text/plain": [
       "date        ROE(%)  ROA(%)   부채비율    자본유보율  EPS(원)  PER(배)   BPS(원)  PBR(배)\n",
       "2011-12-01   26.86   21.45  22.46  6533.61  8079.0   14.85  34031.0    3.53\n",
       "2012-12-01   15.70   13.09  17.68  7376.32  5656.0   16.11  38158.0    2.39\n",
       "2013-12-01   17.73   14.81  22.53   728.30  4532.0   18.54  13398.0    6.27\n",
       "2014-12-01   11.41   10.04  12.37  8411.95  6116.0   20.21  42337.0    2.92\n",
       "2015-12-01    3.02    2.65  23.32  8407.52  1269.0   91.24  42476.0    2.73\n",
       "2016-12-01    1.87    1.49  48.06      NaN   828.0   94.18  48994.0    1.59\n",
       "2017-12-01    3.38    2.50  46.85      NaN  1696.0   48.94  51265.0    1.62\n",
       "2018-12-01    4.50    3.33  45.70      NaN  2361.0   35.15  53585.0    1.55"
      ]
     },
     "execution_count": 14,
     "metadata": {},
     "output_type": "execute_result"
    }
   ],
   "source": [
    "#df = get_finstate_naver('035720') # 셀트리온 068270 \n",
    "df = get_finstate_naver('035720') # 카카오 035720\n",
    "#df = get_finstate_naver('035720') # CJ E&M 130960\n",
    "#df = get_finstate_naver('035720') # 메디톡스 086900\n",
    "\n",
    "df[['ROE(%)', 'ROA(%)', '부채비율', '자본유보율', 'EPS(원)', 'PER(배)', 'BPS(원)', 'PBR(배)']]"
   ]
  },
  {
   "cell_type": "code",
   "execution_count": 15,
   "metadata": {
    "collapsed": false,
    "deletable": true,
    "editable": true,
    "slideshow": {
     "slide_type": "slide"
    }
   },
   "outputs": [
    {
     "data": {
      "text/plain": [
       "<matplotlib.axes._subplots.AxesSubplot at 0x7f4a07f3c898>"
      ]
     },
     "execution_count": 15,
     "metadata": {},
     "output_type": "execute_result"
    },
    {
     "data": {
      "image/png": "[encoded data removed]",
      "text/plain": [
       "<matplotlib.figure.Figure at 0x7f4a07f23e10>"
      ]
     },
     "metadata": {},
     "output_type": "display_data"
    }
   ],
   "source": [
    "%matplotlib inline\n",
    "import matplotlib.pyplot as plt\n",
    "\n",
    "df[['ROE(%)', 'ROA(%)']].plot()"
   ]
  },
  {
   "cell_type": "markdown",
   "metadata": {
    "deletable": true,
    "editable": true,
    "slideshow": {
     "slide_type": "slide"
    }
   },
   "source": [
    "# csv로 저장\n",
    "DataFrmae (재무제표 데이터)를 .csv로 저장하고자 한다면,"
   ]
  },
  {
   "cell_type": "code",
   "execution_count": 16,
   "metadata": {
    "collapsed": true,
    "deletable": true,
    "editable": true,
    "slideshow": {
     "slide_type": "-"
    }
   },
   "outputs": [],
   "source": [
    "df.to_csv('035720.csv')"
   ]
  },
  {
   "cell_type": "code",
   "execution_count": 17,
   "metadata": {
    "collapsed": false,
    "deletable": true,
    "editable": true,
    "slideshow": {
     "slide_type": "-"
    }
   },
   "outputs": [
    {
     "name": "stdout",
     "output_type": "stream",
     "text": [
      ",매출액,영업이익,세전계속사업이익,당기순이익,당기순이익(지배),당기순이익(비지배),자산총계,부채총계,자본총계,자본총계(지배),자본총계(비지배),자본금,영업활동현금흐름,투자활동현금흐름,재무활동현금흐름,CAPEX,FCF,이자발생부채,영업이익률,순이익률,ROE(%),ROA(%),부채비율,자본유보율,EPS(원),PER(배),BPS(원),PBR(배),현금DPS(원),현금배당수익률,현금배당성향(%),발행주식수(보통주)\r\n",
      "2011-12-01,4213.0,1168.0,1274.0,1080.0,1085.0,-5.0,5587.0,1025.0,4562.0,4565.0,-3.0,68.0,1118.0,-1140.0,-140.0,428.0,690.0,6.0,27.71,25.63,26.86,21.45,22.46,6533.61,8079.0,14.85,34031.0,3.53,1607.0,1.34,19.9,13454569.0\r\n",
      "2012-12-01,4534.0,1018.0,1009.0,766.0,763.0,4.0,6119.0,919.0,5199.0,5153.0,46.0,68.0,1233.0,-513.0,-322.0,368.0,865.0,1.0,22.44,16.9,15.7,13.09,17.68,7376.32,5656.0,16.11,38158.0,2.39,1110.0,1.22,19.65,13504829.0\r\n",
      "2013-12-01,2108.0,659.0,604.0,614.0,614.0,0.0,2172.0,399.0,1773.0,1773.0,0.0,210.0,705.0,-583.0,12.0,133.0,572.0,,31.24,29.13,17.73,14.81,22.53,728.3,4532.0,18.54,13398.0,6.27,1133.0,1.35,24.41,13560229.0\r\n",
      "2014-12-01,4989.0,1764.0,1688.0,1498.0,1501.0,-3.0,27680.0,3048.0,24632.0,24546.0,86.0,291.0,2203.0,1726.0,354.0,128.0,2075.0,3.0,35.37,30.03,11.41,10.04,12.37,8411.95,6116.0,20.21,42337.0,2.92,173.0,0.14,6.68,58142204.0\r\n",
      "2015-12-01,9322.0,886.0,1095.0,788.0,757.0,31.0,31885.0,6030.0,25855.0,25524.0,331.0,301.0,1622.0,-4142.0,1972.0,761.0,861.0,2218.0,9.5,8.45,3.02,2.65,23.32,8407.52,1269.0,91.24,42476.0,2.73,167.0,0.14,13.26,60096088.0\r\n",
      "2016-12-01,14295.0,1129.0,920.0,619.0,547.0,,51254.0,16650.0,34646.0,33125.0,,337.0,3270.0,-10317.0,10341.0,788.0,-1165.0,,7.9,4.33,1.87,1.49,48.06,,828.0,94.18,48994.0,1.59,160.0,0.2,0.19,\r\n",
      "2017-12-01,18288.0,1940.0,1814.0,1306.0,1148.0,,53360.0,17027.0,36343.0,34691.0,,338.0,3042.0,-1292.0,-372.0,670.0,2583.0,,10.61,7.14,3.38,2.5,46.85,,1696.0,48.94,51265.0,1.62,177.0,0.21,0.1,\r\n",
      "2018-12-01,20539.0,2636.0,2515.0,1812.0,1598.0,,55453.0,17393.0,38059.0,36261.0,,338.0,3661.0,-1409.0,-270.0,694.0,3125.0,,12.83,8.82,4.5,3.33,45.7,,2361.0,35.15,53585.0,1.55,197.0,0.24,0.08,\r\n"
     ]
    }
   ],
   "source": [
    "# 확인\n",
    "! head 035720.csv"
   ]
  },
  {
   "cell_type": "markdown",
   "metadata": {
    "deletable": true,
    "editable": true,
    "slideshow": {
     "slide_type": "slide"
    }
   },
   "source": [
    "# 요약\n",
    "\n",
    "* 파이썬 데이터 크롤링, requests를 주로 사용하지만 TABLE에 pandas.read_html()를 사용하여 간결하게 처리할 수 있다.\n",
    "* 정규식을 사용하여 문자열을 추출하는 것이 유연성과 적응성이 뛰어나다. (replace 같은 문자열 처리함수를 사용하는 것 보다.\n",
    "* pandas.DataFrame의 컬럼, 인덱스 조작을 통해 DataFrame을 적절하게 가공할 수 있다.\n",
    "* DataFrame으로 만들어지면 파일(csv, excel, RDB)등으로 변환하기 좋고, 시각화 하기도 용이하다."
   ]
  },
  {
   "cell_type": "markdown",
   "metadata": {
    "deletable": true,
    "editable": true,
    "slideshow": {
     "slide_type": "notes"
    }
   },
   "source": [
    "#### 2017 https://facebook.com/financedata"
   ]
  }
 ],
 "metadata": {
  "celltoolbar": "Slideshow",
  "kernelspec": {
   "display_name": "Python 3",
   "language": "python",
   "name": "python3"
  },
  "language_info": {
   "codemirror_mode": {
    "name": "ipython",
    "version": 3
   },
   "file_extension": ".py",
   "mimetype": "text/x-python",
   "name": "python",
   "nbconvert_exporter": "python",
   "pygments_lexer": "ipython3",
   "version": "3.6.0"
  },
  "nikola": {
   "category": "dev",
   "date": "2017-02-25 02:30:35 UTC+09:00",
   "description": "네이버 파이낸스 사이트에서 재무제표 크롤링",
   "link": "",
   "slug": "naver-finance-finstate-crawling",
   "tags": "crawling, naver",
   "title": "네이버 파이낸스 - 재무제표 크롤링",
   "type": "text"
  }
 },
 "nbformat": 4,
 "nbformat_minor": 0
}
