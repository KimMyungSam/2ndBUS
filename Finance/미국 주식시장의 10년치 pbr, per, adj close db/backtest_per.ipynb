{
 "cells": [
  {
   "cell_type": "code",
   "execution_count": 1,
   "metadata": {
    "collapsed": true
   },
   "outputs": [],
   "source": [
    "%matplotlib inline\n",
    "import pandas as pd\n",
    "import numpy as np\n",
    "import os\n",
    "import xlrd\n",
    "import time\n",
    "import io\n",
    "import matplotlib.pyplot as plt"
   ]
  },
  {
   "cell_type": "code",
   "execution_count": 2,
   "metadata": {
    "collapsed": false
   },
   "outputs": [
    {
     "ename": "FileNotFoundError",
     "evalue": "File b'market.csv' does not exist",
     "output_type": "error",
     "traceback": [
      "\u001b[0;31m---------------------------------------------------------------------------\u001b[0m",
      "\u001b[0;31mFileNotFoundError\u001b[0m                         Traceback (most recent call last)",
      "\u001b[0;32m<ipython-input-2-277a90fd3e08>\u001b[0m in \u001b[0;36m<module>\u001b[0;34m()\u001b[0m\n\u001b[1;32m      5\u001b[0m \u001b[0mdbpbr\u001b[0m\u001b[1;33m=\u001b[0m\u001b[0mpd\u001b[0m\u001b[1;33m.\u001b[0m\u001b[0mread_csv\u001b[0m\u001b[1;33m(\u001b[0m\u001b[1;34m'pbr.csv'\u001b[0m\u001b[1;33m)\u001b[0m\u001b[1;33m\u001b[0m\u001b[0m\n\u001b[1;32m      6\u001b[0m \u001b[0mdbpbr\u001b[0m\u001b[1;33m.\u001b[0m\u001b[0mset_index\u001b[0m\u001b[1;33m(\u001b[0m\u001b[1;34m'ticker'\u001b[0m\u001b[1;33m,\u001b[0m \u001b[0minplace\u001b[0m\u001b[1;33m=\u001b[0m\u001b[1;32mTrue\u001b[0m\u001b[1;33m)\u001b[0m\u001b[1;33m\u001b[0m\u001b[0m\n\u001b[0;32m----> 7\u001b[0;31m \u001b[0mdbmarket\u001b[0m\u001b[1;33m=\u001b[0m\u001b[0mpd\u001b[0m\u001b[1;33m.\u001b[0m\u001b[0mread_csv\u001b[0m\u001b[1;33m(\u001b[0m\u001b[1;34m'market.csv'\u001b[0m\u001b[1;33m)\u001b[0m\u001b[1;33m\u001b[0m\u001b[0m\n\u001b[0m\u001b[1;32m      8\u001b[0m \u001b[0mdbmarket\u001b[0m\u001b[1;33m.\u001b[0m\u001b[0mset_index\u001b[0m\u001b[1;33m(\u001b[0m\u001b[1;34m'ticker'\u001b[0m\u001b[1;33m,\u001b[0m \u001b[0minplace\u001b[0m\u001b[1;33m=\u001b[0m\u001b[1;32mTrue\u001b[0m\u001b[1;33m)\u001b[0m\u001b[1;33m\u001b[0m\u001b[0m\n",
      "\u001b[0;32mC:\\Anaconda3\\lib\\site-packages\\pandas\\io\\parsers.py\u001b[0m in \u001b[0;36mparser_f\u001b[0;34m(filepath_or_buffer, sep, delimiter, header, names, index_col, usecols, squeeze, prefix, mangle_dupe_cols, dtype, engine, converters, true_values, false_values, skipinitialspace, skiprows, nrows, na_values, keep_default_na, na_filter, verbose, skip_blank_lines, parse_dates, infer_datetime_format, keep_date_col, date_parser, dayfirst, iterator, chunksize, compression, thousands, decimal, lineterminator, quotechar, quoting, escapechar, comment, encoding, dialect, tupleize_cols, error_bad_lines, warn_bad_lines, skipfooter, skip_footer, doublequote, delim_whitespace, as_recarray, compact_ints, use_unsigned, low_memory, buffer_lines, memory_map, float_precision)\u001b[0m\n\u001b[1;32m    644\u001b[0m                     skip_blank_lines=skip_blank_lines)\n\u001b[1;32m    645\u001b[0m \u001b[1;33m\u001b[0m\u001b[0m\n\u001b[0;32m--> 646\u001b[0;31m         \u001b[1;32mreturn\u001b[0m \u001b[0m_read\u001b[0m\u001b[1;33m(\u001b[0m\u001b[0mfilepath_or_buffer\u001b[0m\u001b[1;33m,\u001b[0m \u001b[0mkwds\u001b[0m\u001b[1;33m)\u001b[0m\u001b[1;33m\u001b[0m\u001b[0m\n\u001b[0m\u001b[1;32m    647\u001b[0m \u001b[1;33m\u001b[0m\u001b[0m\n\u001b[1;32m    648\u001b[0m     \u001b[0mparser_f\u001b[0m\u001b[1;33m.\u001b[0m\u001b[0m__name__\u001b[0m \u001b[1;33m=\u001b[0m \u001b[0mname\u001b[0m\u001b[1;33m\u001b[0m\u001b[0m\n",
      "\u001b[0;32mC:\\Anaconda3\\lib\\site-packages\\pandas\\io\\parsers.py\u001b[0m in \u001b[0;36m_read\u001b[0;34m(filepath_or_buffer, kwds)\u001b[0m\n\u001b[1;32m    387\u001b[0m \u001b[1;33m\u001b[0m\u001b[0m\n\u001b[1;32m    388\u001b[0m     \u001b[1;31m# Create the parser.\u001b[0m\u001b[1;33m\u001b[0m\u001b[1;33m\u001b[0m\u001b[0m\n\u001b[0;32m--> 389\u001b[0;31m     \u001b[0mparser\u001b[0m \u001b[1;33m=\u001b[0m \u001b[0mTextFileReader\u001b[0m\u001b[1;33m(\u001b[0m\u001b[0mfilepath_or_buffer\u001b[0m\u001b[1;33m,\u001b[0m \u001b[1;33m**\u001b[0m\u001b[0mkwds\u001b[0m\u001b[1;33m)\u001b[0m\u001b[1;33m\u001b[0m\u001b[0m\n\u001b[0m\u001b[1;32m    390\u001b[0m \u001b[1;33m\u001b[0m\u001b[0m\n\u001b[1;32m    391\u001b[0m     \u001b[1;32mif\u001b[0m \u001b[1;33m(\u001b[0m\u001b[0mnrows\u001b[0m \u001b[1;32mis\u001b[0m \u001b[1;32mnot\u001b[0m \u001b[1;32mNone\u001b[0m\u001b[1;33m)\u001b[0m \u001b[1;32mand\u001b[0m \u001b[1;33m(\u001b[0m\u001b[0mchunksize\u001b[0m \u001b[1;32mis\u001b[0m \u001b[1;32mnot\u001b[0m \u001b[1;32mNone\u001b[0m\u001b[1;33m)\u001b[0m\u001b[1;33m:\u001b[0m\u001b[1;33m\u001b[0m\u001b[0m\n",
      "\u001b[0;32mC:\\Anaconda3\\lib\\site-packages\\pandas\\io\\parsers.py\u001b[0m in \u001b[0;36m__init__\u001b[0;34m(self, f, engine, **kwds)\u001b[0m\n\u001b[1;32m    728\u001b[0m             \u001b[0mself\u001b[0m\u001b[1;33m.\u001b[0m\u001b[0moptions\u001b[0m\u001b[1;33m[\u001b[0m\u001b[1;34m'has_index_names'\u001b[0m\u001b[1;33m]\u001b[0m \u001b[1;33m=\u001b[0m \u001b[0mkwds\u001b[0m\u001b[1;33m[\u001b[0m\u001b[1;34m'has_index_names'\u001b[0m\u001b[1;33m]\u001b[0m\u001b[1;33m\u001b[0m\u001b[0m\n\u001b[1;32m    729\u001b[0m \u001b[1;33m\u001b[0m\u001b[0m\n\u001b[0;32m--> 730\u001b[0;31m         \u001b[0mself\u001b[0m\u001b[1;33m.\u001b[0m\u001b[0m_make_engine\u001b[0m\u001b[1;33m(\u001b[0m\u001b[0mself\u001b[0m\u001b[1;33m.\u001b[0m\u001b[0mengine\u001b[0m\u001b[1;33m)\u001b[0m\u001b[1;33m\u001b[0m\u001b[0m\n\u001b[0m\u001b[1;32m    731\u001b[0m \u001b[1;33m\u001b[0m\u001b[0m\n\u001b[1;32m    732\u001b[0m     \u001b[1;32mdef\u001b[0m \u001b[0mclose\u001b[0m\u001b[1;33m(\u001b[0m\u001b[0mself\u001b[0m\u001b[1;33m)\u001b[0m\u001b[1;33m:\u001b[0m\u001b[1;33m\u001b[0m\u001b[0m\n",
      "\u001b[0;32mC:\\Anaconda3\\lib\\site-packages\\pandas\\io\\parsers.py\u001b[0m in \u001b[0;36m_make_engine\u001b[0;34m(self, engine)\u001b[0m\n\u001b[1;32m    921\u001b[0m     \u001b[1;32mdef\u001b[0m \u001b[0m_make_engine\u001b[0m\u001b[1;33m(\u001b[0m\u001b[0mself\u001b[0m\u001b[1;33m,\u001b[0m \u001b[0mengine\u001b[0m\u001b[1;33m=\u001b[0m\u001b[1;34m'c'\u001b[0m\u001b[1;33m)\u001b[0m\u001b[1;33m:\u001b[0m\u001b[1;33m\u001b[0m\u001b[0m\n\u001b[1;32m    922\u001b[0m         \u001b[1;32mif\u001b[0m \u001b[0mengine\u001b[0m \u001b[1;33m==\u001b[0m \u001b[1;34m'c'\u001b[0m\u001b[1;33m:\u001b[0m\u001b[1;33m\u001b[0m\u001b[0m\n\u001b[0;32m--> 923\u001b[0;31m             \u001b[0mself\u001b[0m\u001b[1;33m.\u001b[0m\u001b[0m_engine\u001b[0m \u001b[1;33m=\u001b[0m \u001b[0mCParserWrapper\u001b[0m\u001b[1;33m(\u001b[0m\u001b[0mself\u001b[0m\u001b[1;33m.\u001b[0m\u001b[0mf\u001b[0m\u001b[1;33m,\u001b[0m \u001b[1;33m**\u001b[0m\u001b[0mself\u001b[0m\u001b[1;33m.\u001b[0m\u001b[0moptions\u001b[0m\u001b[1;33m)\u001b[0m\u001b[1;33m\u001b[0m\u001b[0m\n\u001b[0m\u001b[1;32m    924\u001b[0m         \u001b[1;32melse\u001b[0m\u001b[1;33m:\u001b[0m\u001b[1;33m\u001b[0m\u001b[0m\n\u001b[1;32m    925\u001b[0m             \u001b[1;32mif\u001b[0m \u001b[0mengine\u001b[0m \u001b[1;33m==\u001b[0m \u001b[1;34m'python'\u001b[0m\u001b[1;33m:\u001b[0m\u001b[1;33m\u001b[0m\u001b[0m\n",
      "\u001b[0;32mC:\\Anaconda3\\lib\\site-packages\\pandas\\io\\parsers.py\u001b[0m in \u001b[0;36m__init__\u001b[0;34m(self, src, **kwds)\u001b[0m\n\u001b[1;32m   1388\u001b[0m         \u001b[0mkwds\u001b[0m\u001b[1;33m[\u001b[0m\u001b[1;34m'allow_leading_cols'\u001b[0m\u001b[1;33m]\u001b[0m \u001b[1;33m=\u001b[0m \u001b[0mself\u001b[0m\u001b[1;33m.\u001b[0m\u001b[0mindex_col\u001b[0m \u001b[1;32mis\u001b[0m \u001b[1;32mnot\u001b[0m \u001b[1;32mFalse\u001b[0m\u001b[1;33m\u001b[0m\u001b[0m\n\u001b[1;32m   1389\u001b[0m \u001b[1;33m\u001b[0m\u001b[0m\n\u001b[0;32m-> 1390\u001b[0;31m         \u001b[0mself\u001b[0m\u001b[1;33m.\u001b[0m\u001b[0m_reader\u001b[0m \u001b[1;33m=\u001b[0m \u001b[0m_parser\u001b[0m\u001b[1;33m.\u001b[0m\u001b[0mTextReader\u001b[0m\u001b[1;33m(\u001b[0m\u001b[0msrc\u001b[0m\u001b[1;33m,\u001b[0m \u001b[1;33m**\u001b[0m\u001b[0mkwds\u001b[0m\u001b[1;33m)\u001b[0m\u001b[1;33m\u001b[0m\u001b[0m\n\u001b[0m\u001b[1;32m   1391\u001b[0m \u001b[1;33m\u001b[0m\u001b[0m\n\u001b[1;32m   1392\u001b[0m         \u001b[1;31m# XXX\u001b[0m\u001b[1;33m\u001b[0m\u001b[1;33m\u001b[0m\u001b[0m\n",
      "\u001b[0;32mpandas\\parser.pyx\u001b[0m in \u001b[0;36mpandas.parser.TextReader.__cinit__ (pandas\\parser.c:4184)\u001b[0;34m()\u001b[0m\n",
      "\u001b[0;32mpandas\\parser.pyx\u001b[0m in \u001b[0;36mpandas.parser.TextReader._setup_parser_source (pandas\\parser.c:8449)\u001b[0;34m()\u001b[0m\n",
      "\u001b[0;31mFileNotFoundError\u001b[0m: File b'market.csv' does not exist"
     ]
    }
   ],
   "source": [
    "dbprice=pd.read_csv('price.csv')\n",
    "dbprice.set_index('ticker', inplace=True)\n",
    "dbper=pd.read_csv('per.csv')\n",
    "dbper.set_index('ticker', inplace=True)\n",
    "dbpbr=pd.read_csv('pbr.csv')\n",
    "dbpbr.set_index('ticker', inplace=True)\n",
    "dbmarket=pd.read_csv('market.csv')\n",
    "dbmarket.set_index('ticker', inplace=True)"
   ]
  },
  {
   "cell_type": "code",
   "execution_count": null,
   "metadata": {
    "collapsed": true
   },
   "outputs": [],
   "source": [
    "def yields(db):\n",
    "    db['yield']=np.round((db[db.columns[2]]-db[db.columns[1]])/db[db.columns[1]]*100,2)\n",
    "    return db"
   ]
  },
  {
   "cell_type": "code",
   "execution_count": null,
   "metadata": {
    "collapsed": true
   },
   "outputs": [],
   "source": [
    "def per_modeling(y, m, n):\n",
    "    dbpermodel = dbper.iloc[:, [0,(y%7)*12+((y//7)-1)*84+m]]\n",
    "    dbpermodel = dbpermodel.sort_values(by=dbpermodel.columns[1], ascending=True).head(100)\n",
    "    dbpricemodel = dbprice.ix[dbpermodel.index, [0,(y%7)*12+((y//7)-1)*84+m,(y%7)*12+((y//7)-1)*84+m+12]]\n",
    "    dbpricemodel[dbpricemodel.columns[1:3]] = dbpricemodel[dbpricemodel.columns[1:3]].astype(float)\n",
    "    dbpricemodel = dbpricemodel[(dbpricemodel[dbpricemodel.columns[1]] > 0) & (dbpricemodel[dbpricemodel.columns[2]] > 0)].head(n)\n",
    "\n",
    "    dbpricemodel=yields(dbpricemodel)\n",
    "    return dbpricemodel"
   ]
  },
  {
   "cell_type": "code",
   "execution_count": null,
   "metadata": {
    "collapsed": false
   },
   "outputs": [],
   "source": [
    "per_modeling(7, 1, 10)"
   ]
  },
  {
   "cell_type": "code",
   "execution_count": null,
   "metadata": {
    "collapsed": false
   },
   "outputs": [],
   "source": [
    "dbpricemodel_m=per_modeling(7,1,10)['yield'].mean()\n",
    "dbpricemodel_m"
   ]
  },
  {
   "cell_type": "code",
   "execution_count": null,
   "metadata": {
    "collapsed": true
   },
   "outputs": [],
   "source": [
    "def results(y, m, n):\n",
    "    dbmarketmodel = dbmarket.iloc[:, [0,(y%7)*12+((y//7)-1)*84+m,(y%7)*12+((y//7)-1)*84+m+12]]\n",
    "    dbmarketmodel = yields(dbmarketmodel)\n",
    "    resultcolumns = [per_modeling(y,m,n)['yield'].mean(), dbmarketmodel.iloc[0, 3], dbmarketmodel.iloc[1,3]]\n",
    "    resultindex = ['model','S&P500','NASDAQ']\n",
    "    result = pd.DataFrame({'ticker':resultindex,'%s-%s'%(y, m):resultcolumns})\n",
    "    result['%s-%s'%(y,m)]=resultcolumns\n",
    "    results=result.set_index('ticker')\n",
    "    return results"
   ]
  },
  {
   "cell_type": "code",
   "execution_count": null,
   "metadata": {
    "collapsed": true
   },
   "outputs": [],
   "source": [
    "def per_results(n):\n",
    "    per_results = results(7, 1, n)\n",
    "    for i in range(7,17):\n",
    "        if i == 16:\n",
    "            for j in range(1,6):\n",
    "                per_results['%s-%s'%(i, j)]=results(i, j, n)['%s-%s'%(i, j)]\n",
    "        else:\n",
    "            for j in range(1,13):\n",
    "                per_results['%s-%s'%(i, j)]=results(i, j, n)['%s-%s'%(i, j)]\n",
    "    return per_results\n"
   ]
  },
  {
   "cell_type": "code",
   "execution_count": null,
   "metadata": {
    "collapsed": false
   },
   "outputs": [],
   "source": [
    "per_results(10)"
   ]
  },
  {
   "cell_type": "code",
   "execution_count": null,
   "metadata": {
    "collapsed": true
   },
   "outputs": [],
   "source": [
    "def win(a):\n",
    "    win = 0\n",
    "    for i in range(0, 113):\n",
    "        if a.ix[0,i]>a.ix[1:3,i].mean():\n",
    "            win += 1\n",
    "    return win\n",
    "\n",
    "def geomean(*numbers):\n",
    "    a=1\n",
    "    for i in numbers:\n",
    "        a = a*i\n",
    "    b= a**(1/len(numbers))\n",
    "    return b\n",
    "\n",
    "def change1(a):\n",
    "    b = a/100 + 1\n",
    "    return b\n",
    "\n",
    "def change2(a):\n",
    "    b = a*100 -100\n",
    "    return b"
   ]
  },
  {
   "cell_type": "code",
   "execution_count": null,
   "metadata": {
    "collapsed": true
   },
   "outputs": [],
   "source": [
    "def result_mean(a):\n",
    "    a1=change2(geomean(change1(a.ix[0, 0]),change1(a.ix[0, 12]),change1(a.ix[0, 24]),change1(a.ix[0, 36]),change1(a.ix[0, 48]),change1(a.ix[0, 60]),change1(a.ix[0, 72]),change1(a.ix[0, 84]),change1(a.ix[0, 96]),change1(a.ix[0, 108])))\n",
    "    a2=change2(geomean(change1(a.ix[0, 1]),change1(a.ix[0, 13]),change1(a.ix[0, 25]),change1(a.ix[0, 37]),change1(a.ix[0, 49]),change1(a.ix[0, 61]),change1(a.ix[0, 73]),change1(a.ix[0, 85]),change1(a.ix[0, 97]),change1(a.ix[0, 109])))\n",
    "    a3=change2(geomean(change1(a.ix[0, 2]),change1(a.ix[0, 14]),change1(a.ix[0, 26]),change1(a.ix[0, 38]),change1(a.ix[0, 50]),change1(a.ix[0, 62]),change1(a.ix[0, 74]),change1(a.ix[0, 86]),change1(a.ix[0, 98]),change1(a.ix[0, 110])))\n",
    "    a4=change2(geomean(change1(a.ix[0, 3]),change1(a.ix[0, 15]),change1(a.ix[0, 27]),change1(a.ix[0, 39]),change1(a.ix[0, 51]),change1(a.ix[0, 63]),change1(a.ix[0, 75]),change1(a.ix[0, 87]),change1(a.ix[0, 99]),change1(a.ix[0, 111])))\n",
    "    a5=change2(geomean(change1(a.ix[0, 4]),change1(a.ix[0, 16]),change1(a.ix[0, 28]),change1(a.ix[0, 40]),change1(a.ix[0, 52]),change1(a.ix[0, 64]),change1(a.ix[0, 76]),change1(a.ix[0, 88]),change1(a.ix[0, 100]),change1(a.ix[0, 112])))\n",
    "    a6=change2(geomean(change1(a.ix[0, 5]),change1(a.ix[0, 17]),change1(a.ix[0, 29]),change1(a.ix[0, 41]),change1(a.ix[0, 53]),change1(a.ix[0, 65]),change1(a.ix[0, 77]),change1(a.ix[0, 89]),change1(a.ix[0, 101])))\n",
    "    a7=change2(geomean(change1(a.ix[0, 6]),change1(a.ix[0, 18]),change1(a.ix[0, 30]),change1(a.ix[0, 42]),change1(a.ix[0, 54]),change1(a.ix[0, 66]),change1(a.ix[0, 78]),change1(a.ix[0, 90]),change1(a.ix[0, 102])))\n",
    "    a8=change2(geomean(change1(a.ix[0, 7]),change1(a.ix[0, 19]),change1(a.ix[0, 31]),change1(a.ix[0, 43]),change1(a.ix[0, 55]),change1(a.ix[0, 67]),change1(a.ix[0, 79]),change1(a.ix[0, 91]),change1(a.ix[0, 103])))\n",
    "    a9=change2(geomean(change1(a.ix[0, 8]),change1(a.ix[0, 20]),change1(a.ix[0, 32]),change1(a.ix[0, 44]),change1(a.ix[0, 56]),change1(a.ix[0, 68]),change1(a.ix[0, 80]),change1(a.ix[0, 92]),change1(a.ix[0, 104])))\n",
    "    a10=change2(geomean(change1(a.ix[0, 9]),change1(a.ix[0, 21]),change1(a.ix[0, 33]),change1(a.ix[0, 45]),change1(a.ix[0, 57]),change1(a.ix[0, 69]),change1(a.ix[0, 81]),change1(a.ix[0, 93]),change1(a.ix[0, 105])))\n",
    "    a11=change2(geomean(change1(a.ix[0, 10]),change1(a.ix[0, 22]),change1(a.ix[0, 34]),change1(a.ix[0, 46]),change1(a.ix[0, 58]),change1(a.ix[0, 70]),change1(a.ix[0, 82]),change1(a.ix[0, 94]),change1(a.ix[0, 106])))\n",
    "    a12=change2(geomean(change1(a.ix[0, 11]),change1(a.ix[0, 23]),change1(a.ix[0, 35]),change1(a.ix[0, 47]),change1(a.ix[0, 59]),change1(a.ix[0, 71]),change1(a.ix[0, 83]),change1(a.ix[0, 95]),change1(a.ix[0, 107])))\n",
    "    a0 = np.round((a1+a2+a3+a4+a5+a6+a7+a8+a9+a10+a11+a12)/12, 2)\n",
    "    return a0"
   ]
  },
  {
   "cell_type": "code",
   "execution_count": null,
   "metadata": {
    "collapsed": false
   },
   "outputs": [],
   "source": [
    "result_mean(per_results(10))"
   ]
  },
  {
   "cell_type": "code",
   "execution_count": null,
   "metadata": {
    "collapsed": true
   },
   "outputs": [],
   "source": [
    "yield_mean = []\n",
    "winn = []\n",
    "losen = []\n",
    "num = []"
   ]
  },
  {
   "cell_type": "code",
   "execution_count": null,
   "metadata": {
    "collapsed": false
   },
   "outputs": [],
   "source": [
    "for n in range(3, 50):\n",
    "    print(n)\n",
    "    a=per_results(n)\n",
    "    yield_mean.append(result_mean(a))\n",
    "    winn.append(win(a))\n",
    "    num.append('n=%s'%n)\n",
    "    losen.append(113- win(a))"
   ]
  },
  {
   "cell_type": "code",
   "execution_count": null,
   "metadata": {
    "collapsed": false
   },
   "outputs": [],
   "source": [
    "b= pd.DataFrame({'n':num, 'mean':yield_mean,'win':winn,'lose':losen}, columns=['n','mean','win','lose'])\n",
    "c= b.set_index('n')\n",
    "c"
   ]
  },
  {
   "cell_type": "code",
   "execution_count": null,
   "metadata": {
    "collapsed": true
   },
   "outputs": [],
   "source": [
    "c.to_excel('per_test.xlsx')"
   ]
  }
 ],
 "metadata": {
  "kernelspec": {
   "display_name": "Python 3",
   "language": "python",
   "name": "python3"
  },
  "language_info": {
   "codemirror_mode": {
    "name": "ipython",
    "version": 3
   },
   "file_extension": ".py",
   "mimetype": "text/x-python",
   "name": "python",
   "nbconvert_exporter": "python",
   "pygments_lexer": "ipython3",
   "version": "3.6.0"
  }
 },
 "nbformat": 4,
 "nbformat_minor": 2
}
