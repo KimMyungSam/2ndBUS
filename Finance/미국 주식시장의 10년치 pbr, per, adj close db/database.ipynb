{
 "cells": [
  {
   "cell_type": "code",
   "execution_count": 1,
   "metadata": {
    "collapsed": true
   },
   "outputs": [],
   "source": [
    "import pandas as pd\n",
    "import requests\n",
    "from io import BytesIO\n",
    "import os\n",
    "import xlrd\n",
    "import time\n",
    "\n"
   ]
  },
  {
   "cell_type": "code",
   "execution_count": 2,
   "metadata": {
    "collapsed": false
   },
   "outputs": [
    {
     "ename": "FileNotFoundError",
     "evalue": "[Errno 2] No such file or directory: 'NYSE.xlsx'",
     "output_type": "error",
     "traceback": [
      "\u001b[0;31m---------------------------------------------------------------------------\u001b[0m",
      "\u001b[0;31mFileNotFoundError\u001b[0m                         Traceback (most recent call last)",
      "\u001b[0;32m<ipython-input-2-e2636097e9c8>\u001b[0m in \u001b[0;36m<module>\u001b[0;34m()\u001b[0m\n\u001b[1;32m     38\u001b[0m     \u001b[0mdfa\u001b[0m \u001b[1;33m=\u001b[0m \u001b[0mdf\u001b[0m\u001b[1;33m.\u001b[0m\u001b[0mloc\u001b[0m\u001b[1;33m[\u001b[0m\u001b[1;33m:\u001b[0m \u001b[1;33m,\u001b[0m \u001b[1;33m[\u001b[0m\u001b[0mcode\u001b[0m\u001b[1;33m]\u001b[0m\u001b[1;33m]\u001b[0m\u001b[1;33m\u001b[0m\u001b[0m\n\u001b[1;32m     39\u001b[0m     \u001b[1;32mreturn\u001b[0m \u001b[0mdfa\u001b[0m\u001b[1;33m\u001b[0m\u001b[0m\n\u001b[0;32m---> 40\u001b[0;31m \u001b[0mwb\u001b[0m \u001b[1;33m=\u001b[0m \u001b[0mxlrd\u001b[0m\u001b[1;33m.\u001b[0m\u001b[0mopen_workbook\u001b[0m\u001b[1;33m(\u001b[0m\u001b[1;34m\"NYSE.xlsx\"\u001b[0m\u001b[1;33m)\u001b[0m\u001b[1;33m\u001b[0m\u001b[0m\n\u001b[0m\u001b[1;32m     41\u001b[0m \u001b[0mws\u001b[0m \u001b[1;33m=\u001b[0m \u001b[0mwb\u001b[0m\u001b[1;33m.\u001b[0m\u001b[0msheet_by_index\u001b[0m\u001b[1;33m(\u001b[0m\u001b[1;36m0\u001b[0m\u001b[1;33m)\u001b[0m\u001b[1;33m\u001b[0m\u001b[0m\n\u001b[1;32m     42\u001b[0m \u001b[0mncol\u001b[0m \u001b[1;33m=\u001b[0m \u001b[0mws\u001b[0m\u001b[1;33m.\u001b[0m\u001b[0mncols\u001b[0m\u001b[1;33m\u001b[0m\u001b[0m\n",
      "\u001b[0;32mC:\\Anaconda3\\lib\\site-packages\\xlrd\\__init__.py\u001b[0m in \u001b[0;36mopen_workbook\u001b[0;34m(filename, logfile, verbosity, use_mmap, file_contents, encoding_override, formatting_info, on_demand, ragged_rows)\u001b[0m\n\u001b[1;32m    393\u001b[0m         \u001b[0mpeek\u001b[0m \u001b[1;33m=\u001b[0m \u001b[0mfile_contents\u001b[0m\u001b[1;33m[\u001b[0m\u001b[1;33m:\u001b[0m\u001b[0mpeeksz\u001b[0m\u001b[1;33m]\u001b[0m\u001b[1;33m\u001b[0m\u001b[0m\n\u001b[1;32m    394\u001b[0m     \u001b[1;32melse\u001b[0m\u001b[1;33m:\u001b[0m\u001b[1;33m\u001b[0m\u001b[0m\n\u001b[0;32m--> 395\u001b[0;31m         \u001b[1;32mwith\u001b[0m \u001b[0mopen\u001b[0m\u001b[1;33m(\u001b[0m\u001b[0mfilename\u001b[0m\u001b[1;33m,\u001b[0m \u001b[1;34m\"rb\"\u001b[0m\u001b[1;33m)\u001b[0m \u001b[1;32mas\u001b[0m \u001b[0mf\u001b[0m\u001b[1;33m:\u001b[0m\u001b[1;33m\u001b[0m\u001b[0m\n\u001b[0m\u001b[1;32m    396\u001b[0m             \u001b[0mpeek\u001b[0m \u001b[1;33m=\u001b[0m \u001b[0mf\u001b[0m\u001b[1;33m.\u001b[0m\u001b[0mread\u001b[0m\u001b[1;33m(\u001b[0m\u001b[0mpeeksz\u001b[0m\u001b[1;33m)\u001b[0m\u001b[1;33m\u001b[0m\u001b[0m\n\u001b[1;32m    397\u001b[0m     \u001b[1;32mif\u001b[0m \u001b[0mpeek\u001b[0m \u001b[1;33m==\u001b[0m \u001b[1;34mb\"PK\\x03\\x04\"\u001b[0m\u001b[1;33m:\u001b[0m \u001b[1;31m# a ZIP file\u001b[0m\u001b[1;33m\u001b[0m\u001b[0m\n",
      "\u001b[0;31mFileNotFoundError\u001b[0m: [Errno 2] No such file or directory: 'NYSE.xlsx'"
     ]
    }
   ],
   "source": [
    "def adjclose(code):\n",
    "    url = 'https://query1.finance.yahoo.com/v7/finance/download/%s?period1=1167231600&period2=1493737200&interval=1d&events=history&crumb=OPrK1lH94iY'%(code)\n",
    "    data = {\n",
    "            'period1':'1167231600',\n",
    "            'period2':'1493737200',\n",
    "            'interval':'1d',\n",
    "            'events':'history',\n",
    "            'crumb':'2g21JVm4.C2'\n",
    "        }\n",
    "    r= requests.post(url, data)\n",
    "    Date=[]\n",
    "    Open=[]\n",
    "    High=[]\n",
    "    Low=[]\n",
    "    Close=[]\n",
    "    AdjClose = []\n",
    "    Volume=[]\n",
    "    i=0\n",
    "    for row in r.text.split('\\n')[1:]:\n",
    "        for columns in row.split(','):\n",
    "            i += 1\n",
    "            if i % 7 == 1:\n",
    "                Date.append(columns)\n",
    "            elif i % 7 == 2:\n",
    "                Open.append(columns)\n",
    "            elif i % 7 == 3:\n",
    "                High.append(columns)\n",
    "            elif i % 7 == 4:\n",
    "                Low.append(columns)\n",
    "            elif i % 7 == 5:\n",
    "                Close.append(columns)\n",
    "            elif i % 7 == 6:\n",
    "                AdjClose.append(columns)\n",
    "            else:\n",
    "                Volume.append(columns)\n",
    "    Date=Date[0:-1]\n",
    "    df = pd.DataFrame({'Date':Date,'Open':Open,'High':High,'Low':Low,'Close':Close,code:AdjClose,'Volume':Volume}, columns=['Open','High','Low','Close',code,'Volume'], index=Date)\n",
    "    dfa = df.loc[: , [code]]\n",
    "    return dfa\n",
    "wb = xlrd.open_workbook(\"NYSE.xlsx\")\n",
    "ws = wb.sheet_by_index(0)\n",
    "ncol = ws.ncols\n",
    "nlow = ws.nrows\n",
    "\n",
    "n = ws.col_values(0)[1:]\n",
    "dfb=adjclose('IBM')\n",
    "j=0\n"
   ]
  },
  {
   "cell_type": "code",
   "execution_count": null,
   "metadata": {
    "collapsed": false
   },
   "outputs": [],
   "source": [
    "for j in n:\n",
    "    print(j)\n",
    "    dfb[j]=adjclose(j)[j]\n",
    "        \n",
    "dfb"
   ]
  },
  {
   "cell_type": "code",
   "execution_count": null,
   "metadata": {
    "collapsed": false
   },
   "outputs": [],
   "source": [
    "dfb"
   ]
  },
  {
   "cell_type": "code",
   "execution_count": null,
   "metadata": {
    "collapsed": true
   },
   "outputs": [],
   "source": [
    "dfc=dfb.T"
   ]
  },
  {
   "cell_type": "code",
   "execution_count": null,
   "metadata": {
    "collapsed": true
   },
   "outputs": [],
   "source": [
    "dfc.to_csv('nyse_price2.csv')"
   ]
  },
  {
   "cell_type": "code",
   "execution_count": null,
   "metadata": {
    "collapsed": true
   },
   "outputs": [],
   "source": [
    "%matplotlib inline\n",
    "import matplotlib.pyplot as plt\n",
    "import re\n",
    "import json\n",
    "import requests\n",
    "from datetime import datetime\n",
    "import pandas as pd\n",
    "from pandas.io.json import json_normalize\n",
    "import xlrd"
   ]
  },
  {
   "cell_type": "code",
   "execution_count": null,
   "metadata": {
    "collapsed": true
   },
   "outputs": [],
   "source": [
    "def get_daily_per_morningstar(symbol='XNYS:IBM'):\n",
    "    # sessionKey 값\n",
    "    stock_ticker = symbol.split(':')[1]\n",
    "    url = 'http://quotes.morningstar.com/chart/stock/chart.action?t=' + stock_ticker\n",
    "    r = requests.get(url)\n",
    "    m = re.search('var sessionKey = \\\"([0-9A-F]+)\\\";', r.text)\n",
    "    if m == None:\n",
    "        return 'a'\n",
    "    session_key = m.groups()[0]\n",
    "    session_key\n",
    "\n",
    "    # tickers (PER 티커)\n",
    "    url = \"http://quotespeed.morningstar.com/getids.jsp?instid=MSRT&sdkver=2.4.4&symbol={}&qs_wsid={}\".format(symbol, session_key)\n",
    "    r = requests.get(url)\n",
    "    jo = json.loads(r.text) \n",
    "    if len(jo['Records']) == 1:\n",
    "        per_ticker = jo['Records'][0]['PID']\n",
    "        per_ticker\n",
    "    else:\n",
    "        return 'a'\n",
    "\n",
    "    str_today = datetime.today().strftime('%Y%m%d') # 오늘 날짜\n",
    "\n",
    "    # PER URL 생성 (daily, 10년) \n",
    "    url_tmpl = 'http://quotespeed.morningstar.com/ra/uniqueChartData?'\n",
    "    url_tmpl += 'f=d&country=USA&fields=HS0A2&sd=20070101&ed={}&tickers={}&cdt=2&instid=MSRT&sdkver=2.4.4&qs_wsid={}'\n",
    "    url = url_tmpl.format(str_today, per_ticker, session_key)\n",
    "\n",
    "    r = requests.get(url)\n",
    "    jo = json.loads(r.text)\n",
    "\n",
    "    df = json_normalize(jo['Data'][0]['DailyData']['HS0A2'])\n",
    "    if len(df) == 0:\n",
    "        return 'a'\n",
    "    df_per = df[['Date', 'Last']].copy()\n",
    "    df_per.columns = ['date', 'PER']\n",
    "    df_per['PER'] = df_per['PER'].astype(float)\n",
    "    df_per['date'] = pd.to_datetime(df_per['date'])\n",
    "    df_per.set_index('date', inplace=True)\n",
    "    df_per=df_per.rename(columns = {'PER' : symbol[5:]})\n",
    "\n",
    "    return df_per"
   ]
  },
  {
   "cell_type": "code",
   "execution_count": null,
   "metadata": {
    "collapsed": true
   },
   "outputs": [],
   "source": [
    "wb = xlrd.open_workbook(\"NYSE.xlsx\")\n",
    "ws = wb.sheet_by_index(0)\n",
    "ncol = ws.ncols\n",
    "nlow = ws.nrows\n",
    "\n",
    "n = ws.col_values(0)[1:]\n",
    "j=0\n",
    "df = get_daily_per_morningstar('XNYS:IBM')"
   ]
  },
  {
   "cell_type": "code",
   "execution_count": null,
   "metadata": {
    "collapsed": false
   },
   "outputs": [],
   "source": [
    "for j in n:\n",
    "    if j != \"ACST\" and len(get_daily_per_morningstar(str('XNYS:'+j))) != 1:\n",
    "        print(j)\n",
    "        df[j]=get_daily_per_morningstar(str('XNYS:'+j))[j]\n",
    "    else:\n",
    "        print('%s is none'%j)\n",
    "df\n"
   ]
  },
  {
   "cell_type": "code",
   "execution_count": null,
   "metadata": {
    "collapsed": false
   },
   "outputs": [],
   "source": [
    "dfd=df.T\n",
    "dfd"
   ]
  },
  {
   "cell_type": "code",
   "execution_count": null,
   "metadata": {
    "collapsed": true
   },
   "outputs": [],
   "source": [
    "dfd.to_csv('nyse_per2.csv')"
   ]
  },
  {
   "cell_type": "code",
   "execution_count": null,
   "metadata": {
    "collapsed": true
   },
   "outputs": [],
   "source": [
    "%matplotlib inline\n",
    "import matplotlib.pyplot as plt\n",
    "import re\n",
    "import json\n",
    "import requests\n",
    "from datetime import datetime\n",
    "import pandas as pd\n",
    "from pandas.io.json import json_normalize\n",
    "import xlrd"
   ]
  },
  {
   "cell_type": "code",
   "execution_count": null,
   "metadata": {
    "collapsed": true
   },
   "outputs": [],
   "source": [
    "def get_daily_pbr_morningstar(symbol='XNYS:IBM'):\n",
    "    # sessionKey 값\n",
    "    stock_ticker = symbol.split(':')[1]\n",
    "    url = 'http://quotes.morningstar.com/chart/stock/chart.action?t=' + stock_ticker\n",
    "    r = requests.get(url)\n",
    "    m = re.search('var sessionKey = \\\"([0-9A-F]+)\\\";', r.text)\n",
    "    if m == None:\n",
    "        return 'a'\n",
    "    session_key = m.groups()[0]\n",
    "    session_key\n",
    "\n",
    "    # tickers (PER 티커)\n",
    "    url = \"http://quotespeed.morningstar.com/getids.jsp?instid=MSRT&sdkver=2.4.4&symbol={}&qs_wsid={}\".format(symbol, session_key)\n",
    "    r = requests.get(url)\n",
    "    jo = json.loads(r.text) \n",
    "    if len(jo['Records']) == 1:\n",
    "        per_ticker = jo['Records'][0]['PID']\n",
    "        per_ticker\n",
    "    else:\n",
    "        return 'a'\n",
    "\n",
    "    str_today = datetime.today().strftime('%Y%m%d') # 오늘 날짜\n",
    "\n",
    "    # PER URL 생성 (daily, 10년) \n",
    "    url_tmpl = 'http://quotespeed.morningstar.com/ra/uniqueChartData?'\n",
    "    url_tmpl += 'f=d&country=USA&fields=HS0A0&sd=20070101&ed={}&tickers={}&cdt=2&instid=MSRT&sdkver=2.4.4&qs_wsid={}'\n",
    "    url = url_tmpl.format(str_today, per_ticker, session_key)\n",
    "\n",
    "    r = requests.get(url)\n",
    "    jo = json.loads(r.text)\n",
    "\n",
    "    df = json_normalize(jo['Data'][0]['DailyData']['HS0A0'])\n",
    "    if len(df) == 0:\n",
    "        return 'a'\n",
    "    df_pbr = df[['Date', 'Last']].copy()\n",
    "    df_pbr.columns = ['date', 'PBR']\n",
    "    df_pbr['PBR'] = df_pbr['PBR'].astype(float)\n",
    "    df_pbr['date'] = pd.to_datetime(df_pbr['date'])\n",
    "    df_pbr.set_index('date', inplace=True)\n",
    "    df_pbr=df_pbr.rename(columns = {'PBR' : symbol[5:]})\n",
    "\n",
    "    return df_pbr"
   ]
  },
  {
   "cell_type": "code",
   "execution_count": null,
   "metadata": {
    "collapsed": true
   },
   "outputs": [],
   "source": [
    "wb = xlrd.open_workbook(\"NYSE.xlsx\")\n",
    "ws = wb.sheet_by_index(0)\n",
    "ncol = ws.ncols\n",
    "nlow = ws.nrows\n",
    "\n",
    "n = ws.col_values(0)[1:]\n",
    "j=0\n",
    "df = get_daily_pbr_morningstar('XNYS:IBM')"
   ]
  },
  {
   "cell_type": "code",
   "execution_count": null,
   "metadata": {
    "collapsed": false
   },
   "outputs": [],
   "source": [
    "for j in n:\n",
    "    if len(get_daily_pbr_morningstar(str('XNYS:'+j))) != 1:\n",
    "        print(j)\n",
    "        df[j]=get_daily_pbr_morningstar(str('XNYS:'+j))[j]\n",
    "    else:\n",
    "        print('%s is none'%j)\n",
    "df"
   ]
  },
  {
   "cell_type": "code",
   "execution_count": null,
   "metadata": {
    "collapsed": false
   },
   "outputs": [],
   "source": [
    "df"
   ]
  },
  {
   "cell_type": "code",
   "execution_count": null,
   "metadata": {
    "collapsed": true
   },
   "outputs": [],
   "source": [
    "dfa=df.T\n",
    "dfa.to_csv('nyse_pbr.csv')"
   ]
  },
  {
   "cell_type": "code",
   "execution_count": null,
   "metadata": {
    "collapsed": true
   },
   "outputs": [],
   "source": []
  }
 ],
 "metadata": {
  "kernelspec": {
   "display_name": "Python 3",
   "language": "python",
   "name": "python3"
  },
  "language_info": {
   "codemirror_mode": {
    "name": "ipython",
    "version": 3
   },
   "file_extension": ".py",
   "mimetype": "text/x-python",
   "name": "python",
   "nbconvert_exporter": "python",
   "pygments_lexer": "ipython3",
   "version": "3.6.0"
  }
 },
 "nbformat": 4,
 "nbformat_minor": 2
}
