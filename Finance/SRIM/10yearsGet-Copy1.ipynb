{
 "cells": [
  {
   "cell_type": "markdown",
   "metadata": {
    "collapsed": true
   },
   "source": [
    "## 10년 이상의 재무제표 데이터 구축\n",
    "\n",
    "DART https://dart.fss.or.kr/\n",
    "* 예) https://goo.gl/qfcIXr (분기보고서)\n",
    "* 예) https://goo.gl/o1zUXM (요약연결재무정보)\n",
    "\n",
    "세종데이터 http://sejongdata.com\n",
    "* 예) http://sejongdata.com/business/bus_fr_01.html?&no=005930\n",
    "\n",
    "아이투자 http://itooza.com\n",
    "* http://goo.gl/qYfH5m (삼성전자 10년 재무제표)\n",
    "* 로그인 필요/ 유료"
   ]
  },
  {
   "cell_type": "markdown",
   "metadata": {},
   "source": [
    "## 재무제표 종류\n",
    "* 연결 재무제표 (Consolidated financial statements) / 별도 재무제표 (Separate financial statements) \n",
    "* IFRS (국제표준) / GAAP (IFRS도입 이전, 일반기업회계기준)"
   ]
  },
  {
   "cell_type": "code",
   "execution_count": 1,
   "metadata": {
    "collapsed": true
   },
   "outputs": [],
   "source": [
    "%matplotlib inline"
   ]
  },
  {
   "cell_type": "code",
   "execution_count": 2,
   "metadata": {
    "collapsed": true
   },
   "outputs": [],
   "source": [
    "import re\n",
    "import requests\n",
    "import pandas as pd\n",
    "from pandas_datareader import data, wb"
   ]
  },
  {
   "cell_type": "code",
   "execution_count": 3,
   "metadata": {
    "collapsed": false
   },
   "outputs": [
    {
     "ename": "ModuleNotFoundError",
     "evalue": "No module named 'mpld3'",
     "output_type": "error",
     "traceback": [
      "\u001b[0;31m---------------------------------------------------------------------------\u001b[0m",
      "\u001b[0;31mModuleNotFoundError\u001b[0m                       Traceback (most recent call last)",
      "\u001b[0;32m<ipython-input-3-7e73cfcb0cce>\u001b[0m in \u001b[0;36m<module>\u001b[0;34m()\u001b[0m\n\u001b[1;32m      1\u001b[0m \u001b[1;32mimport\u001b[0m \u001b[0mmatplotlib\u001b[0m\u001b[1;33m.\u001b[0m\u001b[0mpyplot\u001b[0m \u001b[1;32mas\u001b[0m \u001b[0mplt\u001b[0m\u001b[1;33m\u001b[0m\u001b[0m\n\u001b[1;32m      2\u001b[0m \u001b[1;32mimport\u001b[0m \u001b[0mmatplotlib\u001b[0m\u001b[1;33m.\u001b[0m\u001b[0mdates\u001b[0m \u001b[1;32mas\u001b[0m \u001b[0mmdates\u001b[0m\u001b[1;33m\u001b[0m\u001b[0m\n\u001b[0;32m----> 3\u001b[0;31m \u001b[1;32mimport\u001b[0m \u001b[0mmpld3\u001b[0m\u001b[1;33m\u001b[0m\u001b[0m\n\u001b[0m\u001b[1;32m      4\u001b[0m \u001b[1;33m\u001b[0m\u001b[0m\n\u001b[1;32m      5\u001b[0m \u001b[0mmpld3\u001b[0m\u001b[1;33m.\u001b[0m\u001b[0menable_notebook\u001b[0m\u001b[1;33m(\u001b[0m\u001b[1;33m)\u001b[0m\u001b[1;33m\u001b[0m\u001b[0m\n",
      "\u001b[0;31mModuleNotFoundError\u001b[0m: No module named 'mpld3'"
     ]
    }
   ],
   "source": [
    "import matplotlib.pyplot as plt \n",
    "import matplotlib.dates as mdates\n",
    "import mpld3\n",
    "\n",
    "mpld3.enable_notebook()"
   ]
  },
  {
   "cell_type": "markdown",
   "metadata": {},
   "source": [
    "## 세종데이터 ( sejongdata.com ) 분석\n",
    "\n",
    "http://sejongdata.com/business/bus_fr_01.html?&no=005930\n",
    "\n",
    "iframe 으로 구성되어 있다. 문서 단위를 다루므로 HTML 문서를 얻기 위해 IFRAME의 URL을 사용\n",
    "\n",
    "\n",
    "* 1995~2004 http://www.sejongdata.com/business_include_fr/table_main0_bus_01.html?no=005930&gubun=1\n",
    "* 2005~2014 http://www.sejongdata.com/business_include_fr/table_main0_bus_01.html?no=005930&gubun=2\n",
    "\n",
    "\n",
    "재무제표 종류별 consolidated (연결) / separate (별도) \n",
    "* http://www.sejongdata.com/business_include_fr/table_main0_bus_01.html?no=005930&gubun=2 주재무제표\n",
    "* http://www.sejongdata.com/business_include_fr/table_main1_bus_01.html?no=005930&gubun=2 K-IFRS(연결)\n",
    "* http://www.sejongdata.com/business_include_fr/table_main2_bus_01.html?no=005930&gubun=2 K-IFRS(별도)\n",
    "\n",
    "\n",
    "(단위 : 억원)"
   ]
  },
  {
   "cell_type": "code",
   "execution_count": null,
   "metadata": {
    "collapsed": false
   },
   "outputs": [],
   "source": [
    "url_1 = 'http://www.sejongdata.com/business_include_fr/table_main0_bus_01.html?no=005930&gubun=1'\n",
    "url_2 = 'http://www.sejongdata.com/business_include_fr/table_main0_bus_01.html?no=005930&gubun=2'\n",
    "\n",
    "df_1 = pd.read_html(url_1)[1]\n",
    "df_2 = pd.read_html(url_2)[1]\n",
    "\n",
    "df_1 = df_1.T\n",
    "df_2 = df_2.T"
   ]
  },
  {
   "cell_type": "code",
   "execution_count": null,
   "metadata": {
    "collapsed": false
   },
   "outputs": [],
   "source": [
    "df_1"
   ]
  },
  {
   "cell_type": "code",
   "execution_count": null,
   "metadata": {
    "collapsed": false
   },
   "outputs": [],
   "source": [
    "# 컬럼 이름 지정\n",
    "cols = ['년도', '매출액', '영업이익', '순이익', '연결순이익', '자산총계', '부채총계', '자본총계']\n",
    "df_1.columns = cols \n",
    "df_2.columns = cols\n"
   ]
  },
  {
   "cell_type": "code",
   "execution_count": null,
   "metadata": {
    "collapsed": false
   },
   "outputs": [],
   "source": [
    "# 첫번째 row 제거\n",
    "df_1 = df_1[1:]\n",
    "df_2 = df_2[1:]"
   ]
  },
  {
   "cell_type": "code",
   "execution_count": null,
   "metadata": {
    "collapsed": false
   },
   "outputs": [],
   "source": [
    "# df_1, df_2를 붙여서 새로운 df 생성 \n",
    "df = df_1.append(df_2)\n",
    "df"
   ]
  },
  {
   "cell_type": "code",
   "execution_count": null,
   "metadata": {
    "collapsed": false
   },
   "outputs": [],
   "source": [
    "import numpy as np\n",
    "\n",
    "# df['년도']\n",
    "# \"2014.12 (IFRS 연결)\" to \"2014-12\"\n",
    "df['년도'] = df['년도'].apply(lambda x: x.split(' ')[0].replace('.', '-'))\n",
    "df['년도'] = pd.to_datetime(df['년도'])\n",
    "\n",
    "\n",
    "# 타입을 object 에서 float 로 변환\n",
    "cols = ['매출액', '영업이익', '순이익', '연결순이익', '자산총계', '부채총계', '자본총계']\n",
    "df[cols] = df[cols].astype(float)"
   ]
  },
  {
   "cell_type": "code",
   "execution_count": null,
   "metadata": {
    "collapsed": false
   },
   "outputs": [],
   "source": [
    "df"
   ]
  },
  {
   "cell_type": "code",
   "execution_count": null,
   "metadata": {
    "collapsed": false
   },
   "outputs": [],
   "source": [
    "df = df.set_index('년도')"
   ]
  },
  {
   "cell_type": "code",
   "execution_count": null,
   "metadata": {
    "collapsed": false
   },
   "outputs": [],
   "source": [
    "fig, ax = plt.subplots(figsize=(12,4))\n",
    "ax.plot(df.index, df['매출액'])"
   ]
  },
  {
   "cell_type": "code",
   "execution_count": null,
   "metadata": {
    "collapsed": false
   },
   "outputs": [],
   "source": [
    "fig, ax = plt.subplots(figsize=(12,4))\n",
    "\n",
    "ax.bar(df.index, df['매출액'], 250, color='y', alpha=0.7)"
   ]
  },
  {
   "cell_type": "markdown",
   "metadata": {},
   "source": [
    "## 저장, 읽기 (csv)\n",
    "csv로 저장하기, 읽기"
   ]
  },
  {
   "cell_type": "code",
   "execution_count": null,
   "metadata": {
    "collapsed": true
   },
   "outputs": [],
   "source": [
    "df.to_csv('finstate_year_005930.csv')"
   ]
  },
  {
   "cell_type": "code",
   "execution_count": null,
   "metadata": {
    "collapsed": false
   },
   "outputs": [],
   "source": [
    "! head 10 finstate_year_005930.csv"
   ]
  },
  {
   "cell_type": "code",
   "execution_count": null,
   "metadata": {
    "collapsed": false
   },
   "outputs": [],
   "source": [
    "t_read = pd.read_csv('finstate_year_005930.csv', index_col='년도')\n",
    "t_read.head(10)"
   ]
  }
 ],
 "metadata": {
  "kernelspec": {
   "display_name": "Python 3",
   "language": "python",
   "name": "python3"
  },
  "language_info": {
   "codemirror_mode": {
    "name": "ipython",
    "version": 3
   },
   "file_extension": ".py",
   "mimetype": "text/x-python",
   "name": "python",
   "nbconvert_exporter": "python",
   "pygments_lexer": "ipython3",
   "version": "3.6.0"
  }
 },
 "nbformat": 4,
 "nbformat_minor": 0
}
