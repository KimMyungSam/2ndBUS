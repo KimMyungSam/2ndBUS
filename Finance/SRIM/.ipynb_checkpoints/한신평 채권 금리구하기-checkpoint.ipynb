{
 "cells": [
  {
   "cell_type": "markdown",
   "metadata": {},
   "source": [
    "##### 한신평 채권 수익률\n",
    "한국신용평가 홈페이지\n",
    "\n",
    "http://www.kisrating.com/\n",
    "\n",
    "신용등급 - 등급별 금리스프레드\n",
    "\n",
    "https://www.kisrating.com/ratingsStatistics/statics_spread.do"
   ]
  },
  {
   "cell_type": "code",
   "execution_count": 1,
   "metadata": {
    "collapsed": false,
    "scrolled": true
   },
   "outputs": [
    {
     "data": {
      "text/plain": [
       "8.59"
      ]
     },
     "execution_count": 1,
     "metadata": {},
     "output_type": "execute_result"
    }
   ],
   "source": [
    "import pandas as pd\n",
    "import requests\n",
    "from io import  StringIO\n",
    "\n",
    "imsi = '2017.06.05'\n",
    "\n",
    "url = 'https://www.kisrating.com/ratingsStatistics/statics_spread.do'\n",
    "\n",
    "data = {\n",
    "    'startDt':imsi\n",
    "}\n",
    "\n",
    "r = requests.post(url, data=data)\n",
    "dfs = pd.read_html(StringIO(r.text))\n",
    "df = dfs[0]\n",
    "df.set_index('구분', inplace=True)\n",
    "\n",
    "# Respected rate of return\n",
    "RRR = float(df.loc['BBB-', '5년'])\n",
    "RRR"
   ]
  },
  {
   "cell_type": "markdown",
   "metadata": {
    "collapsed": true
   },
   "source": [
    " <img src=\"bbb_5.png\">"
   ]
  }
 ],
 "metadata": {
  "kernelspec": {
   "display_name": "Python 3",
   "language": "python",
   "name": "python3"
  },
  "language_info": {
   "codemirror_mode": {
    "name": "ipython",
    "version": 3
   },
   "file_extension": ".py",
   "mimetype": "text/x-python",
   "name": "python",
   "nbconvert_exporter": "python",
   "pygments_lexer": "ipython3",
   "version": "3.6.0"
  }
 },
 "nbformat": 4,
 "nbformat_minor": 2
}
